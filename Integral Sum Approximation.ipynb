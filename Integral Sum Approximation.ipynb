{
 "cells": [
  {
   "cell_type": "code",
   "execution_count": 10,
   "metadata": {},
   "outputs": [],
   "source": [
    "%matplotlib inline"
   ]
  },
  {
   "cell_type": "code",
   "execution_count": 299,
   "metadata": {},
   "outputs": [],
   "source": [
    "import numpy as np\n",
    "import matplotlib.pyplot as plt\n",
    "from numba import njit\n",
    "from math import ceil, log\n",
    "import ipywidgets as widgets"
   ]
  },
  {
   "cell_type": "code",
   "execution_count": 300,
   "metadata": {
    "scrolled": false
   },
   "outputs": [
    {
     "data": {
      "image/png": "[encoded data removed]",
      "text/plain": [
       "<Figure size 432x288 with 1 Axes>"
      ]
     },
     "metadata": {
      "needs_background": "light"
     },
     "output_type": "display_data"
    }
   ],
   "source": [
    "@njit(parallel=True)\n",
    "def f(x):\n",
    "    return 1 / (1 + x)\n",
    "\n",
    "@njit(parallel=True)\n",
    "def realValue(a, b):\n",
    "    return log((1 + b) / (1 + a))\n",
    "\n",
    "x_neg = np.linspace(-10, -1.1, 100)\n",
    "x_pos = np.linspace(-0.9, 10, 100)\n",
    "y_neg = f(x_neg)\n",
    "y_pos = f(x_pos)\n",
    "\n",
    "ax = plt.gca()\n",
    "ax.spines['right'].set_color('none')\n",
    "ax.spines['top'].set_color('none')\n",
    "ax.xaxis.set_ticks_position('bottom')\n",
    "ax.spines['bottom'].set_position(('data',0))\n",
    "ax.yaxis.set_ticks_position('left')\n",
    "ax.spines['left'].set_position(('data',0))\n",
    "\n",
    "plt.xlim(-7.5, 7.5)\n",
    "plt.ylim(-7.5, 7.5)\n",
    "\n",
    "plt.plot(x_neg, y_neg, \"b\", label=\"f(x)\")\n",
    "plt.plot(x_pos, y_pos, \"b\")\n",
    "plt.axvline(-1, linestyle=\"dashed\", color=\"k\")\n",
    "\n",
    "plt.legend()\n",
    "plt.title(r\"$f(x)=\\frac{1}{1+x}$\", fontsize=20)\n",
    "fig = plt.gcf()"
   ]
  },
  {
   "cell_type": "markdown",
   "metadata": {},
   "source": [
    "### Metodo dei Punti Medi\n",
    "Sia $y=f(x)$ definita, continua e positiva o nulla in $[a, b]$<br>\n",
    "Suddividiamo l'intervallo $[a, b]$ in $n$ sottointervalli di ampiezza $h=\\frac{b-a}{n}$<br>\n",
    "Prendiamo in considerazione $n$ rettangoli di altezza pari al valore assunto dalla funzione nel punto medio di ogni intervallo<br>\n",
    "Approssimiamo l'area del trapezoide $T$ con la somma delle aree dei rettangoli:\n",
    "\\begin{align}\n",
    "A(T) \\simeq h \\cdot f(\\overline{x}_1) + h \\cdot f(\\overline{x}_2) + ... + h \\cdot f(\\overline{x}_i) = A(R_M)\n",
    "\\end{align}\n",
    "Dove $\\overline{x}_i$ è il punto medio di $[x_{i-1}, x_i]$<br>\n",
    "Se aumentiamo il numero di suddivisioni di $[a, b]$ otteniamo la formula generale:\n",
    "\\begin{align}\n",
    "A(T) \\simeq A(R_M) = h \\cdot \\sum_{i = 1}^{n} f(\\overline{x}_i)\n",
    "\\end{align}\n",
    "\\begin{align}\n",
    "h = \\frac{b-a}{n}\n",
    "\\end{align}\n",
    "\\begin{align}\n",
    "\\overline{x}_i = \\frac{x_{i-1} + x_i}{2}\n",
    "\\end{align}"
   ]
  },
  {
   "cell_type": "code",
   "execution_count": 331,
   "metadata": {},
   "outputs": [
    {
     "data": {
      "application/vnd.jupyter.widget-view+json": {
       "model_id": "3218816c25e942cda0ad95a1d6ba8677",
       "version_major": 2,
       "version_minor": 0
      },
      "text/plain": [
       "interactive(children=(FloatRangeSlider(value=(0.0, 1.0), description='$[a, b]:$', layout=Layout(width='50%')),…"
      ]
     },
     "metadata": {},
     "output_type": "display_data"
    }
   ],
   "source": [
    "@njit(parallel=True)\n",
    "def midpoint(i, n):\n",
    "    h = (i[1] - i[0]) / n\n",
    "    x = np.linspace(i[0], i[1], n + 1)\n",
    "    x_mid = (x[:-1] + x[1:]) / 2\n",
    "    s = np.sum(f(x_mid)) * h\n",
    "    print(\"Real Value:\\t\\t\", realValue(i[0], i[1]))\n",
    "    print(\"Approximated Value:\\t\", s)\n",
    "\n",
    "mid = widgets.interact_manual(\n",
    "    midpoint,\n",
    "    i=widgets.FloatRangeSlider(\n",
    "        min=0, \n",
    "        max=100, \n",
    "        value=[0, 1], \n",
    "        description=\"$[a, b]:$\",\n",
    "        layout=widgets.Layout(width=\"50%\")\n",
    "    ), \n",
    "    n=widgets.IntSlider(\n",
    "        min=1, \n",
    "        max=1e8, \n",
    "        value=10,\n",
    "        description=\"$n: $\",\n",
    "        layout=widgets.Layout(width=\"50%\")\n",
    "    )\n",
    ")"
   ]
  },
  {
   "cell_type": "markdown",
   "metadata": {},
   "source": [
    "### Metodo dei Trapezi\n",
    "Sia $y=f(x)$ definita, continua e positiva o nulla in $[a, b]$<br>\n",
    "Suddividiamo l'intervallo $[a, b]$ in $n$ sottoinsiemi e approssimiamo ogni arco con una funzione lineare.<br>\n",
    "L'integrale in questo modo è approssimato dalla somma delle aree di $n$ trapezi.<br>\n",
    "Indichiamo con $h = \\frac{b - a}{n}$ l'altezza dei trapezi, allora l'area di un trapezio di base $[x_{i-1}, x_i]$ è:\n",
    "\\begin{align}\n",
    "A_i = \\frac{\\left[f(x_i) + f(x_{i-1})\\right] \\cdot h}{2}\n",
    "\\end{align}\n",
    "Sommando le aree di tutti i trapezi otteniamo la formula composita:\n",
    "\\begin{align}\n",
    "A(T) \\simeq \\frac{h}{2} \\cdot \\sum_{i = 1}^{n}\\left[f(x_i) + f(x_{i - 1})\\right] = \\frac{h}{2} \\cdot \\left[f(a) + 2\\sum_{i = 1}^{n - 1}f(x_i) + f(b)\\right]\n",
    "\\end{align}\n",
    "\\begin{align}\n",
    "h = \\frac{b - a}{n}\n",
    "\\end{align}"
   ]
  },
  {
   "cell_type": "code",
   "execution_count": 332,
   "metadata": {},
   "outputs": [
    {
     "data": {
      "application/vnd.jupyter.widget-view+json": {
       "model_id": "244011385aef42e780ee260fd264f4ee",
       "version_major": 2,
       "version_minor": 0
      },
      "text/plain": [
       "interactive(children=(FloatRangeSlider(value=(0.0, 1.0), description='$[a, b]:$', layout=Layout(width='50%')),…"
      ]
     },
     "metadata": {},
     "output_type": "display_data"
    }
   ],
   "source": [
    "@njit(parallel=True)\n",
    "def trapezoid(i, n):\n",
    "    h = (i[1] - i[0]) / n\n",
    "    x = np.linspace(i[0], i[1], n + 1)\n",
    "    s = f(i[0]) + (2 * np.sum(f(x[1:-1]))) + f(i[1])\n",
    "    s *= h\n",
    "    s /= 2\n",
    "    print(\"Real Value:\\t\\t\", realValue(i[0], i[1]))\n",
    "    print(\"Approximated Value:\\t\", s)\n",
    "\n",
    "trap = widgets.interact_manual(\n",
    "    trapezoid,\n",
    "    i=widgets.FloatRangeSlider(\n",
    "        min=0, \n",
    "        max=100, \n",
    "        value=[0, 1], \n",
    "        description=\"$[a, b]:$\",\n",
    "        layout=widgets.Layout(width=\"50%\")\n",
    "    ), \n",
    "    n=widgets.IntSlider(\n",
    "        min=1, \n",
    "        max=1e8, \n",
    "        value=10,\n",
    "        description=\"$n: $\",\n",
    "        layout=widgets.Layout(width=\"50%\")\n",
    "    )\n",
    ")"
   ]
  },
  {
   "cell_type": "markdown",
   "metadata": {},
   "source": [
    "### Metodo di Cavalieri-Simpson\n",
    "Il metodo di Cavalieri-Simpson approssima la funzione con una funzione razionale intera di secondo grado $y = Ax^2 + Bx + C$.<br>\n",
    "I coefficienti $A, B, C$ possono essere determinati connoscendo 3 punti di passaggio della parabola.<br>\n",
    "Dividendo l'intervallo di integrazione $[a, b]$ in 2 parti si ottengono i 3 punti per cui passa la parabola: $P(x_0, y_0), Q(x_1, y_1), R(x_2, y_2)$ con $a = x_0$ e $b = x_2$<br>\n",
    "Per semplificare i calcoli possiamo traslare la parabola in modo che $Q$ si trovi sull'asse $y$.<br>\n",
    "L'area cercata è:\n",
    "\\begin{align}\n",
    "\\int_{-h}^{h}\\left(Ax^2 + Bx + C\\right)dx = \\int_{-h}^{h}Ax^2dx + \\int_{-h}^{h}Bxdx + \\int_{-h}^{h}Cdx = \\left[A\\frac{x^3}{3}\\right]^h_{-h} + \\left[B\\frac{x^2}{2}\\right]^h_{-h} + \\left[Cx\\right]^h_{-h} = 2A\\frac{h^3}{3} + 2Ch \n",
    "\\end{align}\n",
    "Indichiamo con $y = g(x)$ l'equazione della parabola con $Q$ appartenente all'asse $y$.<br>\n",
    "\\begin{align}\n",
    "P(-h, y_0) \\longrightarrow g(-h) = Ah^2 - Bh + C \\longrightarrow Ah^2 - Bh + C = y_0\n",
    "\\end{align}\n",
    "\\begin{align}\n",
    "R(h, y_2) \\longrightarrow g(h) = Ah^2 + Bh + C \\longrightarrow Ah^2 + Bh + C = y_2\n",
    "\\end{align}\n",
    "\\begin{align}\n",
    "y_0 + y_2 = 2Ah^2 + 2C\n",
    "\\end{align}\n",
    "\\begin{align}\n",
    "Q(0, y_1) \\longrightarrow g(0) = C \\longrightarrow C = y_1\n",
    "\\end{align}\n",
    "\\begin{align}\n",
    "y_0 + y_2 = 2Ah^2 + 2y_1 \\Rightarrow 2Ah^2 = y_0 - 2y_1 + y_2\n",
    "\\end{align}<br>\n",
    "Area cercata $= 2A\\frac{h^3}{3} + 2Ch = \\frac{h}{3}\\left[2Ah^2 + 6C\\right] = \\frac{h}{3}\\left[y_0 - 2y_1 + y_2 + 6y_1\\right] = \\frac{h}{3}\\left[y_0 + 4y_1 + y_2\\right]$<br>\n",
    "Suddividendo l'intervallo $[a, b]$ in $n$ sottointervalli e applicando questa formula ad ogni coppia di intervalli consecutivi, otteniamo la formula composita:\n",
    "\\begin{align}\n",
    "A(T) \\simeq \\frac{h}{3}\\left(y_0 + 4y_1 + y_2\\right) + \\frac{h}{3}\\left(y_2 + 4y_3 + y_4\\right) + ... + \\frac{h}{3}\\left(y_{(2\\lceil\\frac{n}{2}\\rceil - 2)} + 4y_{(2\\lceil\\frac{n}{2}\\rceil - 1)} + y_{(2\\lceil\\frac{n}{2}\\rceil)}\\right) = \\frac{h}{3}\\left[y_0 + 4y_1 + 2y_2 + 4y_3 + 2y_4 + ... + 2y_{(2\\lceil\\frac{n}{2}\\rceil - 2)} + 4y_{(2\\lceil\\frac{n}{2}\\rceil - 1)} + 2y_{(2\\lceil\\frac{n}{2}\\rceil)}\\right] = \\frac{h}{3}\\left[a + 4\\sum_{i = 1}^{\\lceil\\frac{n}{2}\\rceil}y_{2i - 1} + 2\\sum_{i = 1}^{\\lceil\\frac{n}{2}\\rceil - 1}y_{2i} + b\\right]\n",
    "\\end{align}"
   ]
  },
  {
   "cell_type": "code",
   "execution_count": 333,
   "metadata": {},
   "outputs": [
    {
     "data": {
      "application/vnd.jupyter.widget-view+json": {
       "model_id": "5cf73660c5914ef1a6b23e1e18dc5b8f",
       "version_major": 2,
       "version_minor": 0
      },
      "text/plain": [
       "interactive(children=(FloatRangeSlider(value=(0.0, 1.0), description='$[a, b]:$', layout=Layout(width='50%')),…"
      ]
     },
     "metadata": {},
     "output_type": "display_data"
    }
   ],
   "source": [
    "@njit(parallel=True)\n",
    "def simpson(i, n):\n",
    "    n = (2 * ceil(n / 2))\n",
    "    h = (i[1] - i[0]) / n\n",
    "    x = np.linspace(i[0], i[1], n + 1)\n",
    "    s = f(i[0]) + (4 * np.sum(f(x[1::2]))) + (2 * np.sum(f(x[2:-1:2]))) + f(i[1])\n",
    "    s *= h\n",
    "    s /= 3\n",
    "    print(\"Real Value:\\t\\t\", realValue(i[0], i[1]))\n",
    "    print(\"Approximated Value:\\t\", s)\n",
    "    \n",
    "simp = widgets.interact_manual(\n",
    "    simpson,\n",
    "    i=widgets.FloatRangeSlider(\n",
    "        min=0, \n",
    "        max=100, \n",
    "        value=[0, 1], \n",
    "        description=\"$[a, b]:$\",\n",
    "        layout=widgets.Layout(width=\"50%\")\n",
    "    ), \n",
    "    n=widgets.IntSlider(\n",
    "        min=2, \n",
    "        max=1e8, \n",
    "        step=2, \n",
    "        value=10,\n",
    "        description=\"$n: $\",\n",
    "        layout=widgets.Layout(width=\"50%\")\n",
    "    )\n",
    ")"
   ]
  }
 ],
 "metadata": {
  "kernelspec": {
   "display_name": "Python 3",
   "language": "python",
   "name": "python3"
  },
  "language_info": {
   "codemirror_mode": {
    "name": "ipython",
    "version": 3
   },
   "file_extension": ".py",
   "mimetype": "text/x-python",
   "name": "python",
   "nbconvert_exporter": "python",
   "pygments_lexer": "ipython3",
   "version": "3.9.1"
  }
 },
 "nbformat": 4,
 "nbformat_minor": 4
}
