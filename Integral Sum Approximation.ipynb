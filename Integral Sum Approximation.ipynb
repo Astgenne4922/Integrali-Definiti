{
 "cells": [
  {
   "cell_type": "code",
   "execution_count": 1,
   "metadata": {},
   "outputs": [],
   "source": [
    "%matplotlib inline"
   ]
  },
  {
   "cell_type": "code",
   "execution_count": 2,
   "metadata": {},
   "outputs": [],
   "source": [
    "import numpy as np\n",
    "import matplotlib.pyplot as plt\n",
    "from numba import njit\n",
    "from math import ceil, log\n",
    "import ipywidgets as widgets"
   ]
  },
  {
   "cell_type": "code",
   "execution_count": 3,
   "metadata": {
    "scrolled": false
   },
   "outputs": [
    {
     "data": {
      "image/png": "[encoded data removed]",
      "text/plain": [
       "<Figure size 432x288 with 1 Axes>"
      ]
     },
     "metadata": {
      "needs_background": "light"
     },
     "output_type": "display_data"
    }
   ],
   "source": [
    "@njit(parallel=True)\n",
    "def f(x):\n",
    "    return 1 / (1 + x)\n",
    "\n",
    "@njit(parallel=True)\n",
    "def realValue(a, b):\n",
    "    return log((1 + b) / (1 + a))\n",
    "\n",
    "x_neg = np.linspace(-10, -1.1, 100)\n",
    "x_pos = np.linspace(-0.9, 10, 100)\n",
    "y_neg = f(x_neg)\n",
    "y_pos = f(x_pos)\n",
    "\n",
    "ax = plt.gca()\n",
    "ax.spines['right'].set_color('none')\n",
    "ax.spines['top'].set_color('none')\n",
    "ax.xaxis.set_ticks_position('bottom')\n",
    "ax.spines['bottom'].set_position(('data',0))\n",
    "ax.yaxis.set_ticks_position('left')\n",
    "ax.spines['left'].set_position(('data',0))\n",
    "\n",
    "plt.xlim(-7.5, 7.5)\n",
    "plt.ylim(-7.5, 7.5)\n",
    "\n",
    "plt.plot(x_neg, y_neg, \"b\", label=\"f(x)\")\n",
    "plt.plot(x_pos, y_pos, \"b\")\n",
    "plt.axvline(-1, linestyle=\"dashed\", color=\"k\")\n",
    "\n",
    "plt.legend()\n",
    "plt.title(r\"$f(x)=\\frac{1}{1+x}$\", fontsize=20)\n",
    "fig = plt.gcf()"
   ]
  },
  {
   "cell_type": "markdown",
   "metadata": {},
   "source": [
    "### Metodo dei Punti Medi\n",
    "Sia $y=f(x)$ definita, continua e positiva o nulla in $[a, b]$<br>\n",
    "Suddividiamo l'intervallo $[a, b]$ in $n$ sottointervalli di ampiezza $h=\\frac{b-a}{n}$<br>\n",
    "Prendiamo in considerazione $n$ rettangoli di altezza pari al valore assunto dalla funzione nel punto medio di ogni intervallo<br>\n",
    "Approssimiamo l'area del trapezoide $T$ con la somma delle aree dei rettangoli:\n",
    "\\begin{align}\n",
    "A(T) \\simeq h \\cdot f(\\overline{x}_1) + h \\cdot f(\\overline{x}_2) + ... + h \\cdot f(\\overline{x}_i) = A(R_M)\n",
    "\\end{align}\n",
    "Dove $\\overline{x}_i$ è il punto medio di $[x_{i-1}, x_i]$<br>\n",
    "Se aumentiamo il numero di suddivisioni di $[a, b]$ otteniamo la formula generale:\n",
    "\\begin{align}\n",
    "A(T) \\simeq A(R_M) = h \\cdot \\sum_{i = 1}^{n} f(\\overline{x}_i)\n",
    "\\end{align}\n",
    "\\begin{align}\n",
    "h = \\frac{b-a}{n}\n",
    "\\end{align}\n",
    "\\begin{align}\n",
    "\\overline{x}_i = \\frac{x_{i-1} + x_i}{2}\n",
    "\\end{align}"
   ]
  },
  {
   "cell_type": "code",
   "execution_count": 4,
   "metadata": {},
   "outputs": [
    {
     "data": {
      "application/vnd.jupyter.widget-view+json": {
       "model_id": "ed68ee64b1ea4e4a8f04b472e579408c",
       "version_major": 2,
       "version_minor": 0
      },
      "text/plain": [
       "interactive(children=(FloatRangeSlider(value=(0.0, 1.0), description='$[a, b]:$', layout=Layout(width='50%')),…"
      ]
     },
     "metadata": {},
     "output_type": "display_data"
    }
   ],
   "source": [
    "@njit(parallel=True)\n",
    "def midpoint(i, n):\n",
    "    h = (i[1] - i[0]) / n\n",
    "    x = np.linspace(i[0], i[1], n + 1)\n",
    "    x_mid = (x[:-1] + x[1:]) / 2\n",
    "    s = np.sum(f(x_mid)) * h\n",
    "    print(\"Real Value:\\t\\t\", realValue(i[0], i[1]))\n",
    "    print(\"Approximated Value:\\t\", s)\n",
    "\n",
    "mid = widgets.interact_manual(\n",
    "    midpoint,\n",
    "    i=widgets.FloatRangeSlider(\n",
    "        min=0, \n",
    "        max=100, \n",
    "        value=[0, 1], \n",
    "        description=\"$[a, b]:$\",\n",
    "        layout=widgets.Layout(width=\"50%\")\n",
    "    ), \n",
    "    n=widgets.IntSlider(\n",
    "        min=1, \n",
    "        max=1e8, \n",
    "        value=10,\n",
    "        description=\"$n: $\",\n",
    "        layout=widgets.Layout(width=\"50%\")\n",
    "    )\n",
    ")"
   ]
  },
  {
   "cell_type": "markdown",
   "metadata": {},
   "source": [
    "### Metodo dei Trapezi\n",
    "Sia $y=f(x)$ definita, continua e positiva o nulla in $[a, b]$<br>\n",
    "Suddividiamo l'intervallo $[a, b]$ in $n$ sottoinsiemi e approssimiamo ogni arco con una funzione lineare.<br>\n",
    "L'integrale in questo modo è approssimato dalla somma delle aree di $n$ trapezi.<br>\n",
    "Indichiamo con $h = \\frac{b - a}{n}$ l'altezza dei trapezi, allora l'area di un trapezio di base $[x_{i-1}, x_i]$ è:\n",
    "\\begin{align}\n",
    "A_i = \\frac{\\left[f(x_i) + f(x_{i-1})\\right] \\cdot h}{2}\n",
    "\\end{align}\n",
    "Sommando le aree di tutti i trapezi otteniamo la formula composita:\n",
    "\\begin{align}\n",
    "A(T) \\simeq \\frac{h}{2} \\cdot \\sum_{i = 1}^{n}\\left[f(x_i) + f(x_{i - 1})\\right] = \\frac{h}{2} \\cdot \\left[f(a) + 2\\sum_{i = 1}^{n - 1}f(x_i) + f(b)\\right]\n",
    "\\end{align}\n",
    "\\begin{align}\n",
    "h = \\frac{b - a}{n}\n",
    "\\end{align}"
   ]
  },
  {
   "cell_type": "code",
   "execution_count": 5,
   "metadata": {},
   "outputs": [
    {
     "data": {
      "application/vnd.jupyter.widget-view+json": {
       "model_id": "14e2c188cdd94ae0b0b2ba6302ab8dd7",
       "version_major": 2,
       "version_minor": 0
      },
      "text/plain": [
       "interactive(children=(FloatRangeSlider(value=(0.0, 1.0), description='$[a, b]:$', layout=Layout(width='50%')),…"
      ]
     },
     "metadata": {},
     "output_type": "display_data"
    }
   ],
   "source": [
    "@njit(parallel=True)\n",
    "def trapezoid(i, n):\n",
    "    h = (i[1] - i[0]) / n\n",
    "    x = np.linspace(i[0], i[1], n + 1)\n",
    "    s = f(i[0]) + (2 * np.sum(f(x[1:-1]))) + f(i[1])\n",
    "    s *= h\n",
    "    s /= 2\n",
    "    print(\"Real Value:\\t\\t\", realValue(i[0], i[1]))\n",
    "    print(\"Approximated Value:\\t\", s)\n",
    "\n",
    "trap = widgets.interact_manual(\n",
    "    trapezoid,\n",
    "    i=widgets.FloatRangeSlider(\n",
    "        min=0, \n",
    "        max=100, \n",
    "        value=[0, 1], \n",
    "        description=\"$[a, b]:$\",\n",
    "        layout=widgets.Layout(width=\"50%\")\n",
    "    ), \n",
    "    n=widgets.IntSlider(\n",
    "        min=1, \n",
    "        max=1e8, \n",
    "        value=10,\n",
    "        description=\"$n: $\",\n",
    "        layout=widgets.Layout(width=\"50%\")\n",
    "    )\n",
    ")"
   ]
  },
  {
   "cell_type": "markdown",
   "metadata": {},
   "source": [
    "### Metodo di Cavalieri-Simpson\n",
    "Il metodo di Cavalieri-Simpson approssima la funzione con una funzione razionale intera di secondo grado $y = Ax^2 + Bx + C$.<br>\n",
    "I coefficienti $A, B, C$ possono essere determinati connoscendo 3 punti di passaggio della parabola.<br>\n",
    "Dividendo l'intervallo di integrazione $[a, b]$ in 2 parti si ottengono i 3 punti per cui passa la parabola: $P(x_0, y_0), Q(x_1, y_1), R(x_2, y_2)$ con $a = x_0$ e $b = x_2$<br>\n",
    "Per semplificare i calcoli possiamo traslare la parabola in modo che $Q$ si trovi sull'asse $y$.<br>\n",
    "L'area cercata è:\n",
    "\\begin{align}\n",
    "\\int_{-h}^{h}\\left(Ax^2 + Bx + C\\right)dx = \\int_{-h}^{h}Ax^2dx + \\int_{-h}^{h}Bxdx + \\int_{-h}^{h}Cdx = \\left[A\\frac{x^3}{3}\\right]^h_{-h} + \\left[B\\frac{x^2}{2}\\right]^h_{-h} + \\left[Cx\\right]^h_{-h} = 2A\\frac{h^3}{3} + 2Ch \n",
    "\\end{align}\n",
    "Indichiamo con $y = g(x)$ l'equazione della parabola con $Q$ appartenente all'asse $y$.<br>\n",
    "\\begin{align}\n",
    "P(-h, y_0) \\longrightarrow g(-h) = Ah^2 - Bh + C \\longrightarrow Ah^2 - Bh + C = y_0\n",
    "\\end{align}\n",
    "\\begin{align}\n",
    "R(h, y_2) \\longrightarrow g(h) = Ah^2 + Bh + C \\longrightarrow Ah^2 + Bh + C = y_2\n",
    "\\end{align}\n",
    "\\begin{align}\n",
    "y_0 + y_2 = 2Ah^2 + 2C\n",
    "\\end{align}\n",
    "\\begin{align}\n",
    "Q(0, y_1) \\longrightarrow g(0) = C \\longrightarrow C = y_1\n",
    "\\end{align}\n",
    "\\begin{align}\n",
    "y_0 + y_2 = 2Ah^2 + 2y_1 \\Rightarrow 2Ah^2 = y_0 - 2y_1 + y_2\n",
    "\\end{align}<br>\n",
    "Area cercata $= 2A\\frac{h^3}{3} + 2Ch = \\frac{h}{3}\\left[2Ah^2 + 6C\\right] = \\frac{h}{3}\\left[y_0 - 2y_1 + y_2 + 6y_1\\right] = \\frac{h}{3}\\left[y_0 + 4y_1 + y_2\\right]$<br>\n",
    "Suddividendo l'intervallo $[a, b]$ in $n$ sottointervalli e applicando questa formula ad ogni coppia di intervalli consecutivi, otteniamo la formula composita:\n",
    "\\begin{align}\n",
    "A(T) \\simeq \\frac{h}{3}\\left(y_0 + 4y_1 + y_2\\right) + \\frac{h}{3}\\left(y_2 + 4y_3 + y_4\\right) + ... + \\frac{h}{3}\\left(y_{(2\\lceil\\frac{n}{2}\\rceil - 2)} + 4y_{(2\\lceil\\frac{n}{2}\\rceil - 1)} + y_{(2\\lceil\\frac{n}{2}\\rceil)}\\right) = \\frac{h}{3}\\left[y_0 + 4y_1 + 2y_2 + 4y_3 + 2y_4 + ... + 2y_{(2\\lceil\\frac{n}{2}\\rceil - 2)} + 4y_{(2\\lceil\\frac{n}{2}\\rceil - 1)} + 2y_{(2\\lceil\\frac{n}{2}\\rceil)}\\right] = \\frac{h}{3}\\left[a + 4\\sum_{i = 1}^{\\lceil\\frac{n}{2}\\rceil}y_{2i - 1} + 2\\sum_{i = 1}^{\\lceil\\frac{n}{2}\\rceil - 1}y_{2i} + b\\right]\n",
    "\\end{align}"
   ]
  },
  {
   "cell_type": "code",
   "execution_count": 6,
   "metadata": {},
   "outputs": [
    {
     "data": {
      "application/vnd.jupyter.widget-view+json": {
       "model_id": "31e93926a5794fc5b4fad8d0a42e277b",
       "version_major": 2,
       "version_minor": 0
      },
      "text/plain": [
       "interactive(children=(FloatRangeSlider(value=(0.0, 1.0), description='$[a, b]:$', layout=Layout(width='50%')),…"
      ]
     },
     "metadata": {},
     "output_type": "display_data"
    }
   ],
   "source": [
    "@njit(parallel=True)\n",
    "def simpson(i, n):\n",
    "    n = (2 * ceil(n / 2))\n",
    "    h = (i[1] - i[0]) / n\n",
    "    x = np.linspace(i[0], i[1], n + 1)\n",
    "    s = f(i[0]) + (4 * np.sum(f(x[1::2]))) + (2 * np.sum(f(x[2:-1:2]))) + f(i[1])\n",
    "    s *= h\n",
    "    s /= 3\n",
    "    print(\"Real Value:\\t\\t\", realValue(i[0], i[1]))\n",
    "    print(\"Approximated Value:\\t\", s)\n",
    "    \n",
    "simp = widgets.interact_manual(\n",
    "    simpson,\n",
    "    i=widgets.FloatRangeSlider(\n",
    "        min=0, \n",
    "        max=100, \n",
    "        value=[0, 1], \n",
    "        description=\"$[a, b]:$\",\n",
    "        layout=widgets.Layout(width=\"50%\")\n",
    "    ), \n",
    "    n=widgets.IntSlider(\n",
    "        min=2, \n",
    "        max=1e8, \n",
    "        step=2, \n",
    "        value=10,\n",
    "        description=\"$n: $\",\n",
    "        layout=widgets.Layout(width=\"50%\")\n",
    "    )\n",
    ")"
   ]
  }
 ],
 "metadata": {
  "kernelspec": {
   "display_name": "Python 3",
   "language": "python",
   "name": "python3"
  },
  "language_info": {
   "codemirror_mode": {
    "name": "ipython",
    "version": 3
   },
   "file_extension": ".py",
   "mimetype": "text/x-python",
   "name": "python",
   "nbconvert_exporter": "python",
   "pygments_lexer": "ipython3",
   "version": "3.9.1"
  },
  "widgets": {
   "application/vnd.jupyter.widget-state+json": {
    "state": {
     "0117a64ffc7d46c7a1237ac5243c639d": {
      "model_module": "@jupyter-widgets/controls",
      "model_module_version": "1.5.0",
      "model_name": "IntSliderModel",
      "state": {
       "description": "a",
       "layout": "IPY_MODEL_ca65472388c044c5b3e707812a43f4c6",
       "style": "IPY_MODEL_c6f6920454ec42179a43e74f5ea7c275"
      }
     },
     "025870c49315451e9d29bdb73580b40d": {
      "model_module": "@jupyter-widgets/base",
      "model_module_version": "1.2.0",
      "model_name": "LayoutModel",
      "state": {}
     },
     "02ac9a5fef294ccc945552615e37de62": {
      "model_module": "@jupyter-widgets/base",
      "model_module_version": "1.2.0",
      "model_name": "LayoutModel",
      "state": {}
     },
     "035fc28f66cc4a74ac21484d8c6962eb": {
      "model_module": "@jupyter-widgets/controls",
      "model_module_version": "1.5.0",
      "model_name": "ButtonModel",
      "state": {
       "description": "Run Interact",
       "layout": "IPY_MODEL_9fb10e2b1a22455cbaba2d20146baabd",
       "style": "IPY_MODEL_59983a86b7d148fabf30a0b426bac183"
      }
     },
     "03ae310078a84af5a06c2ad0c95df980": {
      "model_module": "@jupyter-widgets/controls",
      "model_module_version": "1.5.0",
      "model_name": "SliderStyleModel",
      "state": {
       "description_width": ""
      }
     },
     "04490536ed7a4970a3242f0af1bc1e1b": {
      "model_module": "@jupyter-widgets/controls",
      "model_module_version": "1.5.0",
      "model_name": "ButtonModel",
      "state": {
       "description": "Run Interact",
       "layout": "IPY_MODEL_ad326f13c69a4d30a0a5510b1120a79d",
       "style": "IPY_MODEL_0510eed8b5a94236860e12b2b0baee23"
      }
     },
     "0510eed8b5a94236860e12b2b0baee23": {
      "model_module": "@jupyter-widgets/controls",
      "model_module_version": "1.5.0",
      "model_name": "ButtonStyleModel",
      "state": {}
     },
     "059e95cc5fc74a9bb0bb1e1c31e22273": {
      "model_module": "@jupyter-widgets/controls",
      "model_module_version": "1.5.0",
      "model_name": "IntSliderModel",
      "state": {
       "description": "a",
       "layout": "IPY_MODEL_6c7ea9a84d46431b9d811f96102c558d",
       "style": "IPY_MODEL_a28ea7c8527d472d99d22375c0cb6343"
      }
     },
     "059ff6b1b97c42e7a0ad72581a4bc161": {
      "model_module": "@jupyter-widgets/output",
      "model_module_version": "1.0.0",
      "model_name": "OutputModel",
      "state": {
       "layout": "IPY_MODEL_9d3d20e4a6e54345b3ae3c20a9cb1168",
       "outputs": [
        {
         "data": {
          "text/plain": "0.6928353604099602"
         },
         "metadata": {},
         "output_type": "display_data"
        }
       ]
      }
     },
     "062a3eadbf6745cdaefa8b0027dd8d8a": {
      "model_module": "@jupyter-widgets/controls",
      "model_module_version": "1.5.0",
      "model_name": "SliderStyleModel",
      "state": {
       "description_width": ""
      }
     },
     "062a8b6947ee46bebf9c7a88a93e76e5": {
      "model_module": "@jupyter-widgets/controls",
      "model_module_version": "1.5.0",
      "model_name": "ButtonStyleModel",
      "state": {}
     },
     "069a7ad4572846fd82bdb57bc5f49a13": {
      "model_module": "@jupyter-widgets/base",
      "model_module_version": "1.2.0",
      "model_name": "LayoutModel",
      "state": {}
     },
     "0858081f878d497989150e80a68541ed": {
      "model_module": "@jupyter-widgets/controls",
      "model_module_version": "1.5.0",
      "model_name": "ButtonStyleModel",
      "state": {}
     },
     "08716c8d224948f4bfe52c3beccb17ad": {
      "model_module": "@jupyter-widgets/base",
      "model_module_version": "1.2.0",
      "model_name": "LayoutModel",
      "state": {}
     },
     "090b242829f14c51ab50219c44b5107b": {
      "model_module": "@jupyter-widgets/controls",
      "model_module_version": "1.5.0",
      "model_name": "SliderStyleModel",
      "state": {
       "description_width": ""
      }
     },
     "095d0a86eb2541639793ebc42b56ceda": {
      "model_module": "@jupyter-widgets/controls",
      "model_module_version": "1.5.0",
      "model_name": "ButtonModel",
      "state": {
       "description": "Run Interact",
       "layout": "IPY_MODEL_4820eada043548cba81c2ff7286ca58f",
       "style": "IPY_MODEL_099eacc23d174ec2bb14c01134708f95"
      }
     },
     "099eacc23d174ec2bb14c01134708f95": {
      "model_module": "@jupyter-widgets/controls",
      "model_module_version": "1.5.0",
      "model_name": "ButtonStyleModel",
      "state": {}
     },
     "0a3f173af08241968ca97bc0c829f007": {
      "model_module": "@jupyter-widgets/controls",
      "model_module_version": "1.5.0",
      "model_name": "IntSliderModel",
      "state": {
       "description": "a",
       "layout": "IPY_MODEL_f8ccc5e26e404968bc33b93e10f0489a",
       "style": "IPY_MODEL_645fd76326ac4bd8a12539e354a9958c",
       "value": 50
      }
     },
     "0a55845ec5e8431cb160c8f41aa9c16f": {
      "model_module": "@jupyter-widgets/base",
      "model_module_version": "1.2.0",
      "model_name": "LayoutModel",
      "state": {}
     },
     "0ad91deff1f44f5386bf2b6cb647f483": {
      "model_module": "@jupyter-widgets/base",
      "model_module_version": "1.2.0",
      "model_name": "LayoutModel",
      "state": {}
     },
     "0b02e67bebd64fe1a3f668a0eb445580": {
      "model_module": "@jupyter-widgets/base",
      "model_module_version": "1.2.0",
      "model_name": "LayoutModel",
      "state": {}
     },
     "0b9bfc247d394de299a39ff30a2e32df": {
      "model_module": "@jupyter-widgets/controls",
      "model_module_version": "1.5.0",
      "model_name": "IntSliderModel",
      "state": {
       "description": "a",
       "layout": "IPY_MODEL_0a55845ec5e8431cb160c8f41aa9c16f",
       "max": 1,
       "style": "IPY_MODEL_bc464a7a9b3f4bab8b19071027197ceb"
      }
     },
     "0be2f38e337a46948f4edc1e5d5f0485": {
      "model_module": "@jupyter-widgets/controls",
      "model_module_version": "1.5.0",
      "model_name": "ButtonModel",
      "state": {
       "description": "Run Interact",
       "layout": "IPY_MODEL_963add4296a24e1ca60c1aa8610c81c4",
       "style": "IPY_MODEL_ea87908b0dea4ca187ae3e6bf1bd7a87"
      }
     },
     "0c3703fac4b2478198656aa189cc9d47": {
      "model_module": "@jupyter-widgets/controls",
      "model_module_version": "1.5.0",
      "model_name": "IntSliderModel",
      "state": {
       "description": "b",
       "layout": "IPY_MODEL_bc7a4651baf34f39b6036fc283c589f9",
       "style": "IPY_MODEL_10517ec45d8a465e883c6df12556b88d",
       "value": 1
      }
     },
     "0ca604ebdf1c4c1aa76762ef24c5e0b9": {
      "model_module": "@jupyter-widgets/base",
      "model_module_version": "1.2.0",
      "model_name": "LayoutModel",
      "state": {}
     },
     "0cb239e52a044569ae84006580073db4": {
      "model_module": "@jupyter-widgets/base",
      "model_module_version": "1.2.0",
      "model_name": "LayoutModel",
      "state": {}
     },
     "0cc552be1c0d4e0797d615a0c345aaa6": {
      "model_module": "@jupyter-widgets/base",
      "model_module_version": "1.2.0",
      "model_name": "LayoutModel",
      "state": {}
     },
     "0cef99ec8ba6410e8f492221735de442": {
      "model_module": "@jupyter-widgets/controls",
      "model_module_version": "1.5.0",
      "model_name": "ButtonModel",
      "state": {
       "description": "Run Interact",
       "layout": "IPY_MODEL_c7784a5f4c3449df91c60c9ddd529205",
       "style": "IPY_MODEL_eb76d900175a4f018b58cdf777bdf853"
      }
     },
     "0cf896f4a968417890340ce5156e175a": {
      "model_module": "@jupyter-widgets/controls",
      "model_module_version": "1.5.0",
      "model_name": "SliderStyleModel",
      "state": {
       "description_width": ""
      }
     },
     "0dd2adc555d04903bb2c4c8b2b50a5c4": {
      "model_module": "@jupyter-widgets/controls",
      "model_module_version": "1.5.0",
      "model_name": "ButtonModel",
      "state": {
       "description": "Run Interact",
       "layout": "IPY_MODEL_b5cd726e4b204c5f82dbae49a18d2912",
       "style": "IPY_MODEL_2f9fc5c5ca52428aa9ee1e4073b6a7ef"
      }
     },
     "0dd8a89053aa41869ed00ff22c8f1fd2": {
      "model_module": "@jupyter-widgets/controls",
      "model_module_version": "1.5.0",
      "model_name": "ButtonModel",
      "state": {
       "description": "Run Interact",
       "layout": "IPY_MODEL_3731cddb599f4eb6b963f417424d8d86",
       "style": "IPY_MODEL_a60a72c3a83c4f7ca16ea2903b1ffa92"
      }
     },
     "0e1fcdad9dfe42229089cfdf6c07d1b9": {
      "model_module": "@jupyter-widgets/base",
      "model_module_version": "1.2.0",
      "model_name": "LayoutModel",
      "state": {}
     },
     "10517ec45d8a465e883c6df12556b88d": {
      "model_module": "@jupyter-widgets/controls",
      "model_module_version": "1.5.0",
      "model_name": "SliderStyleModel",
      "state": {
       "description_width": ""
      }
     },
     "111a74a3c91d4e779132826e45a086bb": {
      "model_module": "@jupyter-widgets/base",
      "model_module_version": "1.2.0",
      "model_name": "LayoutModel",
      "state": {}
     },
     "1295b62f993848deb325f6eb8ea96781": {
      "model_module": "@jupyter-widgets/controls",
      "model_module_version": "1.5.0",
      "model_name": "SliderStyleModel",
      "state": {
       "description_width": ""
      }
     },
     "130b867375f34f9aac1d85bc90dcc2f3": {
      "model_module": "@jupyter-widgets/base",
      "model_module_version": "1.2.0",
      "model_name": "LayoutModel",
      "state": {}
     },
     "132a057986a54a9c829dc02e34b4fe69": {
      "model_module": "@jupyter-widgets/output",
      "model_module_version": "1.0.0",
      "model_name": "OutputModel",
      "state": {
       "layout": "IPY_MODEL_f8bdfbe1409c44db913d9f6e8a46b36a"
      }
     },
     "1338b2ccd1a3412cb5c5771606d5f3df": {
      "model_module": "@jupyter-widgets/controls",
      "model_module_version": "1.5.0",
      "model_name": "ButtonModel",
      "state": {
       "description": "Run Interact",
       "layout": "IPY_MODEL_e7a9a5644e7b4a549cf23c05e1f39613",
       "style": "IPY_MODEL_984fdfc36b04481791bf400dc5688586"
      }
     },
     "157ebb57319d4a3bbb2eecb10d9206a9": {
      "model_module": "@jupyter-widgets/controls",
      "model_module_version": "1.5.0",
      "model_name": "VBoxModel",
      "state": {
       "_dom_classes": [
        "widget-interact"
       ],
       "layout": "IPY_MODEL_ff5a4f1dfd5f4f82a1ab2acfaffd7a01"
      }
     },
     "15889c5a29044952909299b213a9af7e": {
      "model_module": "@jupyter-widgets/controls",
      "model_module_version": "1.5.0",
      "model_name": "FloatRangeSliderModel",
      "state": {
       "_model_name": "FloatRangeSliderModel",
       "_view_name": "FloatRangeSliderView",
       "description": "$[a, b]:$",
       "layout": "IPY_MODEL_be9bbb828c434cf1b5ad04f4d497dbe0",
       "step": 0.1,
       "style": "IPY_MODEL_44f346335c254554a347b8078269dc12",
       "value": [
        0,
        1
       ]
      }
     },
     "15b1bac6b310449fa7ac917d1c3dc306": {
      "model_module": "@jupyter-widgets/controls",
      "model_module_version": "1.5.0",
      "model_name": "ButtonStyleModel",
      "state": {}
     },
     "1617e0a766894049b2a1b1c9536563a8": {
      "model_module": "@jupyter-widgets/controls",
      "model_module_version": "1.5.0",
      "model_name": "ButtonModel",
      "state": {
       "description": "Run Interact",
       "layout": "IPY_MODEL_5e803e3f92ad40ed935f5d1244815b0c",
       "style": "IPY_MODEL_e4dacfc3b33b4a12b1d64856d7d2d793"
      }
     },
     "16a08d4b516a46fe807edfb504b14935": {
      "model_module": "@jupyter-widgets/base",
      "model_module_version": "1.2.0",
      "model_name": "LayoutModel",
      "state": {}
     },
     "16aa149adfb641a7a27066d0f41abf8d": {
      "model_module": "@jupyter-widgets/controls",
      "model_module_version": "1.5.0",
      "model_name": "VBoxModel",
      "state": {
       "_dom_classes": [
        "widget-interact"
       ],
       "children": [
        "IPY_MODEL_dd4ac66077b040318b770283993cfe27",
        "IPY_MODEL_86e1f6851d3341beaaee984ca3c7c415",
        "IPY_MODEL_ba0bb8e8362e4abbbc952e6b1645d713",
        "IPY_MODEL_e9a51d0bfc574161913054615a3bba29",
        "IPY_MODEL_ae91784a44764583aac5e4351e9a2063"
       ],
       "layout": "IPY_MODEL_6bbfdef1e39542f3b3150338165b1f3a"
      }
     },
     "16dae23184d34fc18b9413b2c28b99b8": {
      "model_module": "@jupyter-widgets/controls",
      "model_module_version": "1.5.0",
      "model_name": "IntSliderModel",
      "state": {
       "description": "$n: $",
       "layout": "IPY_MODEL_92b0801097204b66b496b1349dab8d1d",
       "max": 100000000,
       "min": 2,
       "step": 2,
       "style": "IPY_MODEL_652729068f6948dda88f0a5df073b85f",
       "value": 10
      }
     },
     "170bd131d25147268ad08f58690e3c3a": {
      "model_module": "@jupyter-widgets/controls",
      "model_module_version": "1.5.0",
      "model_name": "FloatRangeSliderModel",
      "state": {
       "_model_name": "FloatRangeSliderModel",
       "_view_name": "FloatRangeSliderView",
       "description": "i",
       "layout": "IPY_MODEL_e211440d690747feac8e96a43a8f3575",
       "step": 0.1,
       "style": "IPY_MODEL_8f47dea69d5740b68c25fc463ede8943",
       "value": [
        0,
        100
       ]
      }
     },
     "17967fa22987404eab72e22652c084b6": {
      "model_module": "@jupyter-widgets/controls",
      "model_module_version": "1.5.0",
      "model_name": "FloatRangeSliderModel",
      "state": {
       "_model_name": "FloatRangeSliderModel",
       "_view_name": "FloatRangeSliderView",
       "description": "$[a, b]$:",
       "layout": "IPY_MODEL_dc6bf67d704042babae70de87450e11a",
       "step": 0.1,
       "style": "IPY_MODEL_2ff92654cd554348ab3619f246d7f52c",
       "value": [
        0,
        1
       ]
      }
     },
     "17c1024b402047389255547932c44e39": {
      "model_module": "@jupyter-widgets/base",
      "model_module_version": "1.2.0",
      "model_name": "LayoutModel",
      "state": {
       "width": "50%"
      }
     },
     "17fb1a2344a1402999952dc45a4aad43": {
      "model_module": "@jupyter-widgets/controls",
      "model_module_version": "1.5.0",
      "model_name": "VBoxModel",
      "state": {
       "_dom_classes": [
        "widget-interact"
       ],
       "children": [
        "IPY_MODEL_f6c2fdcdf3c1408da1bccd6c953cf768",
        "IPY_MODEL_8160cabfd80146d9b6d2e732f429d933",
        "IPY_MODEL_49cbe20915044647985ff2d98280f073",
        "IPY_MODEL_b5b397579d86471088f65644b6b1748d",
        "IPY_MODEL_6f402a4f8e0a421a891153b1e16b382c"
       ],
       "layout": "IPY_MODEL_0cc552be1c0d4e0797d615a0c345aaa6"
      }
     },
     "18a9bf1030f94502bcc8777f42556b50": {
      "model_module": "@jupyter-widgets/controls",
      "model_module_version": "1.5.0",
      "model_name": "SliderStyleModel",
      "state": {
       "description_width": ""
      }
     },
     "18bb47e430a04c39b660f70d26fdd1ae": {
      "model_module": "@jupyter-widgets/controls",
      "model_module_version": "1.5.0",
      "model_name": "SliderStyleModel",
      "state": {
       "description_width": ""
      }
     },
     "18c146c69f9343f5a8a62bb37490025a": {
      "model_module": "@jupyter-widgets/controls",
      "model_module_version": "1.5.0",
      "model_name": "SliderStyleModel",
      "state": {
       "description_width": ""
      }
     },
     "1a17125be07f4576982cc35fffc42bb2": {
      "model_module": "@jupyter-widgets/base",
      "model_module_version": "1.2.0",
      "model_name": "LayoutModel",
      "state": {}
     },
     "1a19404906b84ad58b6dd43a76bcf965": {
      "model_module": "@jupyter-widgets/controls",
      "model_module_version": "1.5.0",
      "model_name": "IntSliderModel",
      "state": {
       "description": "a",
       "layout": "IPY_MODEL_6d1b91f7ddd34a82aab54e15d2b86dc0",
       "style": "IPY_MODEL_4d039120513748c584844088fca48e4a"
      }
     },
     "1a28f9b333d14631983b88983e5bd02c": {
      "model_module": "@jupyter-widgets/base",
      "model_module_version": "1.2.0",
      "model_name": "LayoutModel",
      "state": {
       "width": "50%"
      }
     },
     "1b0d100f881a4779b0c6ea8032c74f29": {
      "model_module": "@jupyter-widgets/controls",
      "model_module_version": "1.5.0",
      "model_name": "IntSliderModel",
      "state": {
       "description": "n",
       "layout": "IPY_MODEL_30db32b588eb4ee098be7e56bdede3c7",
       "max": 100000000,
       "min": 1,
       "style": "IPY_MODEL_88f7c55e55484ba4ba6ca812c0bdae78",
       "value": 10
      }
     },
     "1b184549a264477ab8c217a92e80a897": {
      "model_module": "@jupyter-widgets/base",
      "model_module_version": "1.2.0",
      "model_name": "LayoutModel",
      "state": {}
     },
     "1c9a0b2a537c4d65a7d12a1cb8fe0eb4": {
      "model_module": "@jupyter-widgets/controls",
      "model_module_version": "1.5.0",
      "model_name": "SliderStyleModel",
      "state": {
       "description_width": ""
      }
     },
     "1cebf6a1bef442538f78ad69d358ee68": {
      "model_module": "@jupyter-widgets/base",
      "model_module_version": "1.2.0",
      "model_name": "LayoutModel",
      "state": {}
     },
     "1e25f21979c04a228edeec11999ed4b8": {
      "model_module": "@jupyter-widgets/controls",
      "model_module_version": "1.5.0",
      "model_name": "SliderStyleModel",
      "state": {
       "description_width": ""
      }
     },
     "1ee8359cd8d148e59cef890f637d2d2b": {
      "model_module": "@jupyter-widgets/controls",
      "model_module_version": "1.5.0",
      "model_name": "IntSliderModel",
      "state": {
       "description": "$Subdivisions:$",
       "layout": "IPY_MODEL_72626b7142114a37af55d3390c5a2ed3",
       "max": 100000000,
       "min": 2,
       "step": 2,
       "style": "IPY_MODEL_f02d8cee342f4d03b3ae986aaa836264",
       "value": 10
      }
     },
     "1f13fa7f4a03492582836680ed87537e": {
      "model_module": "@jupyter-widgets/output",
      "model_module_version": "1.0.0",
      "model_name": "OutputModel",
      "state": {
       "layout": "IPY_MODEL_71170feeb9be4c58aba95d7a4981d139",
       "outputs": [
        {
         "name": "stdout",
         "output_type": "stream",
         "text": "Real Value:\t 0.6931471805599453\nApproximated Value:\t 0.6928353604099602\n"
        }
       ]
      }
     },
     "1f44bea606624a3eaadd368c1531d826": {
      "model_module": "@jupyter-widgets/base",
      "model_module_version": "1.2.0",
      "model_name": "LayoutModel",
      "state": {}
     },
     "1f8addfbcae4498dae7d222e9cf82211": {
      "model_module": "@jupyter-widgets/base",
      "model_module_version": "1.2.0",
      "model_name": "LayoutModel",
      "state": {}
     },
     "1fc01fa5ab2745558fd74b5a8b457105": {
      "model_module": "@jupyter-widgets/controls",
      "model_module_version": "1.5.0",
      "model_name": "IntSliderModel",
      "state": {
       "description": "n",
       "layout": "IPY_MODEL_1f44bea606624a3eaadd368c1531d826",
       "max": 30,
       "min": -10,
       "style": "IPY_MODEL_a770561fcc424dc7adaacfe1cc3ccfa3",
       "value": 10
      }
     },
     "201fa955334f4dde9c64cc6d7cb5f24b": {
      "model_module": "@jupyter-widgets/controls",
      "model_module_version": "1.5.0",
      "model_name": "ButtonModel",
      "state": {
       "description": "Run Interact",
       "layout": "IPY_MODEL_8d74d2504c694054bdb6e1db95c79923",
       "style": "IPY_MODEL_77d54516e57b48f9812d1af5c5abd9d0"
      }
     },
     "207379b6690240b1a0795aaff630ce33": {
      "model_module": "@jupyter-widgets/controls",
      "model_module_version": "1.5.0",
      "model_name": "ButtonModel",
      "state": {
       "description": "Run Interact",
       "layout": "IPY_MODEL_ed890d5d53bd4374b2f6408f71ef4e4d",
       "style": "IPY_MODEL_c06750a562124cca95237f00eb7c25b4"
      }
     },
     "20c21c573b76467e9632ee6dca26fd9c": {
      "model_module": "@jupyter-widgets/output",
      "model_module_version": "1.0.0",
      "model_name": "OutputModel",
      "state": {
       "layout": "IPY_MODEL_de706901967c407c9c0f2c003e2101bc"
      }
     },
     "210f184ec8ca4577bd2739cd35dbc4b7": {
      "model_module": "@jupyter-widgets/base",
      "model_module_version": "1.2.0",
      "model_name": "LayoutModel",
      "state": {}
     },
     "2231366829c24be3ba719bf48d0185fa": {
      "model_module": "@jupyter-widgets/base",
      "model_module_version": "1.2.0",
      "model_name": "LayoutModel",
      "state": {}
     },
     "224f96715e414cbcafed78ce9ebbabf2": {
      "model_module": "@jupyter-widgets/base",
      "model_module_version": "1.2.0",
      "model_name": "LayoutModel",
      "state": {}
     },
     "2329c2355ced46de92ab85a79bd8bc9b": {
      "model_module": "@jupyter-widgets/controls",
      "model_module_version": "1.5.0",
      "model_name": "IntSliderModel",
      "state": {
       "layout": "IPY_MODEL_89ef9e70c50e424da54d272dbbf0cf08",
       "style": "IPY_MODEL_4e7eabfde47c4e639ed0cadeeaf6e670",
       "value": 100
      }
     },
     "244011385aef42e780ee260fd264f4ee": {
      "model_module": "@jupyter-widgets/controls",
      "model_module_version": "1.5.0",
      "model_name": "VBoxModel",
      "state": {
       "_dom_classes": [
        "widget-interact"
       ],
       "children": [
        "IPY_MODEL_4718e1fde7c2424c901dbed97765110d",
        "IPY_MODEL_cfdb2fc72b534e1080dd3b03af4e3222",
        "IPY_MODEL_095d0a86eb2541639793ebc42b56ceda",
        "IPY_MODEL_a3e57a06ad644b9f94976ac532e806c2"
       ],
       "layout": "IPY_MODEL_587e63c3a9154a3ea6586e75c317cc0f"
      }
     },
     "254b1ee36ced45dbaf1d288389866fd5": {
      "model_module": "@jupyter-widgets/output",
      "model_module_version": "1.0.0",
      "model_name": "OutputModel",
      "state": {
       "layout": "IPY_MODEL_0e1fcdad9dfe42229089cfdf6c07d1b9",
       "outputs": [
        {
         "name": "stdout",
         "output_type": "stream",
         "text": "Real Value:\t\t 0.6931471805599453\nApproximated Value:\t 0.69314718055991\n"
        }
       ]
      }
     },
     "254b6ab6bd984d1fbfb03d53dec3ab42": {
      "model_module": "@jupyter-widgets/base",
      "model_module_version": "1.2.0",
      "model_name": "LayoutModel",
      "state": {}
     },
     "25c66bcfee8246458ac94af8ef34422b": {
      "model_module": "@jupyter-widgets/output",
      "model_module_version": "1.0.0",
      "model_name": "OutputModel",
      "state": {
       "layout": "IPY_MODEL_35f94d41559e4ccb99109ae6ecd3725c"
      }
     },
     "262b8316563140a39d05043423f0550e": {
      "model_module": "@jupyter-widgets/base",
      "model_module_version": "1.2.0",
      "model_name": "LayoutModel",
      "state": {}
     },
     "26415ad947234bcf87a2d1f6e1a0cd91": {
      "model_module": "@jupyter-widgets/controls",
      "model_module_version": "1.5.0",
      "model_name": "SliderStyleModel",
      "state": {
       "description_width": ""
      }
     },
     "265c07f735b5463381530ef14999aa9d": {
      "model_module": "@jupyter-widgets/controls",
      "model_module_version": "1.5.0",
      "model_name": "SliderStyleModel",
      "state": {
       "description_width": ""
      }
     },
     "269f4f6665204cb28e1291f60fd16309": {
      "model_module": "@jupyter-widgets/controls",
      "model_module_version": "1.5.0",
      "model_name": "ButtonStyleModel",
      "state": {}
     },
     "286d9eadbf29483a887b0a54f7eee92b": {
      "model_module": "@jupyter-widgets/controls",
      "model_module_version": "1.5.0",
      "model_name": "IntSliderModel",
      "state": {
       "description": "n",
       "layout": "IPY_MODEL_c5d02fcf9b5443afbe15f147c8cdfe0e",
       "max": 100000000,
       "min": 1,
       "style": "IPY_MODEL_3213f4071d8c48eb90907aecbfcb1dab",
       "value": 10
      }
     },
     "2ae2a6da20d44ad69040b6f65dbc58a9": {
      "model_module": "@jupyter-widgets/controls",
      "model_module_version": "1.5.0",
      "model_name": "VBoxModel",
      "state": {
       "_dom_classes": [
        "widget-interact"
       ],
       "children": [
        "IPY_MODEL_c6efba9bde6e4512bac96dd5ac194219",
        "IPY_MODEL_dac1f5d5e2414487b3c17f569cfc99fc",
        "IPY_MODEL_79bb76598c64450a93d5059c54ba3bca",
        "IPY_MODEL_132a057986a54a9c829dc02e34b4fe69"
       ],
       "layout": "IPY_MODEL_5b5b9dfbd76949f0b2ce6c59c6cf3fe8"
      }
     },
     "2ba3712bb35448b9af8804d068217fd9": {
      "model_module": "@jupyter-widgets/base",
      "model_module_version": "1.2.0",
      "model_name": "LayoutModel",
      "state": {}
     },
     "2beb33815b0d4467914a66c3b41e1fd2": {
      "model_module": "@jupyter-widgets/controls",
      "model_module_version": "1.5.0",
      "model_name": "SliderStyleModel",
      "state": {
       "description_width": ""
      }
     },
     "2ce84367cf7c4a84aefcd9bb385b11b2": {
      "model_module": "@jupyter-widgets/base",
      "model_module_version": "1.2.0",
      "model_name": "LayoutModel",
      "state": {}
     },
     "2d7f86cd79eb4208a0506309b0ac03a5": {
      "model_module": "@jupyter-widgets/controls",
      "model_module_version": "1.5.0",
      "model_name": "VBoxModel",
      "state": {
       "_dom_classes": [
        "widget-interact"
       ],
       "children": [
        "IPY_MODEL_f56878cf6371431fab93774ed87ea560",
        "IPY_MODEL_acb42216eb3a4714af7baf115fb20dad",
        "IPY_MODEL_c77796ca0d5347ebba55e89ee17b1ff5",
        "IPY_MODEL_d7cde54ea9f9456ba72a556af5f3fd7c",
        "IPY_MODEL_b3970ad535aa496ea8620bc8edcd6a99"
       ],
       "layout": "IPY_MODEL_cc8692df73594963b9783dab8782bd2c"
      }
     },
     "2d9ef8465c594f7a897bd5e3e432a474": {
      "model_module": "@jupyter-widgets/controls",
      "model_module_version": "1.5.0",
      "model_name": "IntSliderModel",
      "state": {
       "description": "n",
       "layout": "IPY_MODEL_455bc8611e55408296c54aa16202836e",
       "max": 100000000,
       "min": 1,
       "style": "IPY_MODEL_f70a7022ffb34968bed5dc44250ca47a",
       "value": 10
      }
     },
     "2e3d9c007b2243b69f1dd8fff687d490": {
      "model_module": "@jupyter-widgets/base",
      "model_module_version": "1.2.0",
      "model_name": "LayoutModel",
      "state": {}
     },
     "2f2ad799d61d460ba3ff712ff29eab6e": {
      "model_module": "@jupyter-widgets/controls",
      "model_module_version": "1.5.0",
      "model_name": "IntSliderModel",
      "state": {
       "description": "n",
       "layout": "IPY_MODEL_a760f3d9bead4b99b7af7fccbef5d4f2",
       "max": 100000000,
       "min": 1,
       "style": "IPY_MODEL_c1a5f6b1b31e4eef8a8da450493bd88c",
       "value": 10
      }
     },
     "2f9fc5c5ca52428aa9ee1e4073b6a7ef": {
      "model_module": "@jupyter-widgets/controls",
      "model_module_version": "1.5.0",
      "model_name": "ButtonStyleModel",
      "state": {}
     },
     "2fb7c49be714440fab9cb45b61bcd08b": {
      "model_module": "@jupyter-widgets/controls",
      "model_module_version": "1.5.0",
      "model_name": "IntSliderModel",
      "state": {
       "description": "$n: $",
       "layout": "IPY_MODEL_e090076a168c46c58c4ca0938a90391d",
       "max": 100000000,
       "min": 2,
       "step": 2,
       "style": "IPY_MODEL_2beb33815b0d4467914a66c3b41e1fd2",
       "value": 12
      }
     },
     "2ff92654cd554348ab3619f246d7f52c": {
      "model_module": "@jupyter-widgets/controls",
      "model_module_version": "1.5.0",
      "model_name": "SliderStyleModel",
      "state": {
       "description_width": ""
      }
     },
     "30bd766033bf4eb491a92bf8d23efb83": {
      "model_module": "@jupyter-widgets/controls",
      "model_module_version": "1.5.0",
      "model_name": "IntSliderModel",
      "state": {
       "description": "$n: $",
       "layout": "IPY_MODEL_eacc1813de8345fc9c527c6b61565d17",
       "max": 100000000,
       "min": 1,
       "style": "IPY_MODEL_265c07f735b5463381530ef14999aa9d",
       "value": 10
      }
     },
     "30d578ad182545409f314991c8fdddcc": {
      "model_module": "@jupyter-widgets/output",
      "model_module_version": "1.0.0",
      "model_name": "OutputModel",
      "state": {
       "layout": "IPY_MODEL_dd309f39bfb24b83b6d4c1b64c616bb8",
       "outputs": [
        {
         "data": {
          "text/plain": "0.0"
         },
         "metadata": {},
         "output_type": "display_data"
        }
       ]
      }
     },
     "30db32b588eb4ee098be7e56bdede3c7": {
      "model_module": "@jupyter-widgets/base",
      "model_module_version": "1.2.0",
      "model_name": "LayoutModel",
      "state": {}
     },
     "3196ea42824f40b6b81bb37bc49c9931": {
      "model_module": "@jupyter-widgets/controls",
      "model_module_version": "1.5.0",
      "model_name": "IntSliderModel",
      "state": {
       "description": "b",
       "layout": "IPY_MODEL_0ad91deff1f44f5386bf2b6cb647f483",
       "style": "IPY_MODEL_77ca1bb93afc469a83efc926b665ef3a",
       "value": 1
      }
     },
     "3213f4071d8c48eb90907aecbfcb1dab": {
      "model_module": "@jupyter-widgets/controls",
      "model_module_version": "1.5.0",
      "model_name": "SliderStyleModel",
      "state": {
       "description_width": ""
      }
     },
     "3218816c25e942cda0ad95a1d6ba8677": {
      "model_module": "@jupyter-widgets/controls",
      "model_module_version": "1.5.0",
      "model_name": "VBoxModel",
      "state": {
       "_dom_classes": [
        "widget-interact"
       ],
       "children": [
        "IPY_MODEL_c5a7578e990a47b5ab56f3bc073d8756",
        "IPY_MODEL_8c4dc2d0ed334f6a897e43bd2b03cd92",
        "IPY_MODEL_6cd3da3cff2045fea11d24ed51e2288b",
        "IPY_MODEL_f024ea6f68e34eff99498e95c62e5160"
       ],
       "layout": "IPY_MODEL_9d75719732974f9a8725335aa3c34093"
      }
     },
     "327726f8d79c45cb9508f08732fc27a6": {
      "model_module": "@jupyter-widgets/controls",
      "model_module_version": "1.5.0",
      "model_name": "IntSliderModel",
      "state": {
       "description": "n",
       "layout": "IPY_MODEL_2231366829c24be3ba719bf48d0185fa",
       "max": 100000000,
       "min": 1,
       "style": "IPY_MODEL_ca7b96a9b3f04aeb9fc49ee5c2588c54",
       "value": 10
      }
     },
     "338968ce1ee144b8b61d4ff1c7c7f5fc": {
      "model_module": "@jupyter-widgets/base",
      "model_module_version": "1.2.0",
      "model_name": "LayoutModel",
      "state": {}
     },
     "33c195eba15442a79a6efbdd135353b7": {
      "model_module": "@jupyter-widgets/controls",
      "model_module_version": "1.5.0",
      "model_name": "IntSliderModel",
      "state": {
       "description": "n",
       "layout": "IPY_MODEL_58bb2f6e965c414d94a58c2453a4f08e",
       "max": 100000000,
       "min": 2,
       "step": 2,
       "style": "IPY_MODEL_77487ec4f053461a93f8f933583b3cda",
       "value": 10
      }
     },
     "33e9fe02807044d3b3a1280b5472f4ef": {
      "model_module": "@jupyter-widgets/base",
      "model_module_version": "1.2.0",
      "model_name": "LayoutModel",
      "state": {}
     },
     "33f839b004b9445cbaeb47236769434c": {
      "model_module": "@jupyter-widgets/controls",
      "model_module_version": "1.5.0",
      "model_name": "IntSliderModel",
      "state": {
       "layout": "IPY_MODEL_e080e7abc8be41e781d9f3f292f4e0bf",
       "max": 100000000,
       "style": "IPY_MODEL_eb5f58d4d771490a80612765dd149619",
       "value": 100000000
      }
     },
     "3521cc48168243239534fe45c8a4a400": {
      "model_module": "@jupyter-widgets/base",
      "model_module_version": "1.2.0",
      "model_name": "LayoutModel",
      "state": {}
     },
     "35f94d41559e4ccb99109ae6ecd3725c": {
      "model_module": "@jupyter-widgets/base",
      "model_module_version": "1.2.0",
      "model_name": "LayoutModel",
      "state": {}
     },
     "361148a9286f4c7fba78aea3b0737c0a": {
      "model_module": "@jupyter-widgets/base",
      "model_module_version": "1.2.0",
      "model_name": "LayoutModel",
      "state": {}
     },
     "36455b43673c4fab8f01f3b4805acb88": {
      "model_module": "@jupyter-widgets/controls",
      "model_module_version": "1.5.0",
      "model_name": "SliderStyleModel",
      "state": {
       "description_width": ""
      }
     },
     "364baa59c58b40ca896d0555d0cd3976": {
      "model_module": "@jupyter-widgets/controls",
      "model_module_version": "1.5.0",
      "model_name": "FloatRangeSliderModel",
      "state": {
       "_model_name": "FloatRangeSliderModel",
       "_view_name": "FloatRangeSliderView",
       "description": "$[a, b]:$",
       "layout": "IPY_MODEL_796f9c1be3e24a67b613183cf9bd088c",
       "step": 0.1,
       "style": "IPY_MODEL_18bb47e430a04c39b660f70d26fdd1ae",
       "value": [
        0,
        29.4
       ]
      }
     },
     "36f5ffaf88624d2ebb44884dc3941588": {
      "model_module": "@jupyter-widgets/output",
      "model_module_version": "1.0.0",
      "model_name": "OutputModel",
      "state": {
       "layout": "IPY_MODEL_08716c8d224948f4bfe52c3beccb17ad",
       "outputs": [
        {
         "ename": "UnsupportedError",
         "evalue": "Failed in nopython mode pipeline (step: nopython rewrites)\n\u001b[1mNumba's print() function implementation does not support keyword arguments.\n\u001b[1m\nFile \"<ipython-input-304-9236824dfa48>\", line 7:\u001b[0m\n\u001b[1mdef midpoint(a, b, n):\n    <source elided>\n    s = np.sum(f(x_mid))\n\u001b[1m    print(\"Real Value: \", sep=\"\")\n\u001b[0m    \u001b[1m^\u001b[0m\u001b[0m\n\u001b[0m",
         "output_type": "error",
         "traceback": [
          "\u001b[1;31m---------------------------------------------------------------------------\u001b[0m",
          "\u001b[1;31mUnsupportedError\u001b[0m                          Traceback (most recent call last)",
          "\u001b[1;32m~\\AppData\\Local\\Programs\\Python\\Python39\\lib\\site-packages\\ipywidgets\\widgets\\interaction.py\u001b[0m in \u001b[0;36mupdate\u001b[1;34m(self, *args)\u001b[0m\n\u001b[0;32m    254\u001b[0m                     \u001b[0mvalue\u001b[0m \u001b[1;33m=\u001b[0m \u001b[0mwidget\u001b[0m\u001b[1;33m.\u001b[0m\u001b[0mget_interact_value\u001b[0m\u001b[1;33m(\u001b[0m\u001b[1;33m)\u001b[0m\u001b[1;33m\u001b[0m\u001b[1;33m\u001b[0m\u001b[0m\n\u001b[0;32m    255\u001b[0m                     \u001b[0mself\u001b[0m\u001b[1;33m.\u001b[0m\u001b[0mkwargs\u001b[0m\u001b[1;33m[\u001b[0m\u001b[0mwidget\u001b[0m\u001b[1;33m.\u001b[0m\u001b[0m_kwarg\u001b[0m\u001b[1;33m]\u001b[0m \u001b[1;33m=\u001b[0m \u001b[0mvalue\u001b[0m\u001b[1;33m\u001b[0m\u001b[1;33m\u001b[0m\u001b[0m\n\u001b[1;32m--> 256\u001b[1;33m                 \u001b[0mself\u001b[0m\u001b[1;33m.\u001b[0m\u001b[0mresult\u001b[0m \u001b[1;33m=\u001b[0m \u001b[0mself\u001b[0m\u001b[1;33m.\u001b[0m\u001b[0mf\u001b[0m\u001b[1;33m(\u001b[0m\u001b[1;33m**\u001b[0m\u001b[0mself\u001b[0m\u001b[1;33m.\u001b[0m\u001b[0mkwargs\u001b[0m\u001b[1;33m)\u001b[0m\u001b[1;33m\u001b[0m\u001b[1;33m\u001b[0m\u001b[0m\n\u001b[0m\u001b[0;32m    257\u001b[0m                 \u001b[0mshow_inline_matplotlib_plots\u001b[0m\u001b[1;33m(\u001b[0m\u001b[1;33m)\u001b[0m\u001b[1;33m\u001b[0m\u001b[1;33m\u001b[0m\u001b[0m\n\u001b[0;32m    258\u001b[0m                 \u001b[1;32mif\u001b[0m \u001b[0mself\u001b[0m\u001b[1;33m.\u001b[0m\u001b[0mauto_display\u001b[0m \u001b[1;32mand\u001b[0m \u001b[0mself\u001b[0m\u001b[1;33m.\u001b[0m\u001b[0mresult\u001b[0m \u001b[1;32mis\u001b[0m \u001b[1;32mnot\u001b[0m \u001b[1;32mNone\u001b[0m\u001b[1;33m:\u001b[0m\u001b[1;33m\u001b[0m\u001b[1;33m\u001b[0m\u001b[0m\n",
          "\u001b[1;32m~\\AppData\\Local\\Programs\\Python\\Python39\\lib\\site-packages\\numba\\core\\dispatcher.py\u001b[0m in \u001b[0;36m_compile_for_args\u001b[1;34m(self, *args, **kws)\u001b[0m\n\u001b[0;32m    421\u001b[0m         \u001b[1;32mexcept\u001b[0m \u001b[0merrors\u001b[0m\u001b[1;33m.\u001b[0m\u001b[0mUnsupportedError\u001b[0m \u001b[1;32mas\u001b[0m \u001b[0me\u001b[0m\u001b[1;33m:\u001b[0m\u001b[1;33m\u001b[0m\u001b[1;33m\u001b[0m\u001b[0m\n\u001b[0;32m    422\u001b[0m             \u001b[1;31m# Something unsupported is present in the user code, add help info\u001b[0m\u001b[1;33m\u001b[0m\u001b[1;33m\u001b[0m\u001b[1;33m\u001b[0m\u001b[0m\n\u001b[1;32m--> 423\u001b[1;33m             \u001b[0merror_rewrite\u001b[0m\u001b[1;33m(\u001b[0m\u001b[0me\u001b[0m\u001b[1;33m,\u001b[0m \u001b[1;34m'unsupported_error'\u001b[0m\u001b[1;33m)\u001b[0m\u001b[1;33m\u001b[0m\u001b[1;33m\u001b[0m\u001b[0m\n\u001b[0m\u001b[0;32m    424\u001b[0m         except (errors.NotDefinedError, errors.RedefinedError,\n\u001b[0;32m    425\u001b[0m                 errors.VerificationError) as e:\n",
          "\u001b[1;32m~\\AppData\\Local\\Programs\\Python\\Python39\\lib\\site-packages\\numba\\core\\dispatcher.py\u001b[0m in \u001b[0;36merror_rewrite\u001b[1;34m(e, issue_type)\u001b[0m\n\u001b[0;32m    359\u001b[0m                 \u001b[1;32mraise\u001b[0m \u001b[0me\u001b[0m\u001b[1;33m\u001b[0m\u001b[1;33m\u001b[0m\u001b[0m\n\u001b[0;32m    360\u001b[0m             \u001b[1;32melse\u001b[0m\u001b[1;33m:\u001b[0m\u001b[1;33m\u001b[0m\u001b[1;33m\u001b[0m\u001b[0m\n\u001b[1;32m--> 361\u001b[1;33m                 \u001b[1;32mraise\u001b[0m \u001b[0me\u001b[0m\u001b[1;33m.\u001b[0m\u001b[0mwith_traceback\u001b[0m\u001b[1;33m(\u001b[0m\u001b[1;32mNone\u001b[0m\u001b[1;33m)\u001b[0m\u001b[1;33m\u001b[0m\u001b[1;33m\u001b[0m\u001b[0m\n\u001b[0m\u001b[0;32m    362\u001b[0m \u001b[1;33m\u001b[0m\u001b[0m\n\u001b[0;32m    363\u001b[0m         \u001b[0margtypes\u001b[0m \u001b[1;33m=\u001b[0m \u001b[1;33m[\u001b[0m\u001b[1;33m]\u001b[0m\u001b[1;33m\u001b[0m\u001b[1;33m\u001b[0m\u001b[0m\n",
          "\u001b[1;31mUnsupportedError\u001b[0m: Failed in nopython mode pipeline (step: nopython rewrites)\n\u001b[1mNumba's print() function implementation does not support keyword arguments.\n\u001b[1m\nFile \"<ipython-input-304-9236824dfa48>\", line 7:\u001b[0m\n\u001b[1mdef midpoint(a, b, n):\n    <source elided>\n    s = np.sum(f(x_mid))\n\u001b[1m    print(\"Real Value: \", sep=\"\")\n\u001b[0m    \u001b[1m^\u001b[0m\u001b[0m\n\u001b[0m"
         ]
        }
       ]
      }
     },
     "3731cddb599f4eb6b963f417424d8d86": {
      "model_module": "@jupyter-widgets/base",
      "model_module_version": "1.2.0",
      "model_name": "LayoutModel",
      "state": {}
     },
     "37e35b761c2d48ccbeb334947f7d3830": {
      "model_module": "@jupyter-widgets/base",
      "model_module_version": "1.2.0",
      "model_name": "LayoutModel",
      "state": {
       "width": "50%"
      }
     },
     "388dc1de2f9b4013b6c984b581ee9f96": {
      "model_module": "@jupyter-widgets/controls",
      "model_module_version": "1.5.0",
      "model_name": "SliderStyleModel",
      "state": {
       "description_width": ""
      }
     },
     "39d1824d9f344e1fa85ebf2ad3903111": {
      "model_module": "@jupyter-widgets/controls",
      "model_module_version": "1.5.0",
      "model_name": "SliderStyleModel",
      "state": {
       "description_width": ""
      }
     },
     "39d6c670c3bc4d958fb1006ef0ec6071": {
      "model_module": "@jupyter-widgets/controls",
      "model_module_version": "1.5.0",
      "model_name": "IntSliderModel",
      "state": {
       "description": "n",
       "layout": "IPY_MODEL_d22738716bc24bd895f57ac9ee421f0b",
       "max": 100000000,
       "min": 2,
       "step": 2,
       "style": "IPY_MODEL_4bf15c62021245b5a70b33c78d613e56",
       "value": 10
      }
     },
     "3a170987dd104c8db585165c4e1bfbde": {
      "model_module": "@jupyter-widgets/base",
      "model_module_version": "1.2.0",
      "model_name": "LayoutModel",
      "state": {}
     },
     "3a5f809d8e0643a68bffb39403dc59f3": {
      "model_module": "@jupyter-widgets/base",
      "model_module_version": "1.2.0",
      "model_name": "LayoutModel",
      "state": {}
     },
     "3b9d4393dec34c4ab2ce83b454a61ad3": {
      "model_module": "@jupyter-widgets/base",
      "model_module_version": "1.2.0",
      "model_name": "LayoutModel",
      "state": {}
     },
     "3c062d11ea0d40748a81a6e67fcd32d9": {
      "model_module": "@jupyter-widgets/base",
      "model_module_version": "1.2.0",
      "model_name": "LayoutModel",
      "state": {}
     },
     "3c4cd11120db4188a1af362d4164d88b": {
      "model_module": "@jupyter-widgets/controls",
      "model_module_version": "1.5.0",
      "model_name": "IntSliderModel",
      "state": {
       "description": "a",
       "layout": "IPY_MODEL_16a08d4b516a46fe807edfb504b14935",
       "style": "IPY_MODEL_ca10d3883e4647c68faf60e38a8a67ac"
      }
     },
     "3c6e2c60d6ed41c5ac5a1183a844f162": {
      "model_module": "@jupyter-widgets/base",
      "model_module_version": "1.2.0",
      "model_name": "LayoutModel",
      "state": {}
     },
     "3c82fa2239d5407bb74dd21f78cbe1d4": {
      "model_module": "@jupyter-widgets/controls",
      "model_module_version": "1.5.0",
      "model_name": "VBoxModel",
      "state": {
       "_dom_classes": [
        "widget-interact"
       ],
       "children": [
        "IPY_MODEL_d8d772189b4744c5b4f8b1e5fbd8be5d",
        "IPY_MODEL_8ebd33b41f4c41cfb0e3af36915badfd",
        "IPY_MODEL_286d9eadbf29483a887b0a54f7eee92b",
        "IPY_MODEL_c2e5a8cf0ae64ae4887eec4505992fc0",
        "IPY_MODEL_c436bbbf3e1b4830a772063739f89fc1"
       ],
       "layout": "IPY_MODEL_407a199b945f424e82068ec471f878a3"
      }
     },
     "3cfcaa9374564a33b11af19a988e6a80": {
      "model_module": "@jupyter-widgets/base",
      "model_module_version": "1.2.0",
      "model_name": "LayoutModel",
      "state": {}
     },
     "3d42c26cdecd4c8daa2e9bad72ce365d": {
      "model_module": "@jupyter-widgets/controls",
      "model_module_version": "1.5.0",
      "model_name": "VBoxModel",
      "state": {
       "_dom_classes": [
        "widget-interact"
       ],
       "children": [
        "IPY_MODEL_d79f5d7e62694db59f8ad6c4aa4d188b",
        "IPY_MODEL_1ee8359cd8d148e59cef890f637d2d2b",
        "IPY_MODEL_5ddd13770e424009abe3700532dd8ce4",
        "IPY_MODEL_f6d700e44f7d4692a8e97e0191f45a5a"
       ],
       "layout": "IPY_MODEL_069a7ad4572846fd82bdb57bc5f49a13"
      }
     },
     "3fafceebc43e4b4292f727299a5bfb2d": {
      "model_module": "@jupyter-widgets/base",
      "model_module_version": "1.2.0",
      "model_name": "LayoutModel",
      "state": {}
     },
     "407a199b945f424e82068ec471f878a3": {
      "model_module": "@jupyter-widgets/base",
      "model_module_version": "1.2.0",
      "model_name": "LayoutModel",
      "state": {}
     },
     "40b2e81209f64661a10839e81c09e699": {
      "model_module": "@jupyter-widgets/controls",
      "model_module_version": "1.5.0",
      "model_name": "ButtonModel",
      "state": {
       "description": "Run Interact",
       "layout": "IPY_MODEL_9b8a81b3f4e6466a97fc57646207fcea",
       "style": "IPY_MODEL_8f4c6d097b684e4284a155d1e2a90554"
      }
     },
     "42297a114bfe4a4e9395a51f0793835b": {
      "model_module": "@jupyter-widgets/controls",
      "model_module_version": "1.5.0",
      "model_name": "SliderStyleModel",
      "state": {
       "description_width": ""
      }
     },
     "435c8e7999fb4f609cc8cd50341c5fe4": {
      "model_module": "@jupyter-widgets/controls",
      "model_module_version": "1.5.0",
      "model_name": "SliderStyleModel",
      "state": {
       "description_width": ""
      }
     },
     "43ad4139ce5c41698285a5f7b6c103c6": {
      "model_module": "@jupyter-widgets/base",
      "model_module_version": "1.2.0",
      "model_name": "LayoutModel",
      "state": {}
     },
     "4450f0f6809c45abb69b07c39164839e": {
      "model_module": "@jupyter-widgets/controls",
      "model_module_version": "1.5.0",
      "model_name": "IntSliderModel",
      "state": {
       "description": "n",
       "layout": "IPY_MODEL_565d88c2a77146969cd0e8d6d69849d7",
       "max": 100000000,
       "min": 1,
       "style": "IPY_MODEL_fe96bcc0ed514dbcb6767bb93d5a3684",
       "value": 50000000
      }
     },
     "44f346335c254554a347b8078269dc12": {
      "model_module": "@jupyter-widgets/controls",
      "model_module_version": "1.5.0",
      "model_name": "SliderStyleModel",
      "state": {
       "description_width": ""
      }
     },
     "4552b393581b40eaa9af4d183ef69cff": {
      "model_module": "@jupyter-widgets/base",
      "model_module_version": "1.2.0",
      "model_name": "LayoutModel",
      "state": {}
     },
     "455bc8611e55408296c54aa16202836e": {
      "model_module": "@jupyter-widgets/base",
      "model_module_version": "1.2.0",
      "model_name": "LayoutModel",
      "state": {}
     },
     "456cd253709a4c3ca8b824f472d877ca": {
      "model_module": "@jupyter-widgets/base",
      "model_module_version": "1.2.0",
      "model_name": "LayoutModel",
      "state": {}
     },
     "457cdecc47ba4b00b98b6af747fabb69": {
      "model_module": "@jupyter-widgets/controls",
      "model_module_version": "1.5.0",
      "model_name": "IntSliderModel",
      "state": {
       "description": "b",
       "layout": "IPY_MODEL_6c94754b558a49d38a531c17b68395dc",
       "max": 3,
       "min": -1,
       "style": "IPY_MODEL_5bdda20980504664a7495f23b9c8387a",
       "value": 3
      }
     },
     "45db7a4dabea48af99726acb3cfba666": {
      "model_module": "@jupyter-widgets/base",
      "model_module_version": "1.2.0",
      "model_name": "LayoutModel",
      "state": {}
     },
     "45ff909c3c2f402db37f23b9f3359607": {
      "model_module": "@jupyter-widgets/controls",
      "model_module_version": "1.5.0",
      "model_name": "SliderStyleModel",
      "state": {
       "description_width": ""
      }
     },
     "470bca23c25d4b80a4c85f10cfd8b527": {
      "model_module": "@jupyter-widgets/controls",
      "model_module_version": "1.5.0",
      "model_name": "SliderStyleModel",
      "state": {
       "description_width": ""
      }
     },
     "4718e1fde7c2424c901dbed97765110d": {
      "model_module": "@jupyter-widgets/controls",
      "model_module_version": "1.5.0",
      "model_name": "FloatRangeSliderModel",
      "state": {
       "_model_name": "FloatRangeSliderModel",
       "_view_name": "FloatRangeSliderView",
       "description": "$[a, b]:$",
       "layout": "IPY_MODEL_e2a678158ce84975aeb90d17f9cd1239",
       "step": 0.1,
       "style": "IPY_MODEL_eb5ee97744bf47b59dfee9c85b407703",
       "value": [
        0,
        1
       ]
      }
     },
     "47b73a2ca6ed4cb19374437d93a39684": {
      "model_module": "@jupyter-widgets/base",
      "model_module_version": "1.2.0",
      "model_name": "LayoutModel",
      "state": {}
     },
     "4820eada043548cba81c2ff7286ca58f": {
      "model_module": "@jupyter-widgets/base",
      "model_module_version": "1.2.0",
      "model_name": "LayoutModel",
      "state": {}
     },
     "489de6eba2ee418d8e112d9b81c3104d": {
      "model_module": "@jupyter-widgets/base",
      "model_module_version": "1.2.0",
      "model_name": "LayoutModel",
      "state": {}
     },
     "495018560b044851afd2756ff17e1d4f": {
      "model_module": "@jupyter-widgets/controls",
      "model_module_version": "1.5.0",
      "model_name": "IntSliderModel",
      "state": {
       "description": "$n: $",
       "layout": "IPY_MODEL_df9c4e2036b54bc7b11c3aad4324a40e",
       "max": 100000000,
       "min": 2,
       "step": 2,
       "style": "IPY_MODEL_cbdd2b9c4e1a4e53a58c2310caf54ad5",
       "value": 10
      }
     },
     "49cbe20915044647985ff2d98280f073": {
      "model_module": "@jupyter-widgets/controls",
      "model_module_version": "1.5.0",
      "model_name": "IntSliderModel",
      "state": {
       "description": "n",
       "layout": "IPY_MODEL_43ad4139ce5c41698285a5f7b6c103c6",
       "max": 100000000,
       "min": 1,
       "style": "IPY_MODEL_45ff909c3c2f402db37f23b9f3359607",
       "value": 10
      }
     },
     "4b1b91759025461e9317420be020e41a": {
      "model_module": "@jupyter-widgets/controls",
      "model_module_version": "1.5.0",
      "model_name": "SliderStyleModel",
      "state": {
       "description_width": ""
      }
     },
     "4bc2081278534440a100bad02099eefb": {
      "model_module": "@jupyter-widgets/base",
      "model_module_version": "1.2.0",
      "model_name": "LayoutModel",
      "state": {}
     },
     "4bf15c62021245b5a70b33c78d613e56": {
      "model_module": "@jupyter-widgets/controls",
      "model_module_version": "1.5.0",
      "model_name": "SliderStyleModel",
      "state": {
       "description_width": ""
      }
     },
     "4c99d3435f164faf955bc0aea6411bbf": {
      "model_module": "@jupyter-widgets/controls",
      "model_module_version": "1.5.0",
      "model_name": "ButtonStyleModel",
      "state": {}
     },
     "4cd759da069e4b1a861bce1ed3677975": {
      "model_module": "@jupyter-widgets/base",
      "model_module_version": "1.2.0",
      "model_name": "LayoutModel",
      "state": {}
     },
     "4ce1cb23ebf846e39a5b231e4b393d2b": {
      "model_module": "@jupyter-widgets/base",
      "model_module_version": "1.2.0",
      "model_name": "LayoutModel",
      "state": {}
     },
     "4d039120513748c584844088fca48e4a": {
      "model_module": "@jupyter-widgets/controls",
      "model_module_version": "1.5.0",
      "model_name": "SliderStyleModel",
      "state": {
       "description_width": ""
      }
     },
     "4e638e19afd94820a9ecbf7aa65e1c6f": {
      "model_module": "@jupyter-widgets/base",
      "model_module_version": "1.2.0",
      "model_name": "LayoutModel",
      "state": {}
     },
     "4e7eabfde47c4e639ed0cadeeaf6e670": {
      "model_module": "@jupyter-widgets/controls",
      "model_module_version": "1.5.0",
      "model_name": "SliderStyleModel",
      "state": {
       "description_width": ""
      }
     },
     "4f633be2c3bc466194c0bc092e2d1a01": {
      "model_module": "@jupyter-widgets/output",
      "model_module_version": "1.0.0",
      "model_name": "OutputModel",
      "state": {
       "layout": "IPY_MODEL_c4f244cb06d44458b4f55a1589addb37",
       "outputs": [
        {
         "name": "stdout",
         "output_type": "stream",
         "text": "Real Value:\t\t 4.61512051684126\nApproximated Value:\t 4.615120516841365\n"
        }
       ]
      }
     },
     "512202374e674529b27037cfc07046ab": {
      "model_module": "@jupyter-widgets/controls",
      "model_module_version": "1.5.0",
      "model_name": "SliderStyleModel",
      "state": {
       "description_width": ""
      }
     },
     "519a8eb10c684c82afe514a3738d0806": {
      "model_module": "@jupyter-widgets/controls",
      "model_module_version": "1.5.0",
      "model_name": "SliderStyleModel",
      "state": {
       "description_width": ""
      }
     },
     "53b0d5d090cc455e85c679b28e43c955": {
      "model_module": "@jupyter-widgets/controls",
      "model_module_version": "1.5.0",
      "model_name": "ButtonModel",
      "state": {
       "description": "Run Interact",
       "layout": "IPY_MODEL_73f6debd99a34401852baf5cf5482a12",
       "style": "IPY_MODEL_fd765e137e134672bb53c212fdd9aee6"
      }
     },
     "543e3f1241a7486fb4631d29e3ad6a2f": {
      "model_module": "@jupyter-widgets/controls",
      "model_module_version": "1.5.0",
      "model_name": "IntSliderModel",
      "state": {
       "description": "b",
       "layout": "IPY_MODEL_ddf7c704edce4f5cb29b2e843dd30b34",
       "style": "IPY_MODEL_e3d990c8e405468eab9a7d68faf1fecb",
       "value": 1
      }
     },
     "54423dd1067e47c7835c5979534e0ad1": {
      "model_module": "@jupyter-widgets/controls",
      "model_module_version": "1.5.0",
      "model_name": "SliderStyleModel",
      "state": {
       "description_width": ""
      }
     },
     "54b0ab80be514d47a9d30a9b9e3955d0": {
      "model_module": "@jupyter-widgets/base",
      "model_module_version": "1.2.0",
      "model_name": "LayoutModel",
      "state": {}
     },
     "5509eef26f044201a91651c8133253ee": {
      "model_module": "@jupyter-widgets/base",
      "model_module_version": "1.2.0",
      "model_name": "LayoutModel",
      "state": {}
     },
     "5600be5ce30847b4ab4fe56de4c0126a": {
      "model_module": "@jupyter-widgets/base",
      "model_module_version": "1.2.0",
      "model_name": "LayoutModel",
      "state": {}
     },
     "561fd0a8288d4dc8a999c008bf52e8d8": {
      "model_module": "@jupyter-widgets/base",
      "model_module_version": "1.2.0",
      "model_name": "LayoutModel",
      "state": {}
     },
     "56264bb157f1415390413ae3a5f4103f": {
      "model_module": "@jupyter-widgets/base",
      "model_module_version": "1.2.0",
      "model_name": "LayoutModel",
      "state": {}
     },
     "565d88c2a77146969cd0e8d6d69849d7": {
      "model_module": "@jupyter-widgets/base",
      "model_module_version": "1.2.0",
      "model_name": "LayoutModel",
      "state": {}
     },
     "56c9dae6d9944dc398f904e5fa77db8f": {
      "model_module": "@jupyter-widgets/base",
      "model_module_version": "1.2.0",
      "model_name": "LayoutModel",
      "state": {}
     },
     "56fd18b39d324099aaddfaddbe9a92d5": {
      "model_module": "@jupyter-widgets/controls",
      "model_module_version": "1.5.0",
      "model_name": "IntSliderModel",
      "state": {
       "description": "a",
       "layout": "IPY_MODEL_456cd253709a4c3ca8b824f472d877ca",
       "style": "IPY_MODEL_519a8eb10c684c82afe514a3738d0806"
      }
     },
     "57a661423da44523a264ef60bc210471": {
      "model_module": "@jupyter-widgets/base",
      "model_module_version": "1.2.0",
      "model_name": "LayoutModel",
      "state": {}
     },
     "587e63c3a9154a3ea6586e75c317cc0f": {
      "model_module": "@jupyter-widgets/base",
      "model_module_version": "1.2.0",
      "model_name": "LayoutModel",
      "state": {}
     },
     "58bb2f6e965c414d94a58c2453a4f08e": {
      "model_module": "@jupyter-widgets/base",
      "model_module_version": "1.2.0",
      "model_name": "LayoutModel",
      "state": {}
     },
     "5988375554be47e283369e1b39ede764": {
      "model_module": "@jupyter-widgets/base",
      "model_module_version": "1.2.0",
      "model_name": "LayoutModel",
      "state": {
       "width": "50%"
      }
     },
     "59983a86b7d148fabf30a0b426bac183": {
      "model_module": "@jupyter-widgets/controls",
      "model_module_version": "1.5.0",
      "model_name": "ButtonStyleModel",
      "state": {}
     },
     "5a092c693dbc46c9ba91d49de314f812": {
      "model_module": "@jupyter-widgets/output",
      "model_module_version": "1.0.0",
      "model_name": "OutputModel",
      "state": {
       "layout": "IPY_MODEL_6a3a7ce8537744d69721bbbcba74dd89",
       "outputs": [
        {
         "name": "stdout",
         "output_type": "stream",
         "text": "4.615120516841176\n"
        }
       ]
      }
     },
     "5a9a76c401ef4bf8b6a249f56fa2997d": {
      "model_module": "@jupyter-widgets/base",
      "model_module_version": "1.2.0",
      "model_name": "LayoutModel",
      "state": {}
     },
     "5b5b9dfbd76949f0b2ce6c59c6cf3fe8": {
      "model_module": "@jupyter-widgets/base",
      "model_module_version": "1.2.0",
      "model_name": "LayoutModel",
      "state": {}
     },
     "5bdda20980504664a7495f23b9c8387a": {
      "model_module": "@jupyter-widgets/controls",
      "model_module_version": "1.5.0",
      "model_name": "SliderStyleModel",
      "state": {
       "description_width": ""
      }
     },
     "5bfd5235cc8d46a2afa627878f5995e5": {
      "model_module": "@jupyter-widgets/controls",
      "model_module_version": "1.5.0",
      "model_name": "VBoxModel",
      "state": {
       "_dom_classes": [
        "widget-interact"
       ],
       "children": [
        "IPY_MODEL_15889c5a29044952909299b213a9af7e",
        "IPY_MODEL_495018560b044851afd2756ff17e1d4f",
        "IPY_MODEL_a1f0dbedf3dc42b882814d8b52518d3e",
        "IPY_MODEL_20c21c573b76467e9632ee6dca26fd9c"
       ],
       "layout": "IPY_MODEL_89286b9b6547483abf7aa845df229fce"
      }
     },
     "5cf73660c5914ef1a6b23e1e18dc5b8f": {
      "model_module": "@jupyter-widgets/controls",
      "model_module_version": "1.5.0",
      "model_name": "VBoxModel",
      "state": {
       "_dom_classes": [
        "widget-interact"
       ],
       "children": [
        "IPY_MODEL_9fb6f06d143f4157930b117381040be8",
        "IPY_MODEL_be391bfa1c5a47d3bc9938dee3980491",
        "IPY_MODEL_0be2f38e337a46948f4edc1e5d5f0485",
        "IPY_MODEL_6988a615bb734c7c8d611f6c6964ada4"
       ],
       "layout": "IPY_MODEL_6dee3eb0ea6d4a8f87deabfee3ffcc9c"
      }
     },
     "5ddd13770e424009abe3700532dd8ce4": {
      "model_module": "@jupyter-widgets/controls",
      "model_module_version": "1.5.0",
      "model_name": "ButtonModel",
      "state": {
       "description": "Run Interact",
       "layout": "IPY_MODEL_ffe81e0fe25244a98ea4c3080c6f925e",
       "style": "IPY_MODEL_7a78a54b7c2e44749c3314f11094939c"
      }
     },
     "5e5eebfa0730469f8bbd242bc304b653": {
      "model_module": "@jupyter-widgets/base",
      "model_module_version": "1.2.0",
      "model_name": "LayoutModel",
      "state": {}
     },
     "5e803e3f92ad40ed935f5d1244815b0c": {
      "model_module": "@jupyter-widgets/base",
      "model_module_version": "1.2.0",
      "model_name": "LayoutModel",
      "state": {}
     },
     "5ef5035dc25446108a5333877a57deee": {
      "model_module": "@jupyter-widgets/controls",
      "model_module_version": "1.5.0",
      "model_name": "ButtonStyleModel",
      "state": {}
     },
     "5f22f1abbb1843f59ab1c1cddd3b70ae": {
      "model_module": "@jupyter-widgets/output",
      "model_module_version": "1.0.0",
      "model_name": "OutputModel",
      "state": {
       "layout": "IPY_MODEL_361148a9286f4c7fba78aea3b0737c0a",
       "outputs": [
        {
         "name": "stdout",
         "output_type": "stream",
         "text": "Real Value:  \n0.6931471805599453\nApproximated Value:  \n0.6928353604099602\n"
        }
       ]
      }
     },
     "5f74e62e96464d488f8e0c8e556ef132": {
      "model_module": "@jupyter-widgets/controls",
      "model_module_version": "1.5.0",
      "model_name": "IntSliderModel",
      "state": {
       "description": "a",
       "layout": "IPY_MODEL_6098e4d2793a4393a1e6af3099158845",
       "max": 1,
       "style": "IPY_MODEL_8863c3989ae1449a919776d7038a6f73"
      }
     },
     "5fcd08b30ed8448aa1b8cfc3442f5b87": {
      "model_module": "@jupyter-widgets/base",
      "model_module_version": "1.2.0",
      "model_name": "LayoutModel",
      "state": {}
     },
     "5fe49918a6dd46cbbf41b33c528ebd21": {
      "model_module": "@jupyter-widgets/controls",
      "model_module_version": "1.5.0",
      "model_name": "IntSliderModel",
      "state": {
       "description": "n",
       "layout": "IPY_MODEL_47b73a2ca6ed4cb19374437d93a39684",
       "max": 100000000,
       "min": 1,
       "style": "IPY_MODEL_d773fa42876447c2a824b92d92b8e17c",
       "value": 10
      }
     },
     "608d1cb3b73c495eb66380c8e4e1c302": {
      "model_module": "@jupyter-widgets/controls",
      "model_module_version": "1.5.0",
      "model_name": "SliderStyleModel",
      "state": {
       "description_width": ""
      }
     },
     "6098e4d2793a4393a1e6af3099158845": {
      "model_module": "@jupyter-widgets/base",
      "model_module_version": "1.2.0",
      "model_name": "LayoutModel",
      "state": {}
     },
     "61350f86dd974cbc8393559e8f3d33e4": {
      "model_module": "@jupyter-widgets/controls",
      "model_module_version": "1.5.0",
      "model_name": "SliderStyleModel",
      "state": {
       "description_width": ""
      }
     },
     "615381a505334cc6a51a7faa1cb44d70": {
      "model_module": "@jupyter-widgets/base",
      "model_module_version": "1.2.0",
      "model_name": "LayoutModel",
      "state": {}
     },
     "61872f9e05f94fdc990b03801c8faa7a": {
      "model_module": "@jupyter-widgets/base",
      "model_module_version": "1.2.0",
      "model_name": "LayoutModel",
      "state": {}
     },
     "6194f4c3268e4202ad889e9d83e375a8": {
      "model_module": "@jupyter-widgets/output",
      "model_module_version": "1.0.0",
      "model_name": "OutputModel",
      "state": {
       "layout": "IPY_MODEL_9ff364d4678c465482fac14c780327a2",
       "outputs": [
        {
         "name": "stdout",
         "output_type": "stream",
         "text": "Real Value:\t\t 4.165113633110308\nApproximated Value:\t 3.6645559771030607\n"
        }
       ]
      }
     },
     "61d115a77e834bdd85a967ce7098a1b3": {
      "model_module": "@jupyter-widgets/controls",
      "model_module_version": "1.5.0",
      "model_name": "ButtonModel",
      "state": {
       "description": "Run Interact",
       "layout": "IPY_MODEL_75476d81a3894af1b95f569a926b0050",
       "style": "IPY_MODEL_5ef5035dc25446108a5333877a57deee"
      }
     },
     "6458b33327e8499fa1a0f190ecf61a58": {
      "model_module": "@jupyter-widgets/base",
      "model_module_version": "1.2.0",
      "model_name": "LayoutModel",
      "state": {}
     },
     "645fd76326ac4bd8a12539e354a9958c": {
      "model_module": "@jupyter-widgets/controls",
      "model_module_version": "1.5.0",
      "model_name": "SliderStyleModel",
      "state": {
       "description_width": ""
      }
     },
     "6477452ab2e74acdae884758f0dda0f7": {
      "model_module": "@jupyter-widgets/base",
      "model_module_version": "1.2.0",
      "model_name": "LayoutModel",
      "state": {}
     },
     "652729068f6948dda88f0a5df073b85f": {
      "model_module": "@jupyter-widgets/controls",
      "model_module_version": "1.5.0",
      "model_name": "SliderStyleModel",
      "state": {
       "description_width": ""
      }
     },
     "656f649f08964f459aaf1e819b0a6faa": {
      "model_module": "@jupyter-widgets/controls",
      "model_module_version": "1.5.0",
      "model_name": "FloatRangeSliderModel",
      "state": {
       "_model_name": "FloatRangeSliderModel",
       "_view_name": "FloatRangeSliderView",
       "description": "i",
       "layout": "IPY_MODEL_224f96715e414cbcafed78ce9ebbabf2",
       "step": 0.1,
       "style": "IPY_MODEL_7cec4e711e344eb592ffc111dbe0cf92",
       "value": [
        0,
        1
       ]
      }
     },
     "65f3d8d50da84e78acf5196fa6bf7ef9": {
      "model_module": "@jupyter-widgets/controls",
      "model_module_version": "1.5.0",
      "model_name": "SliderStyleModel",
      "state": {
       "description_width": ""
      }
     },
     "6609c00af7af4c7f9cde97d5d99ba623": {
      "model_module": "@jupyter-widgets/controls",
      "model_module_version": "1.5.0",
      "model_name": "VBoxModel",
      "state": {
       "_dom_classes": [
        "widget-interact"
       ],
       "children": [
        "IPY_MODEL_bbb43bc0c8924f1a94a3b2d394a1ed81",
        "IPY_MODEL_2fb7c49be714440fab9cb45b61bcd08b",
        "IPY_MODEL_db3c51d0988547f7852fd84367e460dd",
        "IPY_MODEL_ba7502198e974f198b3f38346ca9b405"
       ],
       "layout": "IPY_MODEL_a89e18e9dd1f4f31ad9e1be9515624e6"
      }
     },
     "66c3ea2f573b4e8d9bad1d6c298237c9": {
      "model_module": "@jupyter-widgets/base",
      "model_module_version": "1.2.0",
      "model_name": "LayoutModel",
      "state": {}
     },
     "681f94f326354256a1737528e6e141ed": {
      "model_module": "@jupyter-widgets/output",
      "model_module_version": "1.0.0",
      "model_name": "OutputModel",
      "state": {
       "layout": "IPY_MODEL_4bc2081278534440a100bad02099eefb",
       "outputs": [
        {
         "name": "stdout",
         "output_type": "stream",
         "text": "Real Value: \n0.6931471805599453\nApproximated Value: \n0.6928353604099602\n"
        }
       ]
      }
     },
     "69338815b8ad468aafa9d01c2fa7e778": {
      "model_module": "@jupyter-widgets/base",
      "model_module_version": "1.2.0",
      "model_name": "LayoutModel",
      "state": {}
     },
     "695c93fef9b04fc6a888ab2ed569b4df": {
      "model_module": "@jupyter-widgets/base",
      "model_module_version": "1.2.0",
      "model_name": "LayoutModel",
      "state": {}
     },
     "6988a615bb734c7c8d611f6c6964ada4": {
      "model_module": "@jupyter-widgets/output",
      "model_module_version": "1.0.0",
      "model_name": "OutputModel",
      "state": {
       "layout": "IPY_MODEL_f11279329f60497a9532a51924d039b1"
      }
     },
     "69eca2f6956e4e2882653cf2aa009f81": {
      "model_module": "@jupyter-widgets/base",
      "model_module_version": "1.2.0",
      "model_name": "LayoutModel",
      "state": {}
     },
     "6a3a7ce8537744d69721bbbcba74dd89": {
      "model_module": "@jupyter-widgets/base",
      "model_module_version": "1.2.0",
      "model_name": "LayoutModel",
      "state": {}
     },
     "6ae8bbd57e464385a959085eda871f77": {
      "model_module": "@jupyter-widgets/controls",
      "model_module_version": "1.5.0",
      "model_name": "IntSliderModel",
      "state": {
       "description": "b",
       "layout": "IPY_MODEL_33e9fe02807044d3b3a1280b5472f4ef",
       "style": "IPY_MODEL_b78d661aa2544d7087b4a84a824b5a0f",
       "value": 1
      }
     },
     "6b2c2d1a0dc5405b90c70ee4c9f525b1": {
      "model_module": "@jupyter-widgets/base",
      "model_module_version": "1.2.0",
      "model_name": "LayoutModel",
      "state": {}
     },
     "6bbfdef1e39542f3b3150338165b1f3a": {
      "model_module": "@jupyter-widgets/base",
      "model_module_version": "1.2.0",
      "model_name": "LayoutModel",
      "state": {}
     },
     "6c2d0ebcfbda4479b3700348bbd3c6a5": {
      "model_module": "@jupyter-widgets/base",
      "model_module_version": "1.2.0",
      "model_name": "LayoutModel",
      "state": {}
     },
     "6c7ea9a84d46431b9d811f96102c558d": {
      "model_module": "@jupyter-widgets/base",
      "model_module_version": "1.2.0",
      "model_name": "LayoutModel",
      "state": {}
     },
     "6c94754b558a49d38a531c17b68395dc": {
      "model_module": "@jupyter-widgets/base",
      "model_module_version": "1.2.0",
      "model_name": "LayoutModel",
      "state": {}
     },
     "6cd3da3cff2045fea11d24ed51e2288b": {
      "model_module": "@jupyter-widgets/controls",
      "model_module_version": "1.5.0",
      "model_name": "ButtonModel",
      "state": {
       "description": "Run Interact",
       "layout": "IPY_MODEL_999566a8f9994c80a64a8a9ebdc2caa3",
       "style": "IPY_MODEL_fa760c436b184dbabeed8353dc63e4c5"
      }
     },
     "6cfa7684cfa548ad84cd892b68ac2dd6": {
      "model_module": "@jupyter-widgets/base",
      "model_module_version": "1.2.0",
      "model_name": "LayoutModel",
      "state": {}
     },
     "6d1b91f7ddd34a82aab54e15d2b86dc0": {
      "model_module": "@jupyter-widgets/base",
      "model_module_version": "1.2.0",
      "model_name": "LayoutModel",
      "state": {}
     },
     "6dee3eb0ea6d4a8f87deabfee3ffcc9c": {
      "model_module": "@jupyter-widgets/base",
      "model_module_version": "1.2.0",
      "model_name": "LayoutModel",
      "state": {}
     },
     "6e31a994dd8446b0b6968545933abf99": {
      "model_module": "@jupyter-widgets/base",
      "model_module_version": "1.2.0",
      "model_name": "LayoutModel",
      "state": {}
     },
     "6ebe7ed4b93540739e10c307f9e5df52": {
      "model_module": "@jupyter-widgets/controls",
      "model_module_version": "1.5.0",
      "model_name": "VBoxModel",
      "state": {
       "_dom_classes": [
        "widget-interact"
       ],
       "children": [
        "IPY_MODEL_1a19404906b84ad58b6dd43a76bcf965",
        "IPY_MODEL_0c3703fac4b2478198656aa189cc9d47",
        "IPY_MODEL_2f2ad799d61d460ba3ff712ff29eab6e",
        "IPY_MODEL_0dd2adc555d04903bb2c4c8b2b50a5c4",
        "IPY_MODEL_ac906159884c43c5991e45879133aee5"
       ],
       "layout": "IPY_MODEL_e0d100599e0a49799a22c08a7f7e4203"
      }
     },
     "6ee3ad5051184f7a9289333430b39b13": {
      "model_module": "@jupyter-widgets/base",
      "model_module_version": "1.2.0",
      "model_name": "LayoutModel",
      "state": {}
     },
     "6f24816e467b47bd93052de2874f985c": {
      "model_module": "@jupyter-widgets/controls",
      "model_module_version": "1.5.0",
      "model_name": "ButtonStyleModel",
      "state": {}
     },
     "6f402a4f8e0a421a891153b1e16b382c": {
      "model_module": "@jupyter-widgets/output",
      "model_module_version": "1.0.0",
      "model_name": "OutputModel",
      "state": {
       "layout": "IPY_MODEL_1f8addfbcae4498dae7d222e9cf82211",
       "outputs": [
        {
         "ename": "TypingError",
         "evalue": "Failed in nopython mode pipeline (step: nopython frontend)\n\u001b[1m\u001b[1mNo implementation of function Function(<built-in function add>) found for signature:\n \n >>> add(Literal[str](Real Value: ), float64)\n \nThere are 18 candidate implementations:\n\u001b[1m     - Of which 16 did not match due to:\n     Overload of function 'add': File: <numerous>: Line N/A.\n       With argument(s): '(unicode_type, float64)':\u001b[0m\n\u001b[1m      No match.\u001b[0m\n\u001b[1m     - Of which 2 did not match due to:\n     Operator Overload in function 'add': File: unknown: Line unknown.\n       With argument(s): '(unicode_type, float64)':\u001b[0m\n\u001b[1m      No match for registered cases:\n       * (int64, int64) -> int64\n       * (int64, uint64) -> int64\n       * (uint64, int64) -> int64\n       * (uint64, uint64) -> uint64\n       * (float32, float32) -> float32\n       * (float64, float64) -> float64\n       * (complex64, complex64) -> complex64\n       * (complex128, complex128) -> complex128\u001b[0m\n\u001b[0m\n\u001b[0m\u001b[1mDuring: typing of intrinsic-call at <ipython-input-301-7f6d8c616325> (7)\u001b[0m\n\u001b[1m\nFile \"<ipython-input-301-7f6d8c616325>\", line 7:\u001b[0m\n\u001b[1mdef midpoint(a, b, n):\n    <source elided>\n    s = np.sum(f(x_mid))\n\u001b[1m    print(\"Real Value: \" + realValue(a, b))\n\u001b[0m    \u001b[1m^\u001b[0m\u001b[0m\n",
         "output_type": "error",
         "traceback": [
          "\u001b[1;31m---------------------------------------------------------------------------\u001b[0m",
          "\u001b[1;31mTypingError\u001b[0m                               Traceback (most recent call last)",
          "\u001b[1;32m~\\AppData\\Local\\Programs\\Python\\Python39\\lib\\site-packages\\ipywidgets\\widgets\\interaction.py\u001b[0m in \u001b[0;36mupdate\u001b[1;34m(self, *args)\u001b[0m\n\u001b[0;32m    254\u001b[0m                     \u001b[0mvalue\u001b[0m \u001b[1;33m=\u001b[0m \u001b[0mwidget\u001b[0m\u001b[1;33m.\u001b[0m\u001b[0mget_interact_value\u001b[0m\u001b[1;33m(\u001b[0m\u001b[1;33m)\u001b[0m\u001b[1;33m\u001b[0m\u001b[1;33m\u001b[0m\u001b[0m\n\u001b[0;32m    255\u001b[0m                     \u001b[0mself\u001b[0m\u001b[1;33m.\u001b[0m\u001b[0mkwargs\u001b[0m\u001b[1;33m[\u001b[0m\u001b[0mwidget\u001b[0m\u001b[1;33m.\u001b[0m\u001b[0m_kwarg\u001b[0m\u001b[1;33m]\u001b[0m \u001b[1;33m=\u001b[0m \u001b[0mvalue\u001b[0m\u001b[1;33m\u001b[0m\u001b[1;33m\u001b[0m\u001b[0m\n\u001b[1;32m--> 256\u001b[1;33m                 \u001b[0mself\u001b[0m\u001b[1;33m.\u001b[0m\u001b[0mresult\u001b[0m \u001b[1;33m=\u001b[0m \u001b[0mself\u001b[0m\u001b[1;33m.\u001b[0m\u001b[0mf\u001b[0m\u001b[1;33m(\u001b[0m\u001b[1;33m**\u001b[0m\u001b[0mself\u001b[0m\u001b[1;33m.\u001b[0m\u001b[0mkwargs\u001b[0m\u001b[1;33m)\u001b[0m\u001b[1;33m\u001b[0m\u001b[1;33m\u001b[0m\u001b[0m\n\u001b[0m\u001b[0;32m    257\u001b[0m                 \u001b[0mshow_inline_matplotlib_plots\u001b[0m\u001b[1;33m(\u001b[0m\u001b[1;33m)\u001b[0m\u001b[1;33m\u001b[0m\u001b[1;33m\u001b[0m\u001b[0m\n\u001b[0;32m    258\u001b[0m                 \u001b[1;32mif\u001b[0m \u001b[0mself\u001b[0m\u001b[1;33m.\u001b[0m\u001b[0mauto_display\u001b[0m \u001b[1;32mand\u001b[0m \u001b[0mself\u001b[0m\u001b[1;33m.\u001b[0m\u001b[0mresult\u001b[0m \u001b[1;32mis\u001b[0m \u001b[1;32mnot\u001b[0m \u001b[1;32mNone\u001b[0m\u001b[1;33m:\u001b[0m\u001b[1;33m\u001b[0m\u001b[1;33m\u001b[0m\u001b[0m\n",
          "\u001b[1;32m~\\AppData\\Local\\Programs\\Python\\Python39\\lib\\site-packages\\numba\\core\\dispatcher.py\u001b[0m in \u001b[0;36m_compile_for_args\u001b[1;34m(self, *args, **kws)\u001b[0m\n\u001b[0;32m    418\u001b[0m                 \u001b[0me\u001b[0m\u001b[1;33m.\u001b[0m\u001b[0mpatch_message\u001b[0m\u001b[1;33m(\u001b[0m\u001b[0mmsg\u001b[0m\u001b[1;33m)\u001b[0m\u001b[1;33m\u001b[0m\u001b[1;33m\u001b[0m\u001b[0m\n\u001b[0;32m    419\u001b[0m \u001b[1;33m\u001b[0m\u001b[0m\n\u001b[1;32m--> 420\u001b[1;33m             \u001b[0merror_rewrite\u001b[0m\u001b[1;33m(\u001b[0m\u001b[0me\u001b[0m\u001b[1;33m,\u001b[0m \u001b[1;34m'typing'\u001b[0m\u001b[1;33m)\u001b[0m\u001b[1;33m\u001b[0m\u001b[1;33m\u001b[0m\u001b[0m\n\u001b[0m\u001b[0;32m    421\u001b[0m         \u001b[1;32mexcept\u001b[0m \u001b[0merrors\u001b[0m\u001b[1;33m.\u001b[0m\u001b[0mUnsupportedError\u001b[0m \u001b[1;32mas\u001b[0m \u001b[0me\u001b[0m\u001b[1;33m:\u001b[0m\u001b[1;33m\u001b[0m\u001b[1;33m\u001b[0m\u001b[0m\n\u001b[0;32m    422\u001b[0m             \u001b[1;31m# Something unsupported is present in the user code, add help info\u001b[0m\u001b[1;33m\u001b[0m\u001b[1;33m\u001b[0m\u001b[1;33m\u001b[0m\u001b[0m\n",
          "\u001b[1;32m~\\AppData\\Local\\Programs\\Python\\Python39\\lib\\site-packages\\numba\\core\\dispatcher.py\u001b[0m in \u001b[0;36merror_rewrite\u001b[1;34m(e, issue_type)\u001b[0m\n\u001b[0;32m    359\u001b[0m                 \u001b[1;32mraise\u001b[0m \u001b[0me\u001b[0m\u001b[1;33m\u001b[0m\u001b[1;33m\u001b[0m\u001b[0m\n\u001b[0;32m    360\u001b[0m             \u001b[1;32melse\u001b[0m\u001b[1;33m:\u001b[0m\u001b[1;33m\u001b[0m\u001b[1;33m\u001b[0m\u001b[0m\n\u001b[1;32m--> 361\u001b[1;33m                 \u001b[1;32mraise\u001b[0m \u001b[0me\u001b[0m\u001b[1;33m.\u001b[0m\u001b[0mwith_traceback\u001b[0m\u001b[1;33m(\u001b[0m\u001b[1;32mNone\u001b[0m\u001b[1;33m)\u001b[0m\u001b[1;33m\u001b[0m\u001b[1;33m\u001b[0m\u001b[0m\n\u001b[0m\u001b[0;32m    362\u001b[0m \u001b[1;33m\u001b[0m\u001b[0m\n\u001b[0;32m    363\u001b[0m         \u001b[0margtypes\u001b[0m \u001b[1;33m=\u001b[0m \u001b[1;33m[\u001b[0m\u001b[1;33m]\u001b[0m\u001b[1;33m\u001b[0m\u001b[1;33m\u001b[0m\u001b[0m\n",
          "\u001b[1;31mTypingError\u001b[0m: Failed in nopython mode pipeline (step: nopython frontend)\n\u001b[1m\u001b[1mNo implementation of function Function(<built-in function add>) found for signature:\n \n >>> add(Literal[str](Real Value: ), float64)\n \nThere are 18 candidate implementations:\n\u001b[1m     - Of which 16 did not match due to:\n     Overload of function 'add': File: <numerous>: Line N/A.\n       With argument(s): '(unicode_type, float64)':\u001b[0m\n\u001b[1m      No match.\u001b[0m\n\u001b[1m     - Of which 2 did not match due to:\n     Operator Overload in function 'add': File: unknown: Line unknown.\n       With argument(s): '(unicode_type, float64)':\u001b[0m\n\u001b[1m      No match for registered cases:\n       * (int64, int64) -> int64\n       * (int64, uint64) -> int64\n       * (uint64, int64) -> int64\n       * (uint64, uint64) -> uint64\n       * (float32, float32) -> float32\n       * (float64, float64) -> float64\n       * (complex64, complex64) -> complex64\n       * (complex128, complex128) -> complex128\u001b[0m\n\u001b[0m\n\u001b[0m\u001b[1mDuring: typing of intrinsic-call at <ipython-input-301-7f6d8c616325> (7)\u001b[0m\n\u001b[1m\nFile \"<ipython-input-301-7f6d8c616325>\", line 7:\u001b[0m\n\u001b[1mdef midpoint(a, b, n):\n    <source elided>\n    s = np.sum(f(x_mid))\n\u001b[1m    print(\"Real Value: \" + realValue(a, b))\n\u001b[0m    \u001b[1m^\u001b[0m\u001b[0m\n"
         ]
        }
       ]
      }
     },
     "6fa19b26fb7b4afb9ed9398fd155a8a9": {
      "model_module": "@jupyter-widgets/base",
      "model_module_version": "1.2.0",
      "model_name": "LayoutModel",
      "state": {}
     },
     "70f4e1c070ea458ab0cb4026bac81cf2": {
      "model_module": "@jupyter-widgets/base",
      "model_module_version": "1.2.0",
      "model_name": "LayoutModel",
      "state": {}
     },
     "71170feeb9be4c58aba95d7a4981d139": {
      "model_module": "@jupyter-widgets/base",
      "model_module_version": "1.2.0",
      "model_name": "LayoutModel",
      "state": {}
     },
     "722f9ad0aefa4278ba790f275b3076d7": {
      "model_module": "@jupyter-widgets/controls",
      "model_module_version": "1.5.0",
      "model_name": "SliderStyleModel",
      "state": {
       "description_width": ""
      }
     },
     "72626b7142114a37af55d3390c5a2ed3": {
      "model_module": "@jupyter-widgets/base",
      "model_module_version": "1.2.0",
      "model_name": "LayoutModel",
      "state": {}
     },
     "731325945eca4982a4a0a7433c2439ef": {
      "model_module": "@jupyter-widgets/controls",
      "model_module_version": "1.5.0",
      "model_name": "ButtonStyleModel",
      "state": {}
     },
     "7363b64035ae4ee6a409b4eea22f5342": {
      "model_module": "@jupyter-widgets/base",
      "model_module_version": "1.2.0",
      "model_name": "LayoutModel",
      "state": {}
     },
     "737e55e6d7484ef6a7e34e0a2ef95039": {
      "model_module": "@jupyter-widgets/controls",
      "model_module_version": "1.5.0",
      "model_name": "SliderStyleModel",
      "state": {
       "description_width": ""
      }
     },
     "73a34e8235804cd6864943caaa72a06a": {
      "model_module": "@jupyter-widgets/base",
      "model_module_version": "1.2.0",
      "model_name": "LayoutModel",
      "state": {}
     },
     "73f5791740484b8180fdbf62c6668333": {
      "model_module": "@jupyter-widgets/output",
      "model_module_version": "1.0.0",
      "model_name": "OutputModel",
      "state": {
       "layout": "IPY_MODEL_111a74a3c91d4e779132826e45a086bb",
       "outputs": [
        {
         "ename": "TypingError",
         "evalue": "Failed in nopython mode pipeline (step: nopython frontend)\n\u001b[1m\u001b[1m\u001b[1mNo implementation of function Function(<class 'str'>) found for signature:\n \n >>> str(float64)\n \nThere are 6 candidate implementations:\n\u001b[1m   - Of which 6 did not match due to:\n   Overload of function 'str': File: <numerous>: Line N/A.\n     With argument(s): '(float64)':\u001b[0m\n\u001b[1m    No match.\u001b[0m\n\u001b[0m\n\u001b[0m\u001b[1mDuring: resolving callee type: Function(<class 'str'>)\u001b[0m\n\u001b[0m\u001b[1mDuring: typing of call at <ipython-input-303-c303b24334d4> (7)\n\u001b[0m\n\u001b[1m\nFile \"<ipython-input-303-c303b24334d4>\", line 7:\u001b[0m\n\u001b[1mdef midpoint(a, b, n):\n    <source elided>\n    s = np.sum(f(x_mid))\n\u001b[1m    print(\"Real Value: \" + str(realValue(a, b)))\n\u001b[0m    \u001b[1m^\u001b[0m\u001b[0m\n",
         "output_type": "error",
         "traceback": [
          "\u001b[1;31m---------------------------------------------------------------------------\u001b[0m",
          "\u001b[1;31mTypingError\u001b[0m                               Traceback (most recent call last)",
          "\u001b[1;32m~\\AppData\\Local\\Programs\\Python\\Python39\\lib\\site-packages\\ipywidgets\\widgets\\interaction.py\u001b[0m in \u001b[0;36mupdate\u001b[1;34m(self, *args)\u001b[0m\n\u001b[0;32m    254\u001b[0m                     \u001b[0mvalue\u001b[0m \u001b[1;33m=\u001b[0m \u001b[0mwidget\u001b[0m\u001b[1;33m.\u001b[0m\u001b[0mget_interact_value\u001b[0m\u001b[1;33m(\u001b[0m\u001b[1;33m)\u001b[0m\u001b[1;33m\u001b[0m\u001b[1;33m\u001b[0m\u001b[0m\n\u001b[0;32m    255\u001b[0m                     \u001b[0mself\u001b[0m\u001b[1;33m.\u001b[0m\u001b[0mkwargs\u001b[0m\u001b[1;33m[\u001b[0m\u001b[0mwidget\u001b[0m\u001b[1;33m.\u001b[0m\u001b[0m_kwarg\u001b[0m\u001b[1;33m]\u001b[0m \u001b[1;33m=\u001b[0m \u001b[0mvalue\u001b[0m\u001b[1;33m\u001b[0m\u001b[1;33m\u001b[0m\u001b[0m\n\u001b[1;32m--> 256\u001b[1;33m                 \u001b[0mself\u001b[0m\u001b[1;33m.\u001b[0m\u001b[0mresult\u001b[0m \u001b[1;33m=\u001b[0m \u001b[0mself\u001b[0m\u001b[1;33m.\u001b[0m\u001b[0mf\u001b[0m\u001b[1;33m(\u001b[0m\u001b[1;33m**\u001b[0m\u001b[0mself\u001b[0m\u001b[1;33m.\u001b[0m\u001b[0mkwargs\u001b[0m\u001b[1;33m)\u001b[0m\u001b[1;33m\u001b[0m\u001b[1;33m\u001b[0m\u001b[0m\n\u001b[0m\u001b[0;32m    257\u001b[0m                 \u001b[0mshow_inline_matplotlib_plots\u001b[0m\u001b[1;33m(\u001b[0m\u001b[1;33m)\u001b[0m\u001b[1;33m\u001b[0m\u001b[1;33m\u001b[0m\u001b[0m\n\u001b[0;32m    258\u001b[0m                 \u001b[1;32mif\u001b[0m \u001b[0mself\u001b[0m\u001b[1;33m.\u001b[0m\u001b[0mauto_display\u001b[0m \u001b[1;32mand\u001b[0m \u001b[0mself\u001b[0m\u001b[1;33m.\u001b[0m\u001b[0mresult\u001b[0m \u001b[1;32mis\u001b[0m \u001b[1;32mnot\u001b[0m \u001b[1;32mNone\u001b[0m\u001b[1;33m:\u001b[0m\u001b[1;33m\u001b[0m\u001b[1;33m\u001b[0m\u001b[0m\n",
          "\u001b[1;32m~\\AppData\\Local\\Programs\\Python\\Python39\\lib\\site-packages\\numba\\core\\dispatcher.py\u001b[0m in \u001b[0;36m_compile_for_args\u001b[1;34m(self, *args, **kws)\u001b[0m\n\u001b[0;32m    418\u001b[0m                 \u001b[0me\u001b[0m\u001b[1;33m.\u001b[0m\u001b[0mpatch_message\u001b[0m\u001b[1;33m(\u001b[0m\u001b[0mmsg\u001b[0m\u001b[1;33m)\u001b[0m\u001b[1;33m\u001b[0m\u001b[1;33m\u001b[0m\u001b[0m\n\u001b[0;32m    419\u001b[0m \u001b[1;33m\u001b[0m\u001b[0m\n\u001b[1;32m--> 420\u001b[1;33m             \u001b[0merror_rewrite\u001b[0m\u001b[1;33m(\u001b[0m\u001b[0me\u001b[0m\u001b[1;33m,\u001b[0m \u001b[1;34m'typing'\u001b[0m\u001b[1;33m)\u001b[0m\u001b[1;33m\u001b[0m\u001b[1;33m\u001b[0m\u001b[0m\n\u001b[0m\u001b[0;32m    421\u001b[0m         \u001b[1;32mexcept\u001b[0m \u001b[0merrors\u001b[0m\u001b[1;33m.\u001b[0m\u001b[0mUnsupportedError\u001b[0m \u001b[1;32mas\u001b[0m \u001b[0me\u001b[0m\u001b[1;33m:\u001b[0m\u001b[1;33m\u001b[0m\u001b[1;33m\u001b[0m\u001b[0m\n\u001b[0;32m    422\u001b[0m             \u001b[1;31m# Something unsupported is present in the user code, add help info\u001b[0m\u001b[1;33m\u001b[0m\u001b[1;33m\u001b[0m\u001b[1;33m\u001b[0m\u001b[0m\n",
          "\u001b[1;32m~\\AppData\\Local\\Programs\\Python\\Python39\\lib\\site-packages\\numba\\core\\dispatcher.py\u001b[0m in \u001b[0;36merror_rewrite\u001b[1;34m(e, issue_type)\u001b[0m\n\u001b[0;32m    359\u001b[0m                 \u001b[1;32mraise\u001b[0m \u001b[0me\u001b[0m\u001b[1;33m\u001b[0m\u001b[1;33m\u001b[0m\u001b[0m\n\u001b[0;32m    360\u001b[0m             \u001b[1;32melse\u001b[0m\u001b[1;33m:\u001b[0m\u001b[1;33m\u001b[0m\u001b[1;33m\u001b[0m\u001b[0m\n\u001b[1;32m--> 361\u001b[1;33m                 \u001b[1;32mraise\u001b[0m \u001b[0me\u001b[0m\u001b[1;33m.\u001b[0m\u001b[0mwith_traceback\u001b[0m\u001b[1;33m(\u001b[0m\u001b[1;32mNone\u001b[0m\u001b[1;33m)\u001b[0m\u001b[1;33m\u001b[0m\u001b[1;33m\u001b[0m\u001b[0m\n\u001b[0m\u001b[0;32m    362\u001b[0m \u001b[1;33m\u001b[0m\u001b[0m\n\u001b[0;32m    363\u001b[0m         \u001b[0margtypes\u001b[0m \u001b[1;33m=\u001b[0m \u001b[1;33m[\u001b[0m\u001b[1;33m]\u001b[0m\u001b[1;33m\u001b[0m\u001b[1;33m\u001b[0m\u001b[0m\n",
          "\u001b[1;31mTypingError\u001b[0m: Failed in nopython mode pipeline (step: nopython frontend)\n\u001b[1m\u001b[1m\u001b[1mNo implementation of function Function(<class 'str'>) found for signature:\n \n >>> str(float64)\n \nThere are 6 candidate implementations:\n\u001b[1m   - Of which 6 did not match due to:\n   Overload of function 'str': File: <numerous>: Line N/A.\n     With argument(s): '(float64)':\u001b[0m\n\u001b[1m    No match.\u001b[0m\n\u001b[0m\n\u001b[0m\u001b[1mDuring: resolving callee type: Function(<class 'str'>)\u001b[0m\n\u001b[0m\u001b[1mDuring: typing of call at <ipython-input-303-c303b24334d4> (7)\n\u001b[0m\n\u001b[1m\nFile \"<ipython-input-303-c303b24334d4>\", line 7:\u001b[0m\n\u001b[1mdef midpoint(a, b, n):\n    <source elided>\n    s = np.sum(f(x_mid))\n\u001b[1m    print(\"Real Value: \" + str(realValue(a, b)))\n\u001b[0m    \u001b[1m^\u001b[0m\u001b[0m\n"
         ]
        }
       ]
      }
     },
     "73f6debd99a34401852baf5cf5482a12": {
      "model_module": "@jupyter-widgets/base",
      "model_module_version": "1.2.0",
      "model_name": "LayoutModel",
      "state": {}
     },
     "7537e1017e964560af820fd54d99b21c": {
      "model_module": "@jupyter-widgets/controls",
      "model_module_version": "1.5.0",
      "model_name": "ButtonStyleModel",
      "state": {}
     },
     "75476d81a3894af1b95f569a926b0050": {
      "model_module": "@jupyter-widgets/base",
      "model_module_version": "1.2.0",
      "model_name": "LayoutModel",
      "state": {}
     },
     "759b87fd57c4426d967ad9b4f6a7fced": {
      "model_module": "@jupyter-widgets/base",
      "model_module_version": "1.2.0",
      "model_name": "LayoutModel",
      "state": {}
     },
     "7625f6cdb9484fc0b153fd5cb6fb1824": {
      "model_module": "@jupyter-widgets/controls",
      "model_module_version": "1.5.0",
      "model_name": "VBoxModel",
      "state": {
       "_dom_classes": [
        "widget-interact"
       ],
       "children": [
        "IPY_MODEL_83792043565f43ac9e499db2936962e5",
        "IPY_MODEL_c729e90d68764fd6b4a61a4830c3e553",
        "IPY_MODEL_a4bb1ee940884f01b60f5de498630aa0",
        "IPY_MODEL_6194f4c3268e4202ad889e9d83e375a8"
       ],
       "layout": "IPY_MODEL_6e31a994dd8446b0b6968545933abf99"
      }
     },
     "77487ec4f053461a93f8f933583b3cda": {
      "model_module": "@jupyter-widgets/controls",
      "model_module_version": "1.5.0",
      "model_name": "SliderStyleModel",
      "state": {
       "description_width": ""
      }
     },
     "779b28a979c5481eb27af92238bf614e": {
      "model_module": "@jupyter-widgets/base",
      "model_module_version": "1.2.0",
      "model_name": "LayoutModel",
      "state": {}
     },
     "77ca1bb93afc469a83efc926b665ef3a": {
      "model_module": "@jupyter-widgets/controls",
      "model_module_version": "1.5.0",
      "model_name": "SliderStyleModel",
      "state": {
       "description_width": ""
      }
     },
     "77d54516e57b48f9812d1af5c5abd9d0": {
      "model_module": "@jupyter-widgets/controls",
      "model_module_version": "1.5.0",
      "model_name": "ButtonStyleModel",
      "state": {}
     },
     "77efe71bd07f4cb6b2705c83e2b09a72": {
      "model_module": "@jupyter-widgets/output",
      "model_module_version": "1.0.0",
      "model_name": "OutputModel",
      "state": {
       "layout": "IPY_MODEL_aa6d84bbd985465296693ed3517561a3",
       "outputs": [
        {
         "name": "stdout",
         "output_type": "stream",
         "text": "Real Value:\t\t 0.6931471805599453\nApproximated Value:\t 0.69314718055991\n"
        }
       ]
      }
     },
     "77f52c934ee64ccda101bfb07b7543a2": {
      "model_module": "@jupyter-widgets/controls",
      "model_module_version": "1.5.0",
      "model_name": "SliderStyleModel",
      "state": {
       "description_width": ""
      }
     },
     "77f556f9e800498aa49a4e8c7fcb224a": {
      "model_module": "@jupyter-widgets/controls",
      "model_module_version": "1.5.0",
      "model_name": "ButtonStyleModel",
      "state": {}
     },
     "77f79f3d2b5c414ea1a89d20e0871980": {
      "model_module": "@jupyter-widgets/base",
      "model_module_version": "1.2.0",
      "model_name": "LayoutModel",
      "state": {}
     },
     "780fd0f2b32f4fb89a2d4fa706235e4f": {
      "model_module": "@jupyter-widgets/controls",
      "model_module_version": "1.5.0",
      "model_name": "VBoxModel",
      "state": {
       "_dom_classes": [
        "widget-interact"
       ],
       "children": [
        "IPY_MODEL_8bf3119d3d3e4ca8b9a93b0e33ace7cb",
        "IPY_MODEL_89b448525e874defb9222f1bee06aecb",
        "IPY_MODEL_ea4f0b3931d14809956d8d3d15ef5516",
        "IPY_MODEL_faa11264f38e4c5caa08f0bf73271912"
       ],
       "layout": "IPY_MODEL_8989dbce887b48ac92d501e865557e5e"
      }
     },
     "783466689a5e4dc292bd1ce7e1853428": {
      "model_module": "@jupyter-widgets/base",
      "model_module_version": "1.2.0",
      "model_name": "LayoutModel",
      "state": {}
     },
     "786c60a4830b4f68bd06148640741488": {
      "model_module": "@jupyter-widgets/controls",
      "model_module_version": "1.5.0",
      "model_name": "VBoxModel",
      "state": {
       "_dom_classes": [
        "widget-interact"
       ],
       "children": [
        "IPY_MODEL_0a3f173af08241968ca97bc0c829f007",
        "IPY_MODEL_c546fe0d5cec44b8bb12de453664f6de",
        "IPY_MODEL_4450f0f6809c45abb69b07c39164839e",
        "IPY_MODEL_cc04f22bd6424e91add86faa71ceefe7",
        "IPY_MODEL_30d578ad182545409f314991c8fdddcc"
       ],
       "layout": "IPY_MODEL_4e638e19afd94820a9ecbf7aa65e1c6f"
      }
     },
     "796f9c1be3e24a67b613183cf9bd088c": {
      "model_module": "@jupyter-widgets/base",
      "model_module_version": "1.2.0",
      "model_name": "LayoutModel",
      "state": {
       "width": "100%"
      }
     },
     "79bb76598c64450a93d5059c54ba3bca": {
      "model_module": "@jupyter-widgets/controls",
      "model_module_version": "1.5.0",
      "model_name": "ButtonModel",
      "state": {
       "description": "Run Interact",
       "layout": "IPY_MODEL_3b9d4393dec34c4ab2ce83b454a61ad3",
       "style": "IPY_MODEL_062a8b6947ee46bebf9c7a88a93e76e5"
      }
     },
     "7a73498f02154c6b80da8af063416072": {
      "model_module": "@jupyter-widgets/base",
      "model_module_version": "1.2.0",
      "model_name": "LayoutModel",
      "state": {}
     },
     "7a78a54b7c2e44749c3314f11094939c": {
      "model_module": "@jupyter-widgets/controls",
      "model_module_version": "1.5.0",
      "model_name": "ButtonStyleModel",
      "state": {}
     },
     "7b6f417236d54b029eff61c7c8aa92f2": {
      "model_module": "@jupyter-widgets/base",
      "model_module_version": "1.2.0",
      "model_name": "LayoutModel",
      "state": {}
     },
     "7bdec13d7203480d989da0bee3b9bedf": {
      "model_module": "@jupyter-widgets/base",
      "model_module_version": "1.2.0",
      "model_name": "LayoutModel",
      "state": {}
     },
     "7cec4e711e344eb592ffc111dbe0cf92": {
      "model_module": "@jupyter-widgets/controls",
      "model_module_version": "1.5.0",
      "model_name": "SliderStyleModel",
      "state": {
       "description_width": ""
      }
     },
     "7d6b862ac0384ca098d760163a5fec02": {
      "model_module": "@jupyter-widgets/controls",
      "model_module_version": "1.5.0",
      "model_name": "IntSliderModel",
      "state": {
       "description": "n",
       "layout": "IPY_MODEL_1a17125be07f4576982cc35fffc42bb2",
       "max": 100000000,
       "min": 1,
       "style": "IPY_MODEL_e726a2c3cbbd48f99a5655c97f5a0872",
       "value": 10
      }
     },
     "7db445d56bae48029dad997da874868f": {
      "model_module": "@jupyter-widgets/controls",
      "model_module_version": "1.5.0",
      "model_name": "IntSliderModel",
      "state": {
       "description": "a",
       "layout": "IPY_MODEL_b54fedb8a2dc4ac7bb7a6bc12084b332",
       "style": "IPY_MODEL_0cf896f4a968417890340ce5156e175a"
      }
     },
     "7db98597dd8a4f8280535cdc35b4edfc": {
      "model_module": "@jupyter-widgets/controls",
      "model_module_version": "1.5.0",
      "model_name": "IntSliderModel",
      "state": {
       "description": "b",
       "layout": "IPY_MODEL_cfb678f3eeef468bb87483a0a3387a5c",
       "style": "IPY_MODEL_388dc1de2f9b4013b6c984b581ee9f96",
       "value": 1
      }
     },
     "7e82f1d5cd2e4d028b5bfc10518d25ba": {
      "model_module": "@jupyter-widgets/controls",
      "model_module_version": "1.5.0",
      "model_name": "ButtonStyleModel",
      "state": {}
     },
     "80af8e1a9d934a57a6e80af29d17dfbd": {
      "model_module": "@jupyter-widgets/base",
      "model_module_version": "1.2.0",
      "model_name": "LayoutModel",
      "state": {}
     },
     "8160cabfd80146d9b6d2e732f429d933": {
      "model_module": "@jupyter-widgets/controls",
      "model_module_version": "1.5.0",
      "model_name": "IntSliderModel",
      "state": {
       "description": "b",
       "layout": "IPY_MODEL_5a9a76c401ef4bf8b6a249f56fa2997d",
       "style": "IPY_MODEL_18c146c69f9343f5a8a62bb37490025a",
       "value": 1
      }
     },
     "816d0aabf1b34406b58b4644120869b2": {
      "model_module": "@jupyter-widgets/controls",
      "model_module_version": "1.5.0",
      "model_name": "VBoxModel",
      "state": {
       "_dom_classes": [
        "widget-interact"
       ],
       "children": [
        "IPY_MODEL_d47879c37c154d7aa32a6e9635c88d08",
        "IPY_MODEL_6ae8bbd57e464385a959085eda871f77",
        "IPY_MODEL_e9d3dfc45ed04c479d8c09718c98ac62",
        "IPY_MODEL_0dd8a89053aa41869ed00ff22c8f1fd2",
        "IPY_MODEL_77efe71bd07f4cb6b2705c83e2b09a72"
       ],
       "layout": "IPY_MODEL_759b87fd57c4426d967ad9b4f6a7fced"
      }
     },
     "81ad1b287af84b1d981cc9a21244ca8f": {
      "model_module": "@jupyter-widgets/base",
      "model_module_version": "1.2.0",
      "model_name": "LayoutModel",
      "state": {}
     },
     "8375d17a73514554b9b8551c00665e53": {
      "model_module": "@jupyter-widgets/controls",
      "model_module_version": "1.5.0",
      "model_name": "VBoxModel",
      "state": {
       "_dom_classes": [
        "widget-interact"
       ],
       "children": [
        "IPY_MODEL_170bd131d25147268ad08f58690e3c3a",
        "IPY_MODEL_a2fc037c252745b4b2e18268d7529d79",
        "IPY_MODEL_53b0d5d090cc455e85c679b28e43c955",
        "IPY_MODEL_4f633be2c3bc466194c0bc092e2d1a01"
       ],
       "layout": "IPY_MODEL_6ee3ad5051184f7a9289333430b39b13"
      }
     },
     "83792043565f43ac9e499db2936962e5": {
      "model_module": "@jupyter-widgets/controls",
      "model_module_version": "1.5.0",
      "model_name": "FloatRangeSliderModel",
      "state": {
       "_model_name": "FloatRangeSliderModel",
       "_view_name": "FloatRangeSliderView",
       "description": "i",
       "layout": "IPY_MODEL_bde571c3a3bd407e903fb31f5d502697",
       "step": 0.1,
       "style": "IPY_MODEL_d2c06f50180e456e955674035c171a40",
       "value": [
        0,
        63.4
       ]
      }
     },
     "842389441ae5470194d94b9fb8f24b4a": {
      "model_module": "@jupyter-widgets/base",
      "model_module_version": "1.2.0",
      "model_name": "LayoutModel",
      "state": {}
     },
     "848975447cc74e24b9d530ae438e67fc": {
      "model_module": "@jupyter-widgets/controls",
      "model_module_version": "1.5.0",
      "model_name": "ButtonStyleModel",
      "state": {}
     },
     "85699beeec4e4f7c818c499252a06a92": {
      "model_module": "@jupyter-widgets/output",
      "model_module_version": "1.0.0",
      "model_name": "OutputModel",
      "state": {
       "layout": "IPY_MODEL_779b28a979c5481eb27af92238bf614e"
      }
     },
     "85f2037743574435853266cbf0e3aeb9": {
      "model_module": "@jupyter-widgets/controls",
      "model_module_version": "1.5.0",
      "model_name": "VBoxModel",
      "state": {
       "_dom_classes": [
        "widget-interact"
       ],
       "children": [
        "IPY_MODEL_eac0fffd96b2473b9f9d339fcf36a60d",
        "IPY_MODEL_3196ea42824f40b6b81bb37bc49c9931",
        "IPY_MODEL_aa10b852aede4aa69624e4bacb2455be",
        "IPY_MODEL_c247605240cd488395f83cd54dc296d9",
        "IPY_MODEL_bfd66d7439834ef0b0964642db6472da"
       ],
       "layout": "IPY_MODEL_69338815b8ad468aafa9d01c2fa7e778"
      }
     },
     "8677a3c8282144c58d8aa3572d85305f": {
      "model_module": "@jupyter-widgets/base",
      "model_module_version": "1.2.0",
      "model_name": "LayoutModel",
      "state": {}
     },
     "86e1f6851d3341beaaee984ca3c7c415": {
      "model_module": "@jupyter-widgets/controls",
      "model_module_version": "1.5.0",
      "model_name": "IntSliderModel",
      "state": {
       "description": "b",
       "layout": "IPY_MODEL_c1b4ac7a6c8b45fd9196ad5d164957d2",
       "style": "IPY_MODEL_722f9ad0aefa4278ba790f275b3076d7",
       "value": 1
      }
     },
     "87117edba8da46f68fe2d49d20dc1f2b": {
      "model_module": "@jupyter-widgets/base",
      "model_module_version": "1.2.0",
      "model_name": "LayoutModel",
      "state": {}
     },
     "87133e77543c4614ad32103de17bca9b": {
      "model_module": "@jupyter-widgets/base",
      "model_module_version": "1.2.0",
      "model_name": "LayoutModel",
      "state": {}
     },
     "8863c3989ae1449a919776d7038a6f73": {
      "model_module": "@jupyter-widgets/controls",
      "model_module_version": "1.5.0",
      "model_name": "SliderStyleModel",
      "state": {
       "description_width": ""
      }
     },
     "88a7b2ccd6104ad79c3f758205a58260": {
      "model_module": "@jupyter-widgets/controls",
      "model_module_version": "1.5.0",
      "model_name": "FloatRangeSliderModel",
      "state": {
       "_model_name": "FloatRangeSliderModel",
       "_view_name": "FloatRangeSliderView",
       "description": "i",
       "layout": "IPY_MODEL_c41a4527cf7146298d1e657c5cfada1a",
       "step": 0.1,
       "style": "IPY_MODEL_e5667da803cc4899b08ebb1cf5a110d5",
       "value": [
        0,
        1
       ]
      }
     },
     "88f7c55e55484ba4ba6ca812c0bdae78": {
      "model_module": "@jupyter-widgets/controls",
      "model_module_version": "1.5.0",
      "model_name": "SliderStyleModel",
      "state": {
       "description_width": ""
      }
     },
     "89286b9b6547483abf7aa845df229fce": {
      "model_module": "@jupyter-widgets/base",
      "model_module_version": "1.2.0",
      "model_name": "LayoutModel",
      "state": {}
     },
     "8989dbce887b48ac92d501e865557e5e": {
      "model_module": "@jupyter-widgets/base",
      "model_module_version": "1.2.0",
      "model_name": "LayoutModel",
      "state": {}
     },
     "89b448525e874defb9222f1bee06aecb": {
      "model_module": "@jupyter-widgets/controls",
      "model_module_version": "1.5.0",
      "model_name": "IntSliderModel",
      "state": {
       "description": "n",
       "layout": "IPY_MODEL_3fafceebc43e4b4292f727299a5bfb2d",
       "max": 100000000,
       "min": 1,
       "style": "IPY_MODEL_96a3fa8e3d15480ab89b902c91caa016",
       "value": 10
      }
     },
     "89ef9e70c50e424da54d272dbbf0cf08": {
      "model_module": "@jupyter-widgets/base",
      "model_module_version": "1.2.0",
      "model_name": "LayoutModel",
      "state": {}
     },
     "8ac86156d63e4f459578340fa146a341": {
      "model_module": "@jupyter-widgets/controls",
      "model_module_version": "1.5.0",
      "model_name": "IntSliderModel",
      "state": {
       "description": "a",
       "layout": "IPY_MODEL_7b6f417236d54b029eff61c7c8aa92f2",
       "style": "IPY_MODEL_65f3d8d50da84e78acf5196fa6bf7ef9"
      }
     },
     "8b13f1acb77e4616939cef84000389a4": {
      "model_module": "@jupyter-widgets/base",
      "model_module_version": "1.2.0",
      "model_name": "LayoutModel",
      "state": {}
     },
     "8b4d2ad603524e2bb52ea16f7e1a9688": {
      "model_module": "@jupyter-widgets/controls",
      "model_module_version": "1.5.0",
      "model_name": "SliderStyleModel",
      "state": {
       "description_width": ""
      }
     },
     "8bf3119d3d3e4ca8b9a93b0e33ace7cb": {
      "model_module": "@jupyter-widgets/controls",
      "model_module_version": "1.5.0",
      "model_name": "FloatRangeSliderModel",
      "state": {
       "_model_name": "FloatRangeSliderModel",
       "_view_name": "FloatRangeSliderView",
       "description": "i",
       "layout": "IPY_MODEL_3a5f809d8e0643a68bffb39403dc59f3",
       "step": 0.1,
       "style": "IPY_MODEL_18a9bf1030f94502bcc8777f42556b50",
       "value": [
        9.6,
        60.9
       ]
      }
     },
     "8c316477363f49ba9a383e7709f71e86": {
      "model_module": "@jupyter-widgets/controls",
      "model_module_version": "1.5.0",
      "model_name": "SliderStyleModel",
      "state": {
       "description_width": ""
      }
     },
     "8c3a07ab3bad4fbdb9e3ed5166d8d2fc": {
      "model_module": "@jupyter-widgets/controls",
      "model_module_version": "1.5.0",
      "model_name": "ButtonModel",
      "state": {
       "description": "Run Interact",
       "layout": "IPY_MODEL_02ac9a5fef294ccc945552615e37de62",
       "style": "IPY_MODEL_da088dcf172c4fb98c4b24f66d7c0dae"
      }
     },
     "8c4dc2d0ed334f6a897e43bd2b03cd92": {
      "model_module": "@jupyter-widgets/controls",
      "model_module_version": "1.5.0",
      "model_name": "IntSliderModel",
      "state": {
       "description": "$n: $",
       "layout": "IPY_MODEL_a5fc86e3ae5c4d198c54a805702c255c",
       "max": 100000000,
       "min": 1,
       "style": "IPY_MODEL_9b3e543dcc0b43359882c5d67a583962",
       "value": 10
      }
     },
     "8c85b0fe869a4eb5b7c0b6e6073b29fc": {
      "model_module": "@jupyter-widgets/controls",
      "model_module_version": "1.5.0",
      "model_name": "ButtonModel",
      "state": {
       "description": "Run Interact",
       "layout": "IPY_MODEL_4cd759da069e4b1a861bce1ed3677975",
       "style": "IPY_MODEL_7e82f1d5cd2e4d028b5bfc10518d25ba"
      }
     },
     "8d0230e341204175beb75f230b425090": {
      "model_module": "@jupyter-widgets/controls",
      "model_module_version": "1.5.0",
      "model_name": "VBoxModel",
      "state": {
       "_dom_classes": [
        "widget-interact"
       ],
       "children": [
        "IPY_MODEL_f699dc4e31b74c86a0ae9147dbb86727",
        "IPY_MODEL_33c195eba15442a79a6efbdd135353b7",
        "IPY_MODEL_a70be10f69fe4918a11816f187df43a4",
        "IPY_MODEL_b24645e80ff8492aae077bd02f88f4a2"
       ],
       "layout": "IPY_MODEL_eca99ccb60344f3c8c935bb169b81a5d"
      }
     },
     "8d74d2504c694054bdb6e1db95c79923": {
      "model_module": "@jupyter-widgets/base",
      "model_module_version": "1.2.0",
      "model_name": "LayoutModel",
      "state": {}
     },
     "8e7fec18128c42729ebd076a6f3c22ce": {
      "model_module": "@jupyter-widgets/controls",
      "model_module_version": "1.5.0",
      "model_name": "IntSliderModel",
      "state": {
       "description": "a",
       "layout": "IPY_MODEL_cbe71eaea75d49e7b28cb74ac5fe422d",
       "style": "IPY_MODEL_61350f86dd974cbc8393559e8f3d33e4"
      }
     },
     "8ebd33b41f4c41cfb0e3af36915badfd": {
      "model_module": "@jupyter-widgets/controls",
      "model_module_version": "1.5.0",
      "model_name": "IntSliderModel",
      "state": {
       "description": "b",
       "layout": "IPY_MODEL_2ba3712bb35448b9af8804d068217fd9",
       "style": "IPY_MODEL_f5220d2aa8904e9d99cfe57b61eb1f8e",
       "value": 1
      }
     },
     "8eebd95bd1f24a009d2e1df52047be33": {
      "model_module": "@jupyter-widgets/controls",
      "model_module_version": "1.5.0",
      "model_name": "IntSliderModel",
      "state": {
       "description": "b",
       "layout": "IPY_MODEL_4552b393581b40eaa9af4d183ef69cff",
       "style": "IPY_MODEL_03ae310078a84af5a06c2ad0c95df980",
       "value": 1
      }
     },
     "8f0a48cd25994ef3a46ee16536284871": {
      "model_module": "@jupyter-widgets/output",
      "model_module_version": "1.0.0",
      "model_name": "OutputModel",
      "state": {
       "layout": "IPY_MODEL_842389441ae5470194d94b9fb8f24b4a",
       "outputs": [
        {
         "ename": "UnsupportedError",
         "evalue": "Failed in nopython mode pipeline (step: analyzing bytecode)\n\u001b[1mUse of unsupported opcode (FORMAT_VALUE) found\n\u001b[1m\nFile \"<ipython-input-297-2871d96c168c>\", line 7:\u001b[0m\n\u001b[1mdef midpoint(a, b, n):\n    <source elided>\n    s = np.sum(f(x_mid))\n\u001b[1m    print(f\"Real Value: {realValue(a, b)}\")\n\u001b[0m    \u001b[1m^\u001b[0m\u001b[0m\n\u001b[0m",
         "output_type": "error",
         "traceback": [
          "\u001b[1;31m---------------------------------------------------------------------------\u001b[0m",
          "\u001b[1;31mUnsupportedError\u001b[0m                          Traceback (most recent call last)",
          "\u001b[1;32m~\\AppData\\Local\\Programs\\Python\\Python39\\lib\\site-packages\\ipywidgets\\widgets\\interaction.py\u001b[0m in \u001b[0;36mupdate\u001b[1;34m(self, *args)\u001b[0m\n\u001b[0;32m    254\u001b[0m                     \u001b[0mvalue\u001b[0m \u001b[1;33m=\u001b[0m \u001b[0mwidget\u001b[0m\u001b[1;33m.\u001b[0m\u001b[0mget_interact_value\u001b[0m\u001b[1;33m(\u001b[0m\u001b[1;33m)\u001b[0m\u001b[1;33m\u001b[0m\u001b[1;33m\u001b[0m\u001b[0m\n\u001b[0;32m    255\u001b[0m                     \u001b[0mself\u001b[0m\u001b[1;33m.\u001b[0m\u001b[0mkwargs\u001b[0m\u001b[1;33m[\u001b[0m\u001b[0mwidget\u001b[0m\u001b[1;33m.\u001b[0m\u001b[0m_kwarg\u001b[0m\u001b[1;33m]\u001b[0m \u001b[1;33m=\u001b[0m \u001b[0mvalue\u001b[0m\u001b[1;33m\u001b[0m\u001b[1;33m\u001b[0m\u001b[0m\n\u001b[1;32m--> 256\u001b[1;33m                 \u001b[0mself\u001b[0m\u001b[1;33m.\u001b[0m\u001b[0mresult\u001b[0m \u001b[1;33m=\u001b[0m \u001b[0mself\u001b[0m\u001b[1;33m.\u001b[0m\u001b[0mf\u001b[0m\u001b[1;33m(\u001b[0m\u001b[1;33m**\u001b[0m\u001b[0mself\u001b[0m\u001b[1;33m.\u001b[0m\u001b[0mkwargs\u001b[0m\u001b[1;33m)\u001b[0m\u001b[1;33m\u001b[0m\u001b[1;33m\u001b[0m\u001b[0m\n\u001b[0m\u001b[0;32m    257\u001b[0m                 \u001b[0mshow_inline_matplotlib_plots\u001b[0m\u001b[1;33m(\u001b[0m\u001b[1;33m)\u001b[0m\u001b[1;33m\u001b[0m\u001b[1;33m\u001b[0m\u001b[0m\n\u001b[0;32m    258\u001b[0m                 \u001b[1;32mif\u001b[0m \u001b[0mself\u001b[0m\u001b[1;33m.\u001b[0m\u001b[0mauto_display\u001b[0m \u001b[1;32mand\u001b[0m \u001b[0mself\u001b[0m\u001b[1;33m.\u001b[0m\u001b[0mresult\u001b[0m \u001b[1;32mis\u001b[0m \u001b[1;32mnot\u001b[0m \u001b[1;32mNone\u001b[0m\u001b[1;33m:\u001b[0m\u001b[1;33m\u001b[0m\u001b[1;33m\u001b[0m\u001b[0m\n",
          "\u001b[1;32m~\\AppData\\Local\\Programs\\Python\\Python39\\lib\\site-packages\\numba\\core\\dispatcher.py\u001b[0m in \u001b[0;36m_compile_for_args\u001b[1;34m(self, *args, **kws)\u001b[0m\n\u001b[0;32m    421\u001b[0m         \u001b[1;32mexcept\u001b[0m \u001b[0merrors\u001b[0m\u001b[1;33m.\u001b[0m\u001b[0mUnsupportedError\u001b[0m \u001b[1;32mas\u001b[0m \u001b[0me\u001b[0m\u001b[1;33m:\u001b[0m\u001b[1;33m\u001b[0m\u001b[1;33m\u001b[0m\u001b[0m\n\u001b[0;32m    422\u001b[0m             \u001b[1;31m# Something unsupported is present in the user code, add help info\u001b[0m\u001b[1;33m\u001b[0m\u001b[1;33m\u001b[0m\u001b[1;33m\u001b[0m\u001b[0m\n\u001b[1;32m--> 423\u001b[1;33m             \u001b[0merror_rewrite\u001b[0m\u001b[1;33m(\u001b[0m\u001b[0me\u001b[0m\u001b[1;33m,\u001b[0m \u001b[1;34m'unsupported_error'\u001b[0m\u001b[1;33m)\u001b[0m\u001b[1;33m\u001b[0m\u001b[1;33m\u001b[0m\u001b[0m\n\u001b[0m\u001b[0;32m    424\u001b[0m         except (errors.NotDefinedError, errors.RedefinedError,\n\u001b[0;32m    425\u001b[0m                 errors.VerificationError) as e:\n",
          "\u001b[1;32m~\\AppData\\Local\\Programs\\Python\\Python39\\lib\\site-packages\\numba\\core\\dispatcher.py\u001b[0m in \u001b[0;36merror_rewrite\u001b[1;34m(e, issue_type)\u001b[0m\n\u001b[0;32m    359\u001b[0m                 \u001b[1;32mraise\u001b[0m \u001b[0me\u001b[0m\u001b[1;33m\u001b[0m\u001b[1;33m\u001b[0m\u001b[0m\n\u001b[0;32m    360\u001b[0m             \u001b[1;32melse\u001b[0m\u001b[1;33m:\u001b[0m\u001b[1;33m\u001b[0m\u001b[1;33m\u001b[0m\u001b[0m\n\u001b[1;32m--> 361\u001b[1;33m                 \u001b[1;32mraise\u001b[0m \u001b[0me\u001b[0m\u001b[1;33m.\u001b[0m\u001b[0mwith_traceback\u001b[0m\u001b[1;33m(\u001b[0m\u001b[1;32mNone\u001b[0m\u001b[1;33m)\u001b[0m\u001b[1;33m\u001b[0m\u001b[1;33m\u001b[0m\u001b[0m\n\u001b[0m\u001b[0;32m    362\u001b[0m \u001b[1;33m\u001b[0m\u001b[0m\n\u001b[0;32m    363\u001b[0m         \u001b[0margtypes\u001b[0m \u001b[1;33m=\u001b[0m \u001b[1;33m[\u001b[0m\u001b[1;33m]\u001b[0m\u001b[1;33m\u001b[0m\u001b[1;33m\u001b[0m\u001b[0m\n",
          "\u001b[1;31mUnsupportedError\u001b[0m: Failed in nopython mode pipeline (step: analyzing bytecode)\n\u001b[1mUse of unsupported opcode (FORMAT_VALUE) found\n\u001b[1m\nFile \"<ipython-input-297-2871d96c168c>\", line 7:\u001b[0m\n\u001b[1mdef midpoint(a, b, n):\n    <source elided>\n    s = np.sum(f(x_mid))\n\u001b[1m    print(f\"Real Value: {realValue(a, b)}\")\n\u001b[0m    \u001b[1m^\u001b[0m\u001b[0m\n\u001b[0m"
         ]
        }
       ]
      }
     },
     "8f47dea69d5740b68c25fc463ede8943": {
      "model_module": "@jupyter-widgets/controls",
      "model_module_version": "1.5.0",
      "model_name": "SliderStyleModel",
      "state": {
       "description_width": ""
      }
     },
     "8f4c6d097b684e4284a155d1e2a90554": {
      "model_module": "@jupyter-widgets/controls",
      "model_module_version": "1.5.0",
      "model_name": "ButtonStyleModel",
      "state": {}
     },
     "9017d36234604feb85a6894cd199518c": {
      "model_module": "@jupyter-widgets/controls",
      "model_module_version": "1.5.0",
      "model_name": "SliderStyleModel",
      "state": {
       "description_width": ""
      }
     },
     "904482a1312347c3a977f203795f40be": {
      "model_module": "@jupyter-widgets/controls",
      "model_module_version": "1.5.0",
      "model_name": "IntSliderModel",
      "state": {
       "layout": "IPY_MODEL_99ac75b106924edda1912b773db6ce4e",
       "max": 100000000,
       "style": "IPY_MODEL_d872d5b7260b4c029d9b22328cc0dc61",
       "value": 10
      }
     },
     "917eae8e4bbb495988951cd64f6cfe54": {
      "model_module": "@jupyter-widgets/controls",
      "model_module_version": "1.5.0",
      "model_name": "IntSliderModel",
      "state": {
       "description": "a",
       "layout": "IPY_MODEL_a3161052b00042938dff1cd9b4991aa7",
       "style": "IPY_MODEL_b0ccd157969e4cebb89911b3d7b98b87"
      }
     },
     "91bf6bfe704445369c01f3b20a6a8741": {
      "model_module": "@jupyter-widgets/controls",
      "model_module_version": "1.5.0",
      "model_name": "ButtonStyleModel",
      "state": {}
     },
     "9283de4cadfe4b29be4ba66910c8c899": {
      "model_module": "@jupyter-widgets/base",
      "model_module_version": "1.2.0",
      "model_name": "LayoutModel",
      "state": {}
     },
     "92b0801097204b66b496b1349dab8d1d": {
      "model_module": "@jupyter-widgets/base",
      "model_module_version": "1.2.0",
      "model_name": "LayoutModel",
      "state": {}
     },
     "93503befd07d448ba8ac7654c988a1af": {
      "model_module": "@jupyter-widgets/controls",
      "model_module_version": "1.5.0",
      "model_name": "ButtonStyleModel",
      "state": {}
     },
     "946cbd08ae494cc485b45a26202569e0": {
      "model_module": "@jupyter-widgets/controls",
      "model_module_version": "1.5.0",
      "model_name": "IntSliderModel",
      "state": {
       "description": "b",
       "layout": "IPY_MODEL_45db7a4dabea48af99726acb3cfba666",
       "style": "IPY_MODEL_f99fdd924e2f4c7782feb6112ed388a2",
       "value": 1
      }
     },
     "94865f5503d1473f9f895e6ab5b4dfe8": {
      "model_module": "@jupyter-widgets/controls",
      "model_module_version": "1.5.0",
      "model_name": "IntSliderModel",
      "state": {
       "description": "n",
       "layout": "IPY_MODEL_2e3d9c007b2243b69f1dd8fff687d490",
       "max": 100000000,
       "min": 1,
       "style": "IPY_MODEL_512202374e674529b27037cfc07046ab",
       "value": 10
      }
     },
     "9546739ccbf840d68f63db989820344b": {
      "model_module": "@jupyter-widgets/controls",
      "model_module_version": "1.5.0",
      "model_name": "ButtonModel",
      "state": {
       "description": "Run Interact",
       "layout": "IPY_MODEL_561fd0a8288d4dc8a999c008bf52e8d8",
       "style": "IPY_MODEL_6f24816e467b47bd93052de2874f985c"
      }
     },
     "961351b00fc749d991bf8a6e30535c13": {
      "model_module": "@jupyter-widgets/controls",
      "model_module_version": "1.5.0",
      "model_name": "IntSliderModel",
      "state": {
       "description": "b",
       "layout": "IPY_MODEL_7363b64035ae4ee6a409b4eea22f5342",
       "max": 3,
       "min": -1,
       "style": "IPY_MODEL_d8f58071920f411f93f858d9d54194ac",
       "value": 1
      }
     },
     "963add4296a24e1ca60c1aa8610c81c4": {
      "model_module": "@jupyter-widgets/base",
      "model_module_version": "1.2.0",
      "model_name": "LayoutModel",
      "state": {}
     },
     "96a3fa8e3d15480ab89b902c91caa016": {
      "model_module": "@jupyter-widgets/controls",
      "model_module_version": "1.5.0",
      "model_name": "SliderStyleModel",
      "state": {
       "description_width": ""
      }
     },
     "96d3f7a2f72949ff8c19d989578b9538": {
      "model_module": "@jupyter-widgets/controls",
      "model_module_version": "1.5.0",
      "model_name": "SliderStyleModel",
      "state": {
       "description_width": ""
      }
     },
     "97009bd2c7a348239d32e65735a7690f": {
      "model_module": "@jupyter-widgets/controls",
      "model_module_version": "1.5.0",
      "model_name": "VBoxModel",
      "state": {
       "_dom_classes": [
        "widget-interact"
       ],
       "children": [
        "IPY_MODEL_656f649f08964f459aaf1e819b0a6faa",
        "IPY_MODEL_94865f5503d1473f9f895e6ab5b4dfe8",
        "IPY_MODEL_8c3a07ab3bad4fbdb9e3ed5166d8d2fc",
        "IPY_MODEL_a3d685f09e64435cadd99cf54cbf7203"
       ],
       "layout": "IPY_MODEL_80af8e1a9d934a57a6e80af29d17dfbd"
      }
     },
     "984fdfc36b04481791bf400dc5688586": {
      "model_module": "@jupyter-widgets/controls",
      "model_module_version": "1.5.0",
      "model_name": "ButtonStyleModel",
      "state": {}
     },
     "999566a8f9994c80a64a8a9ebdc2caa3": {
      "model_module": "@jupyter-widgets/base",
      "model_module_version": "1.2.0",
      "model_name": "LayoutModel",
      "state": {}
     },
     "99ac75b106924edda1912b773db6ce4e": {
      "model_module": "@jupyter-widgets/base",
      "model_module_version": "1.2.0",
      "model_name": "LayoutModel",
      "state": {}
     },
     "99d6d1a1b8444f0ba8147321f406ce01": {
      "model_module": "@jupyter-widgets/controls",
      "model_module_version": "1.5.0",
      "model_name": "SliderStyleModel",
      "state": {
       "description_width": ""
      }
     },
     "9af951a35ac44c47a100600d5ae8fe29": {
      "model_module": "@jupyter-widgets/base",
      "model_module_version": "1.2.0",
      "model_name": "LayoutModel",
      "state": {}
     },
     "9b3e543dcc0b43359882c5d67a583962": {
      "model_module": "@jupyter-widgets/controls",
      "model_module_version": "1.5.0",
      "model_name": "SliderStyleModel",
      "state": {
       "description_width": ""
      }
     },
     "9b4b14b77a28449ca569e006414ab2fa": {
      "model_module": "@jupyter-widgets/controls",
      "model_module_version": "1.5.0",
      "model_name": "HBoxModel",
      "state": {
       "children": [
        "IPY_MODEL_baee8af201a1430fa54996444ad70d83",
        "IPY_MODEL_2329c2355ced46de92ab85a79bd8bc9b",
        "IPY_MODEL_33f839b004b9445cbaeb47236769434c"
       ],
       "layout": "IPY_MODEL_87117edba8da46f68fe2d49d20dc1f2b"
      }
     },
     "9b8a81b3f4e6466a97fc57646207fcea": {
      "model_module": "@jupyter-widgets/base",
      "model_module_version": "1.2.0",
      "model_name": "LayoutModel",
      "state": {}
     },
     "9bb3df6a9f394bdfab3531c483e14142": {
      "model_module": "@jupyter-widgets/controls",
      "model_module_version": "1.5.0",
      "model_name": "IntSliderModel",
      "state": {
       "description": "b",
       "layout": "IPY_MODEL_b52d406d85f54e9ea341777c56f8c667",
       "style": "IPY_MODEL_1e25f21979c04a228edeec11999ed4b8",
       "value": 1
      }
     },
     "9bbbdd906e0e4bfc8d49c730ecddafab": {
      "model_module": "@jupyter-widgets/controls",
      "model_module_version": "1.5.0",
      "model_name": "SliderStyleModel",
      "state": {
       "description_width": ""
      }
     },
     "9d3d20e4a6e54345b3ae3c20a9cb1168": {
      "model_module": "@jupyter-widgets/base",
      "model_module_version": "1.2.0",
      "model_name": "LayoutModel",
      "state": {}
     },
     "9d75719732974f9a8725335aa3c34093": {
      "model_module": "@jupyter-widgets/base",
      "model_module_version": "1.2.0",
      "model_name": "LayoutModel",
      "state": {}
     },
     "9da5f2e0ee7c44ed8549344aa0877246": {
      "model_module": "@jupyter-widgets/controls",
      "model_module_version": "1.5.0",
      "model_name": "ButtonModel",
      "state": {
       "description": "Run Interact",
       "layout": "IPY_MODEL_d78ec81b8fe24b778af1ad7b33cb2da6",
       "style": "IPY_MODEL_848975447cc74e24b9d530ae438e67fc"
      }
     },
     "9e70326e0d1b40fa8d5c34b352c2edb4": {
      "model_module": "@jupyter-widgets/controls",
      "model_module_version": "1.5.0",
      "model_name": "VBoxModel",
      "state": {
       "_dom_classes": [
        "widget-interact"
       ],
       "children": [
        "IPY_MODEL_7db445d56bae48029dad997da874868f",
        "IPY_MODEL_543e3f1241a7486fb4631d29e3ad6a2f",
        "IPY_MODEL_c754a9649377494b96682e5c894c0a94",
        "IPY_MODEL_b3b123ee5023431ebcb32ce3ffca6037",
        "IPY_MODEL_254b1ee36ced45dbaf1d288389866fd5"
       ],
       "layout": "IPY_MODEL_262b8316563140a39d05043423f0550e"
      }
     },
     "9fb10e2b1a22455cbaba2d20146baabd": {
      "model_module": "@jupyter-widgets/base",
      "model_module_version": "1.2.0",
      "model_name": "LayoutModel",
      "state": {}
     },
     "9fb6f06d143f4157930b117381040be8": {
      "model_module": "@jupyter-widgets/controls",
      "model_module_version": "1.5.0",
      "model_name": "FloatRangeSliderModel",
      "state": {
       "_model_name": "FloatRangeSliderModel",
       "_view_name": "FloatRangeSliderView",
       "description": "$[a, b]:$",
       "layout": "IPY_MODEL_ac0939d372784375992d1a97c82d96cd",
       "step": 0.1,
       "style": "IPY_MODEL_96d3f7a2f72949ff8c19d989578b9538",
       "value": [
        0,
        1
       ]
      }
     },
     "9ff364d4678c465482fac14c780327a2": {
      "model_module": "@jupyter-widgets/base",
      "model_module_version": "1.2.0",
      "model_name": "LayoutModel",
      "state": {}
     },
     "a19b42d33a5e4c57a747d79dd3e64c4c": {
      "model_module": "@jupyter-widgets/controls",
      "model_module_version": "1.5.0",
      "model_name": "ButtonStyleModel",
      "state": {}
     },
     "a1f0dbedf3dc42b882814d8b52518d3e": {
      "model_module": "@jupyter-widgets/controls",
      "model_module_version": "1.5.0",
      "model_name": "ButtonModel",
      "state": {
       "description": "Run Interact",
       "layout": "IPY_MODEL_edd63f33abb94dcd8dc8eaf1232784e3",
       "style": "IPY_MODEL_91bf6bfe704445369c01f3b20a6a8741"
      }
     },
     "a212e8d242a04507b4b7dded139556b0": {
      "model_module": "@jupyter-widgets/controls",
      "model_module_version": "1.5.0",
      "model_name": "FloatRangeSliderModel",
      "state": {
       "_model_name": "FloatRangeSliderModel",
       "_view_name": "FloatRangeSliderView",
       "description": "$[a, b]:$",
       "layout": "IPY_MODEL_f8ffbdd32b414eed8ed96ac5ba0bdf38",
       "step": 0.1,
       "style": "IPY_MODEL_d23f0d0c66ab4914ab2c066a1d149b20",
       "value": [
        0,
        1
       ]
      }
     },
     "a28ea7c8527d472d99d22375c0cb6343": {
      "model_module": "@jupyter-widgets/controls",
      "model_module_version": "1.5.0",
      "model_name": "SliderStyleModel",
      "state": {
       "description_width": ""
      }
     },
     "a2e1b48486cd4cdc872d367d97551bcc": {
      "model_module": "@jupyter-widgets/output",
      "model_module_version": "1.0.0",
      "model_name": "OutputModel",
      "state": {
       "layout": "IPY_MODEL_70f4e1c070ea458ab0cb4026bac81cf2",
       "outputs": [
        {
         "name": "stderr",
         "output_type": "stream",
         "text": "<ipython-input-319-b5fa4658d1c9>:5: NumbaPerformanceWarning: \u001b[1m\u001b[1m\nThe keyword argument 'parallel=True' was specified but no transformation for parallel execution was possible.\n\nTo find out why, try turning on parallel diagnostics, see https://numba.pydata.org/numba-doc/latest/user/parallel.html#diagnostics for help.\n\u001b[1m\nFile \"<ipython-input-300-758d621bb16b>\", line 2:\u001b[0m\n\u001b[1m@njit(parallel=True)\n\u001b[1mdef f(x):\n\u001b[0m\u001b[1m^\u001b[0m\u001b[0m\n\u001b[0m\u001b[0m\n  s = f(i[0]) + (2 * np.sum(f(x[1:-1]))) + f(i[1])\n"
        },
        {
         "name": "stdout",
         "output_type": "stream",
         "text": "Real Value:\t\t 0.6931471805599453\nApproximated Value:\t 0.6937714031754278\n"
        }
       ]
      }
     },
     "a2fc037c252745b4b2e18268d7529d79": {
      "model_module": "@jupyter-widgets/controls",
      "model_module_version": "1.5.0",
      "model_name": "IntSliderModel",
      "state": {
       "description": "n",
       "layout": "IPY_MODEL_254b6ab6bd984d1fbfb03d53dec3ab42",
       "max": 100000000,
       "min": 2,
       "step": 2,
       "style": "IPY_MODEL_77f52c934ee64ccda101bfb07b7543a2",
       "value": 2
      }
     },
     "a3161052b00042938dff1cd9b4991aa7": {
      "model_module": "@jupyter-widgets/base",
      "model_module_version": "1.2.0",
      "model_name": "LayoutModel",
      "state": {}
     },
     "a3d685f09e64435cadd99cf54cbf7203": {
      "model_module": "@jupyter-widgets/output",
      "model_module_version": "1.0.0",
      "model_name": "OutputModel",
      "state": {
       "layout": "IPY_MODEL_61872f9e05f94fdc990b03801c8faa7a",
       "outputs": [
        {
         "name": "stdout",
         "output_type": "stream",
         "text": "Real Value:\t\t 0.6931471805599453\nApproximated Value:\t 0.6937714031754278\n"
        }
       ]
      }
     },
     "a3e57a06ad644b9f94976ac532e806c2": {
      "model_module": "@jupyter-widgets/output",
      "model_module_version": "1.0.0",
      "model_name": "OutputModel",
      "state": {
       "layout": "IPY_MODEL_3c6e2c60d6ed41c5ac5a1183a844f162"
      }
     },
     "a47565256fb64f33a860e8ab1bd338eb": {
      "model_module": "@jupyter-widgets/controls",
      "model_module_version": "1.5.0",
      "model_name": "VBoxModel",
      "state": {
       "_dom_classes": [
        "widget-interact"
       ],
       "layout": "IPY_MODEL_c1f9189d778e4b0f85231dd5fcb6edec"
      }
     },
     "a4bb1ee940884f01b60f5de498630aa0": {
      "model_module": "@jupyter-widgets/controls",
      "model_module_version": "1.5.0",
      "model_name": "ButtonModel",
      "state": {
       "description": "Run Interact",
       "layout": "IPY_MODEL_1b184549a264477ab8c217a92e80a897",
       "style": "IPY_MODEL_0858081f878d497989150e80a68541ed"
      }
     },
     "a5fc86e3ae5c4d198c54a805702c255c": {
      "model_module": "@jupyter-widgets/base",
      "model_module_version": "1.2.0",
      "model_name": "LayoutModel",
      "state": {
       "width": "50%"
      }
     },
     "a60a72c3a83c4f7ca16ea2903b1ffa92": {
      "model_module": "@jupyter-widgets/controls",
      "model_module_version": "1.5.0",
      "model_name": "ButtonStyleModel",
      "state": {}
     },
     "a70be10f69fe4918a11816f187df43a4": {
      "model_module": "@jupyter-widgets/controls",
      "model_module_version": "1.5.0",
      "model_name": "ButtonModel",
      "state": {
       "description": "Run Interact",
       "layout": "IPY_MODEL_87133e77543c4614ad32103de17bca9b",
       "style": "IPY_MODEL_15b1bac6b310449fa7ac917d1c3dc306"
      }
     },
     "a760f3d9bead4b99b7af7fccbef5d4f2": {
      "model_module": "@jupyter-widgets/base",
      "model_module_version": "1.2.0",
      "model_name": "LayoutModel",
      "state": {}
     },
     "a770561fcc424dc7adaacfe1cc3ccfa3": {
      "model_module": "@jupyter-widgets/controls",
      "model_module_version": "1.5.0",
      "model_name": "SliderStyleModel",
      "state": {
       "description_width": ""
      }
     },
     "a7e6a4ef81e44020a9ef4eaf20b74861": {
      "model_module": "@jupyter-widgets/controls",
      "model_module_version": "1.5.0",
      "model_name": "SliderStyleModel",
      "state": {
       "description_width": ""
      }
     },
     "a80d699017ab4172b28b39e75fcf2063": {
      "model_module": "@jupyter-widgets/base",
      "model_module_version": "1.2.0",
      "model_name": "LayoutModel",
      "state": {}
     },
     "a89e18e9dd1f4f31ad9e1be9515624e6": {
      "model_module": "@jupyter-widgets/base",
      "model_module_version": "1.2.0",
      "model_name": "LayoutModel",
      "state": {}
     },
     "a8c074f3d5ac4d25bdf33a44e3429266": {
      "model_module": "@jupyter-widgets/base",
      "model_module_version": "1.2.0",
      "model_name": "LayoutModel",
      "state": {}
     },
     "a9375658471a440c944502d667cabb1c": {
      "model_module": "@jupyter-widgets/controls",
      "model_module_version": "1.5.0",
      "model_name": "SliderStyleModel",
      "state": {
       "description_width": ""
      }
     },
     "a940d87fe1ba4091be2eb361de47ea3d": {
      "model_module": "@jupyter-widgets/controls",
      "model_module_version": "1.5.0",
      "model_name": "SliderStyleModel",
      "state": {
       "description_width": ""
      }
     },
     "aa10b852aede4aa69624e4bacb2455be": {
      "model_module": "@jupyter-widgets/controls",
      "model_module_version": "1.5.0",
      "model_name": "IntSliderModel",
      "state": {
       "description": "n",
       "layout": "IPY_MODEL_c5d602b3381a43eda445cd3ed67d116e",
       "max": 100000000,
       "min": 1,
       "style": "IPY_MODEL_9017d36234604feb85a6894cd199518c",
       "value": 100000000
      }
     },
     "aa6d84bbd985465296693ed3517561a3": {
      "model_module": "@jupyter-widgets/base",
      "model_module_version": "1.2.0",
      "model_name": "LayoutModel",
      "state": {}
     },
     "aa72f91e11c24b3ca0ccf2e2ed17be91": {
      "model_module": "@jupyter-widgets/controls",
      "model_module_version": "1.5.0",
      "model_name": "SliderStyleModel",
      "state": {
       "description_width": ""
      }
     },
     "ac0939d372784375992d1a97c82d96cd": {
      "model_module": "@jupyter-widgets/base",
      "model_module_version": "1.2.0",
      "model_name": "LayoutModel",
      "state": {
       "width": "50%"
      }
     },
     "ac61696b03d24d09a903e07ed2b28da0": {
      "model_module": "@jupyter-widgets/controls",
      "model_module_version": "1.5.0",
      "model_name": "ButtonStyleModel",
      "state": {}
     },
     "ac906159884c43c5991e45879133aee5": {
      "model_module": "@jupyter-widgets/output",
      "model_module_version": "1.0.0",
      "model_name": "OutputModel",
      "state": {
       "layout": "IPY_MODEL_feecc7ebade249529b3b1e8e12606d84",
       "outputs": [
        {
         "name": "stdout",
         "output_type": "stream",
         "text": "0.6928353604099602\n"
        }
       ]
      }
     },
     "acb42216eb3a4714af7baf115fb20dad": {
      "model_module": "@jupyter-widgets/controls",
      "model_module_version": "1.5.0",
      "model_name": "IntSliderModel",
      "state": {
       "description": "b",
       "layout": "IPY_MODEL_3cfcaa9374564a33b11af19a988e6a80",
       "style": "IPY_MODEL_c0c493c499b34af9b619804bd28e7f79",
       "value": 27
      }
     },
     "acd3bd46cbb54bccbfa5f2dddcf76596": {
      "model_module": "@jupyter-widgets/controls",
      "model_module_version": "1.5.0",
      "model_name": "ButtonStyleModel",
      "state": {}
     },
     "ace29a3fc26c435f892ae5b4782e0109": {
      "model_module": "@jupyter-widgets/controls",
      "model_module_version": "1.5.0",
      "model_name": "SliderStyleModel",
      "state": {
       "description_width": ""
      }
     },
     "ad326f13c69a4d30a0a5510b1120a79d": {
      "model_module": "@jupyter-widgets/base",
      "model_module_version": "1.2.0",
      "model_name": "LayoutModel",
      "state": {}
     },
     "adfdc402029a461494e0c166d4891d73": {
      "model_module": "@jupyter-widgets/controls",
      "model_module_version": "1.5.0",
      "model_name": "IntSliderModel",
      "state": {
       "description": "n",
       "layout": "IPY_MODEL_6477452ab2e74acdae884758f0dda0f7",
       "max": 100000000,
       "min": 2,
       "step": 2,
       "style": "IPY_MODEL_a7e6a4ef81e44020a9ef4eaf20b74861",
       "value": 10
      }
     },
     "ae91784a44764583aac5e4351e9a2063": {
      "model_module": "@jupyter-widgets/output",
      "model_module_version": "1.0.0",
      "model_name": "OutputModel",
      "state": {
       "layout": "IPY_MODEL_b2bf9623958e45fd83bf5d1caffeac62",
       "outputs": [
        {
         "name": "stdout",
         "output_type": "stream",
         "text": "Real Value:\t\t 0.6931471805599453\nApproximated Value: 0.6928353604099602\n"
        }
       ]
      }
     },
     "af959122f3214f608ab469c535c3021b": {
      "model_module": "@jupyter-widgets/controls",
      "model_module_version": "1.5.0",
      "model_name": "VBoxModel",
      "state": {
       "_dom_classes": [
        "widget-interact"
       ],
       "children": [
        "IPY_MODEL_8ac86156d63e4f459578340fa146a341",
        "IPY_MODEL_eba74f516ef54b68a405cdf9204f6daf",
        "IPY_MODEL_1b0d100f881a4779b0c6ea8032c74f29",
        "IPY_MODEL_035fc28f66cc4a74ac21484d8c6962eb",
        "IPY_MODEL_36f5ffaf88624d2ebb44884dc3941588"
       ],
       "layout": "IPY_MODEL_3a170987dd104c8db585165c4e1bfbde"
      }
     },
     "afa5761c1be64a5892e4f982d6aac17f": {
      "model_module": "@jupyter-widgets/controls",
      "model_module_version": "1.5.0",
      "model_name": "VBoxModel",
      "state": {
       "_dom_classes": [
        "widget-interact"
       ],
       "children": [
        "IPY_MODEL_8e7fec18128c42729ebd076a6f3c22ce",
        "IPY_MODEL_9bb3df6a9f394bdfab3531c483e14142",
        "IPY_MODEL_327726f8d79c45cb9508f08732fc27a6",
        "IPY_MODEL_61d115a77e834bdd85a967ce7098a1b3",
        "IPY_MODEL_681f94f326354256a1737528e6e141ed"
       ],
       "layout": "IPY_MODEL_b631b24880f74e41b7f687dd78b89865"
      }
     },
     "afce59a366c942c8a6e4f993b958b24d": {
      "model_module": "@jupyter-widgets/base",
      "model_module_version": "1.2.0",
      "model_name": "LayoutModel",
      "state": {}
     },
     "b08498e878d1446d850ecb30b3e8c488": {
      "model_module": "@jupyter-widgets/controls",
      "model_module_version": "1.5.0",
      "model_name": "ButtonModel",
      "state": {
       "description": "Run Interact",
       "layout": "IPY_MODEL_a8c074f3d5ac4d25bdf33a44e3429266",
       "style": "IPY_MODEL_77f556f9e800498aa49a4e8c7fcb224a"
      }
     },
     "b0ccd157969e4cebb89911b3d7b98b87": {
      "model_module": "@jupyter-widgets/controls",
      "model_module_version": "1.5.0",
      "model_name": "SliderStyleModel",
      "state": {
       "description_width": ""
      }
     },
     "b0f787bf99014d26af910133f56f1b00": {
      "model_module": "@jupyter-widgets/base",
      "model_module_version": "1.2.0",
      "model_name": "LayoutModel",
      "state": {}
     },
     "b144d1a14f314e41b64564808cf28044": {
      "model_module": "@jupyter-widgets/controls",
      "model_module_version": "1.5.0",
      "model_name": "SliderStyleModel",
      "state": {
       "description_width": ""
      }
     },
     "b1a630d4875b4bc2b8876c38db0cdf78": {
      "model_module": "@jupyter-widgets/controls",
      "model_module_version": "1.5.0",
      "model_name": "VBoxModel",
      "state": {
       "_dom_classes": [
        "widget-interact"
       ],
       "children": [
        "IPY_MODEL_917eae8e4bbb495988951cd64f6cfe54",
        "IPY_MODEL_946cbd08ae494cc485b45a26202569e0",
        "IPY_MODEL_b4de449eb59d44508cab21ebae1542a8",
        "IPY_MODEL_9546739ccbf840d68f63db989820344b",
        "IPY_MODEL_1f13fa7f4a03492582836680ed87537e"
       ],
       "layout": "IPY_MODEL_54b0ab80be514d47a9d30a9b9e3955d0"
      }
     },
     "b20c6bb57cf949b48bba9100f4aca763": {
      "model_module": "@jupyter-widgets/controls",
      "model_module_version": "1.5.0",
      "model_name": "VBoxModel",
      "state": {
       "_dom_classes": [
        "widget-interact"
       ],
       "children": [
        "IPY_MODEL_059e95cc5fc74a9bb0bb1e1c31e22273",
        "IPY_MODEL_d544ee68e0604a018bbf35f48f776561",
        "IPY_MODEL_f8222be476c745719673780517ccf3c7",
        "IPY_MODEL_d8edbb309bce43018b33a620acf76140",
        "IPY_MODEL_5f22f1abbb1843f59ab1c1cddd3b70ae"
       ],
       "layout": "IPY_MODEL_69eca2f6956e4e2882653cf2aa009f81"
      }
     },
     "b24645e80ff8492aae077bd02f88f4a2": {
      "model_module": "@jupyter-widgets/output",
      "model_module_version": "1.0.0",
      "model_name": "OutputModel",
      "state": {
       "layout": "IPY_MODEL_4ce1cb23ebf846e39a5b231e4b393d2b"
      }
     },
     "b2675d55672749cdbb65140566641f37": {
      "model_module": "@jupyter-widgets/controls",
      "model_module_version": "1.5.0",
      "model_name": "VBoxModel",
      "state": {
       "_dom_classes": [
        "widget-interact"
       ],
       "children": [
        "IPY_MODEL_5f74e62e96464d488f8e0c8e556ef132",
        "IPY_MODEL_961351b00fc749d991bf8a6e30535c13",
        "IPY_MODEL_ed799f42d2e241f0a9a0008ab5de3d36",
        "IPY_MODEL_1338b2ccd1a3412cb5c5771606d5f3df",
        "IPY_MODEL_059ff6b1b97c42e7a0ad72581a4bc161"
       ],
       "layout": "IPY_MODEL_c519af00de4447d2a56cea28aeadbb96"
      }
     },
     "b290b93df64d4a7fa03606d63af9c44f": {
      "model_module": "@jupyter-widgets/base",
      "model_module_version": "1.2.0",
      "model_name": "LayoutModel",
      "state": {}
     },
     "b2bf9623958e45fd83bf5d1caffeac62": {
      "model_module": "@jupyter-widgets/base",
      "model_module_version": "1.2.0",
      "model_name": "LayoutModel",
      "state": {}
     },
     "b2cabd192918418e8f017d84031c723f": {
      "model_module": "@jupyter-widgets/controls",
      "model_module_version": "1.5.0",
      "model_name": "SliderStyleModel",
      "state": {
       "description_width": ""
      }
     },
     "b2e401189c64405287167bfee67747a6": {
      "model_module": "@jupyter-widgets/base",
      "model_module_version": "1.2.0",
      "model_name": "LayoutModel",
      "state": {}
     },
     "b3325496af174d37969c5f41e3ae40ed": {
      "model_module": "@jupyter-widgets/base",
      "model_module_version": "1.2.0",
      "model_name": "LayoutModel",
      "state": {}
     },
     "b3970ad535aa496ea8620bc8edcd6a99": {
      "model_module": "@jupyter-widgets/output",
      "model_module_version": "1.0.0",
      "model_name": "OutputModel",
      "state": {
       "layout": "IPY_MODEL_f16ec0338b32414ca894831d6503a5e1",
       "outputs": [
        {
         "name": "stdout",
         "output_type": "stream",
         "text": "Real Value: 3.332204510175204\nApproximated Value: 3.332204510175525\n"
        }
       ]
      }
     },
     "b3b123ee5023431ebcb32ce3ffca6037": {
      "model_module": "@jupyter-widgets/controls",
      "model_module_version": "1.5.0",
      "model_name": "ButtonModel",
      "state": {
       "description": "Run Interact",
       "layout": "IPY_MODEL_d11899b641774107a685debc603426e5",
       "style": "IPY_MODEL_269f4f6665204cb28e1291f60fd16309"
      }
     },
     "b3c3fd6e4c514b70ae4bf2586c59cade": {
      "model_module": "@jupyter-widgets/output",
      "model_module_version": "1.0.0",
      "model_name": "OutputModel",
      "state": {
       "layout": "IPY_MODEL_6c2d0ebcfbda4479b3700348bbd3c6a5",
       "outputs": [
        {
         "name": "stdout",
         "output_type": "stream",
         "text": "Real Value: 0.6931471805599453\nApproximated Value:  0.6928353604099602\n"
        }
       ]
      }
     },
     "b4de449eb59d44508cab21ebae1542a8": {
      "model_module": "@jupyter-widgets/controls",
      "model_module_version": "1.5.0",
      "model_name": "IntSliderModel",
      "state": {
       "description": "n",
       "layout": "IPY_MODEL_c80c32695ae8433c991a8d5b907a318b",
       "max": 100000000,
       "min": 1,
       "style": "IPY_MODEL_a9375658471a440c944502d667cabb1c",
       "value": 10
      }
     },
     "b52d406d85f54e9ea341777c56f8c667": {
      "model_module": "@jupyter-widgets/base",
      "model_module_version": "1.2.0",
      "model_name": "LayoutModel",
      "state": {}
     },
     "b54fedb8a2dc4ac7bb7a6bc12084b332": {
      "model_module": "@jupyter-widgets/base",
      "model_module_version": "1.2.0",
      "model_name": "LayoutModel",
      "state": {}
     },
     "b5b397579d86471088f65644b6b1748d": {
      "model_module": "@jupyter-widgets/controls",
      "model_module_version": "1.5.0",
      "model_name": "ButtonModel",
      "state": {
       "description": "Run Interact",
       "layout": "IPY_MODEL_d90cba6399e04f2a9dfeb1d34b1cf3db",
       "style": "IPY_MODEL_acd3bd46cbb54bccbfa5f2dddcf76596"
      }
     },
     "b5cd726e4b204c5f82dbae49a18d2912": {
      "model_module": "@jupyter-widgets/base",
      "model_module_version": "1.2.0",
      "model_name": "LayoutModel",
      "state": {}
     },
     "b631b24880f74e41b7f687dd78b89865": {
      "model_module": "@jupyter-widgets/base",
      "model_module_version": "1.2.0",
      "model_name": "LayoutModel",
      "state": {}
     },
     "b78d661aa2544d7087b4a84a824b5a0f": {
      "model_module": "@jupyter-widgets/controls",
      "model_module_version": "1.5.0",
      "model_name": "SliderStyleModel",
      "state": {
       "description_width": ""
      }
     },
     "b9eaad7a96d54cef926c38374111782b": {
      "model_module": "@jupyter-widgets/controls",
      "model_module_version": "1.5.0",
      "model_name": "IntSliderModel",
      "state": {
       "description": "n",
       "layout": "IPY_MODEL_3521cc48168243239534fe45c8a4a400",
       "max": 100000000,
       "min": 1,
       "style": "IPY_MODEL_a940d87fe1ba4091be2eb361de47ea3d",
       "value": 10
      }
     },
     "b9fa42b2d40940058cd2d808948ca7e5": {
      "model_module": "@jupyter-widgets/controls",
      "model_module_version": "1.5.0",
      "model_name": "SliderStyleModel",
      "state": {
       "description_width": ""
      }
     },
     "ba0bb8e8362e4abbbc952e6b1645d713": {
      "model_module": "@jupyter-widgets/controls",
      "model_module_version": "1.5.0",
      "model_name": "IntSliderModel",
      "state": {
       "description": "n",
       "layout": "IPY_MODEL_3c062d11ea0d40748a81a6e67fcd32d9",
       "max": 100000000,
       "min": 1,
       "style": "IPY_MODEL_36455b43673c4fab8f01f3b4805acb88",
       "value": 10
      }
     },
     "ba7502198e974f198b3f38346ca9b405": {
      "model_module": "@jupyter-widgets/output",
      "model_module_version": "1.0.0",
      "model_name": "OutputModel",
      "state": {
       "layout": "IPY_MODEL_b290b93df64d4a7fa03606d63af9c44f",
       "outputs": [
        {
         "name": "stdout",
         "output_type": "stream",
         "text": "Real Value:\t\t 0.6931471805599453\nApproximated Value:\t 0.6931486622091009\n"
        }
       ]
      }
     },
     "baee8af201a1430fa54996444ad70d83": {
      "model_module": "@jupyter-widgets/controls",
      "model_module_version": "1.5.0",
      "model_name": "IntSliderModel",
      "state": {
       "layout": "IPY_MODEL_d6ba77e56a744406ae2ed9153ab2f635",
       "style": "IPY_MODEL_8b4d2ad603524e2bb52ea16f7e1a9688"
      }
     },
     "bbb43bc0c8924f1a94a3b2d394a1ed81": {
      "model_module": "@jupyter-widgets/controls",
      "model_module_version": "1.5.0",
      "model_name": "FloatRangeSliderModel",
      "state": {
       "_model_name": "FloatRangeSliderModel",
       "_view_name": "FloatRangeSliderView",
       "description": "$[a, b]:$",
       "layout": "IPY_MODEL_1a28f9b333d14631983b88983e5bd02c",
       "step": 0.1,
       "style": "IPY_MODEL_c83e6c7a4abb4d0f8b843ea5f996a3e4",
       "value": [
        0,
        1.1
       ]
      }
     },
     "bc464a7a9b3f4bab8b19071027197ceb": {
      "model_module": "@jupyter-widgets/controls",
      "model_module_version": "1.5.0",
      "model_name": "SliderStyleModel",
      "state": {
       "description_width": ""
      }
     },
     "bc7a4651baf34f39b6036fc283c589f9": {
      "model_module": "@jupyter-widgets/base",
      "model_module_version": "1.2.0",
      "model_name": "LayoutModel",
      "state": {}
     },
     "bd32620b08414bb0802cf0833ff6bdac": {
      "model_module": "@jupyter-widgets/base",
      "model_module_version": "1.2.0",
      "model_name": "LayoutModel",
      "state": {}
     },
     "bde571c3a3bd407e903fb31f5d502697": {
      "model_module": "@jupyter-widgets/base",
      "model_module_version": "1.2.0",
      "model_name": "LayoutModel",
      "state": {}
     },
     "bdf84b22018244a9bbe42a1971ffb720": {
      "model_module": "@jupyter-widgets/controls",
      "model_module_version": "1.5.0",
      "model_name": "ButtonStyleModel",
      "state": {}
     },
     "be391bfa1c5a47d3bc9938dee3980491": {
      "model_module": "@jupyter-widgets/controls",
      "model_module_version": "1.5.0",
      "model_name": "IntSliderModel",
      "state": {
       "description": "$n: $",
       "layout": "IPY_MODEL_f249aec8281a405cb782de5a992ccf76",
       "max": 100000000,
       "min": 2,
       "step": 2,
       "style": "IPY_MODEL_090b242829f14c51ab50219c44b5107b",
       "value": 10
      }
     },
     "be9bbb828c434cf1b5ad04f4d497dbe0": {
      "model_module": "@jupyter-widgets/base",
      "model_module_version": "1.2.0",
      "model_name": "LayoutModel",
      "state": {}
     },
     "bf45f9b8475448ff81106cbdafa91467": {
      "model_module": "@jupyter-widgets/output",
      "model_module_version": "1.0.0",
      "model_name": "OutputModel",
      "state": {
       "layout": "IPY_MODEL_c08f291727844c968dd3382d69cb5136"
      }
     },
     "bfd66d7439834ef0b0964642db6472da": {
      "model_module": "@jupyter-widgets/output",
      "model_module_version": "1.0.0",
      "model_name": "OutputModel",
      "state": {
       "layout": "IPY_MODEL_c01b0e1ba6f74286b24759f9b90a377d",
       "outputs": [
        {
         "data": {
          "text/plain": "0.69314718055991"
         },
         "metadata": {},
         "output_type": "display_data"
        }
       ]
      }
     },
     "c01b0e1ba6f74286b24759f9b90a377d": {
      "model_module": "@jupyter-widgets/base",
      "model_module_version": "1.2.0",
      "model_name": "LayoutModel",
      "state": {}
     },
     "c06750a562124cca95237f00eb7c25b4": {
      "model_module": "@jupyter-widgets/controls",
      "model_module_version": "1.5.0",
      "model_name": "ButtonStyleModel",
      "state": {}
     },
     "c08f291727844c968dd3382d69cb5136": {
      "model_module": "@jupyter-widgets/base",
      "model_module_version": "1.2.0",
      "model_name": "LayoutModel",
      "state": {}
     },
     "c0c493c499b34af9b619804bd28e7f79": {
      "model_module": "@jupyter-widgets/controls",
      "model_module_version": "1.5.0",
      "model_name": "SliderStyleModel",
      "state": {
       "description_width": ""
      }
     },
     "c1a5f6b1b31e4eef8a8da450493bd88c": {
      "model_module": "@jupyter-widgets/controls",
      "model_module_version": "1.5.0",
      "model_name": "SliderStyleModel",
      "state": {
       "description_width": ""
      }
     },
     "c1b4ac7a6c8b45fd9196ad5d164957d2": {
      "model_module": "@jupyter-widgets/base",
      "model_module_version": "1.2.0",
      "model_name": "LayoutModel",
      "state": {}
     },
     "c1c0b2846a024a44a3f061098ca85ddf": {
      "model_module": "@jupyter-widgets/controls",
      "model_module_version": "1.5.0",
      "model_name": "ButtonStyleModel",
      "state": {}
     },
     "c1f9189d778e4b0f85231dd5fcb6edec": {
      "model_module": "@jupyter-widgets/base",
      "model_module_version": "1.2.0",
      "model_name": "LayoutModel",
      "state": {}
     },
     "c247605240cd488395f83cd54dc296d9": {
      "model_module": "@jupyter-widgets/controls",
      "model_module_version": "1.5.0",
      "model_name": "ButtonModel",
      "state": {
       "description": "Run Interact",
       "layout": "IPY_MODEL_a80d699017ab4172b28b39e75fcf2063",
       "style": "IPY_MODEL_93503befd07d448ba8ac7654c988a1af"
      }
     },
     "c2e5a8cf0ae64ae4887eec4505992fc0": {
      "model_module": "@jupyter-widgets/controls",
      "model_module_version": "1.5.0",
      "model_name": "ButtonModel",
      "state": {
       "description": "Run Interact",
       "layout": "IPY_MODEL_d9843d82b71e4eadac5d8502088b0495",
       "style": "IPY_MODEL_a19b42d33a5e4c57a747d79dd3e64c4c"
      }
     },
     "c41a4527cf7146298d1e657c5cfada1a": {
      "model_module": "@jupyter-widgets/base",
      "model_module_version": "1.2.0",
      "model_name": "LayoutModel",
      "state": {}
     },
     "c436bbbf3e1b4830a772063739f89fc1": {
      "model_module": "@jupyter-widgets/output",
      "model_module_version": "1.0.0",
      "model_name": "OutputModel",
      "state": {
       "layout": "IPY_MODEL_66c3ea2f573b4e8d9bad1d6c298237c9",
       "outputs": [
        {
         "ename": "TypingError",
         "evalue": "Failed in nopython mode pipeline (step: nopython frontend)\n\u001b[1m\u001b[1m\u001b[1m\u001b[1mFailed in nopython mode pipeline (step: nopython frontend)\n\u001b[1mNameError: name 'log' is not defined\u001b[0m\n\u001b[0m\u001b[1mDuring: resolving callee type: type(CPUDispatcher(<function realValue at 0x000001E68E684F70>))\u001b[0m\n\u001b[0m\u001b[1mDuring: typing of call at <ipython-input-298-7f6d8c616325> (7)\n\u001b[0m\n\u001b[0m\u001b[1mDuring: resolving callee type: type(CPUDispatcher(<function realValue at 0x000001E68E684F70>))\u001b[0m\n\u001b[0m\u001b[1mDuring: typing of call at <ipython-input-298-7f6d8c616325> (7)\n\u001b[0m\n\u001b[1m\nFile \"<ipython-input-298-7f6d8c616325>\", line 7:\u001b[0m\n\u001b[1mdef midpoint(a, b, n):\n    <source elided>\n    s = np.sum(f(x_mid))\n\u001b[1m    print(\"Real Value: \" + realValue(a, b))\n\u001b[0m    \u001b[1m^\u001b[0m\u001b[0m\n",
         "output_type": "error",
         "traceback": [
          "\u001b[1;31m---------------------------------------------------------------------------\u001b[0m",
          "\u001b[1;31mTypingError\u001b[0m                               Traceback (most recent call last)",
          "\u001b[1;32m~\\AppData\\Local\\Programs\\Python\\Python39\\lib\\site-packages\\ipywidgets\\widgets\\interaction.py\u001b[0m in \u001b[0;36mupdate\u001b[1;34m(self, *args)\u001b[0m\n\u001b[0;32m    254\u001b[0m                     \u001b[0mvalue\u001b[0m \u001b[1;33m=\u001b[0m \u001b[0mwidget\u001b[0m\u001b[1;33m.\u001b[0m\u001b[0mget_interact_value\u001b[0m\u001b[1;33m(\u001b[0m\u001b[1;33m)\u001b[0m\u001b[1;33m\u001b[0m\u001b[1;33m\u001b[0m\u001b[0m\n\u001b[0;32m    255\u001b[0m                     \u001b[0mself\u001b[0m\u001b[1;33m.\u001b[0m\u001b[0mkwargs\u001b[0m\u001b[1;33m[\u001b[0m\u001b[0mwidget\u001b[0m\u001b[1;33m.\u001b[0m\u001b[0m_kwarg\u001b[0m\u001b[1;33m]\u001b[0m \u001b[1;33m=\u001b[0m \u001b[0mvalue\u001b[0m\u001b[1;33m\u001b[0m\u001b[1;33m\u001b[0m\u001b[0m\n\u001b[1;32m--> 256\u001b[1;33m                 \u001b[0mself\u001b[0m\u001b[1;33m.\u001b[0m\u001b[0mresult\u001b[0m \u001b[1;33m=\u001b[0m \u001b[0mself\u001b[0m\u001b[1;33m.\u001b[0m\u001b[0mf\u001b[0m\u001b[1;33m(\u001b[0m\u001b[1;33m**\u001b[0m\u001b[0mself\u001b[0m\u001b[1;33m.\u001b[0m\u001b[0mkwargs\u001b[0m\u001b[1;33m)\u001b[0m\u001b[1;33m\u001b[0m\u001b[1;33m\u001b[0m\u001b[0m\n\u001b[0m\u001b[0;32m    257\u001b[0m                 \u001b[0mshow_inline_matplotlib_plots\u001b[0m\u001b[1;33m(\u001b[0m\u001b[1;33m)\u001b[0m\u001b[1;33m\u001b[0m\u001b[1;33m\u001b[0m\u001b[0m\n\u001b[0;32m    258\u001b[0m                 \u001b[1;32mif\u001b[0m \u001b[0mself\u001b[0m\u001b[1;33m.\u001b[0m\u001b[0mauto_display\u001b[0m \u001b[1;32mand\u001b[0m \u001b[0mself\u001b[0m\u001b[1;33m.\u001b[0m\u001b[0mresult\u001b[0m \u001b[1;32mis\u001b[0m \u001b[1;32mnot\u001b[0m \u001b[1;32mNone\u001b[0m\u001b[1;33m:\u001b[0m\u001b[1;33m\u001b[0m\u001b[1;33m\u001b[0m\u001b[0m\n",
          "\u001b[1;32m~\\AppData\\Local\\Programs\\Python\\Python39\\lib\\site-packages\\numba\\core\\dispatcher.py\u001b[0m in \u001b[0;36m_compile_for_args\u001b[1;34m(self, *args, **kws)\u001b[0m\n\u001b[0;32m    418\u001b[0m                 \u001b[0me\u001b[0m\u001b[1;33m.\u001b[0m\u001b[0mpatch_message\u001b[0m\u001b[1;33m(\u001b[0m\u001b[0mmsg\u001b[0m\u001b[1;33m)\u001b[0m\u001b[1;33m\u001b[0m\u001b[1;33m\u001b[0m\u001b[0m\n\u001b[0;32m    419\u001b[0m \u001b[1;33m\u001b[0m\u001b[0m\n\u001b[1;32m--> 420\u001b[1;33m             \u001b[0merror_rewrite\u001b[0m\u001b[1;33m(\u001b[0m\u001b[0me\u001b[0m\u001b[1;33m,\u001b[0m \u001b[1;34m'typing'\u001b[0m\u001b[1;33m)\u001b[0m\u001b[1;33m\u001b[0m\u001b[1;33m\u001b[0m\u001b[0m\n\u001b[0m\u001b[0;32m    421\u001b[0m         \u001b[1;32mexcept\u001b[0m \u001b[0merrors\u001b[0m\u001b[1;33m.\u001b[0m\u001b[0mUnsupportedError\u001b[0m \u001b[1;32mas\u001b[0m \u001b[0me\u001b[0m\u001b[1;33m:\u001b[0m\u001b[1;33m\u001b[0m\u001b[1;33m\u001b[0m\u001b[0m\n\u001b[0;32m    422\u001b[0m             \u001b[1;31m# Something unsupported is present in the user code, add help info\u001b[0m\u001b[1;33m\u001b[0m\u001b[1;33m\u001b[0m\u001b[1;33m\u001b[0m\u001b[0m\n",
          "\u001b[1;32m~\\AppData\\Local\\Programs\\Python\\Python39\\lib\\site-packages\\numba\\core\\dispatcher.py\u001b[0m in \u001b[0;36merror_rewrite\u001b[1;34m(e, issue_type)\u001b[0m\n\u001b[0;32m    359\u001b[0m                 \u001b[1;32mraise\u001b[0m \u001b[0me\u001b[0m\u001b[1;33m\u001b[0m\u001b[1;33m\u001b[0m\u001b[0m\n\u001b[0;32m    360\u001b[0m             \u001b[1;32melse\u001b[0m\u001b[1;33m:\u001b[0m\u001b[1;33m\u001b[0m\u001b[1;33m\u001b[0m\u001b[0m\n\u001b[1;32m--> 361\u001b[1;33m                 \u001b[1;32mraise\u001b[0m \u001b[0me\u001b[0m\u001b[1;33m.\u001b[0m\u001b[0mwith_traceback\u001b[0m\u001b[1;33m(\u001b[0m\u001b[1;32mNone\u001b[0m\u001b[1;33m)\u001b[0m\u001b[1;33m\u001b[0m\u001b[1;33m\u001b[0m\u001b[0m\n\u001b[0m\u001b[0;32m    362\u001b[0m \u001b[1;33m\u001b[0m\u001b[0m\n\u001b[0;32m    363\u001b[0m         \u001b[0margtypes\u001b[0m \u001b[1;33m=\u001b[0m \u001b[1;33m[\u001b[0m\u001b[1;33m]\u001b[0m\u001b[1;33m\u001b[0m\u001b[1;33m\u001b[0m\u001b[0m\n",
          "\u001b[1;31mTypingError\u001b[0m: Failed in nopython mode pipeline (step: nopython frontend)\n\u001b[1m\u001b[1m\u001b[1m\u001b[1mFailed in nopython mode pipeline (step: nopython frontend)\n\u001b[1mNameError: name 'log' is not defined\u001b[0m\n\u001b[0m\u001b[1mDuring: resolving callee type: type(CPUDispatcher(<function realValue at 0x000001E68E684F70>))\u001b[0m\n\u001b[0m\u001b[1mDuring: typing of call at <ipython-input-298-7f6d8c616325> (7)\n\u001b[0m\n\u001b[0m\u001b[1mDuring: resolving callee type: type(CPUDispatcher(<function realValue at 0x000001E68E684F70>))\u001b[0m\n\u001b[0m\u001b[1mDuring: typing of call at <ipython-input-298-7f6d8c616325> (7)\n\u001b[0m\n\u001b[1m\nFile \"<ipython-input-298-7f6d8c616325>\", line 7:\u001b[0m\n\u001b[1mdef midpoint(a, b, n):\n    <source elided>\n    s = np.sum(f(x_mid))\n\u001b[1m    print(\"Real Value: \" + realValue(a, b))\n\u001b[0m    \u001b[1m^\u001b[0m\u001b[0m\n"
         ]
        }
       ]
      }
     },
     "c4f244cb06d44458b4f55a1589addb37": {
      "model_module": "@jupyter-widgets/base",
      "model_module_version": "1.2.0",
      "model_name": "LayoutModel",
      "state": {}
     },
     "c519af00de4447d2a56cea28aeadbb96": {
      "model_module": "@jupyter-widgets/base",
      "model_module_version": "1.2.0",
      "model_name": "LayoutModel",
      "state": {}
     },
     "c546fe0d5cec44b8bb12de453664f6de": {
      "model_module": "@jupyter-widgets/controls",
      "model_module_version": "1.5.0",
      "model_name": "IntSliderModel",
      "state": {
       "description": "b",
       "layout": "IPY_MODEL_6b2c2d1a0dc5405b90c70ee4c9f525b1",
       "style": "IPY_MODEL_99d6d1a1b8444f0ba8147321f406ce01",
       "value": 50
      }
     },
     "c5a194bd422f4671be0779bcff6e0108": {
      "model_module": "@jupyter-widgets/controls",
      "model_module_version": "1.5.0",
      "model_name": "SliderStyleModel",
      "state": {
       "description_width": ""
      }
     },
     "c5a7578e990a47b5ab56f3bc073d8756": {
      "model_module": "@jupyter-widgets/controls",
      "model_module_version": "1.5.0",
      "model_name": "FloatRangeSliderModel",
      "state": {
       "_model_name": "FloatRangeSliderModel",
       "_view_name": "FloatRangeSliderView",
       "description": "$[a, b]:$",
       "layout": "IPY_MODEL_5988375554be47e283369e1b39ede764",
       "step": 0.1,
       "style": "IPY_MODEL_42297a114bfe4a4e9395a51f0793835b",
       "value": [
        0,
        1
       ]
      }
     },
     "c5ae1dd616844d80a78141ad3944f319": {
      "model_module": "@jupyter-widgets/controls",
      "model_module_version": "1.5.0",
      "model_name": "FloatRangeSliderModel",
      "state": {
       "_model_name": "FloatRangeSliderModel",
       "_view_name": "FloatRangeSliderView",
       "description": "[a, b]:",
       "layout": "IPY_MODEL_b2e401189c64405287167bfee67747a6",
       "step": 0.1,
       "style": "IPY_MODEL_737e55e6d7484ef6a7e34e0a2ef95039",
       "value": [
        0,
        1
       ]
      }
     },
     "c5d02fcf9b5443afbe15f147c8cdfe0e": {
      "model_module": "@jupyter-widgets/base",
      "model_module_version": "1.2.0",
      "model_name": "LayoutModel",
      "state": {}
     },
     "c5d602b3381a43eda445cd3ed67d116e": {
      "model_module": "@jupyter-widgets/base",
      "model_module_version": "1.2.0",
      "model_name": "LayoutModel",
      "state": {}
     },
     "c679149d9d9d439eb7bd50dd3431b643": {
      "model_module": "@jupyter-widgets/base",
      "model_module_version": "1.2.0",
      "model_name": "LayoutModel",
      "state": {}
     },
     "c681d2a08620424cbd49bc8bb05be5a6": {
      "model_module": "@jupyter-widgets/controls",
      "model_module_version": "1.5.0",
      "model_name": "SliderStyleModel",
      "state": {
       "description_width": ""
      }
     },
     "c6b442e27e3744119064be2b17f87b4c": {
      "model_module": "@jupyter-widgets/controls",
      "model_module_version": "1.5.0",
      "model_name": "IntSliderModel",
      "state": {
       "layout": "IPY_MODEL_0cb239e52a044569ae84006580073db4",
       "style": "IPY_MODEL_e9f8ed4b248f49d28aeb68cd2de180ad"
      }
     },
     "c6b78ea178d346d5adf1700ab1b75c98": {
      "model_module": "@jupyter-widgets/controls",
      "model_module_version": "1.5.0",
      "model_name": "VBoxModel",
      "state": {
       "_dom_classes": [
        "widget-interact"
       ],
       "children": [
        "IPY_MODEL_88a7b2ccd6104ad79c3f758205a58260",
        "IPY_MODEL_5fe49918a6dd46cbbf41b33c528ebd21",
        "IPY_MODEL_201fa955334f4dde9c64cc6d7cb5f24b",
        "IPY_MODEL_a2e1b48486cd4cdc872d367d97551bcc"
       ],
       "layout": "IPY_MODEL_615381a505334cc6a51a7faa1cb44d70"
      }
     },
     "c6efba9bde6e4512bac96dd5ac194219": {
      "model_module": "@jupyter-widgets/controls",
      "model_module_version": "1.5.0",
      "model_name": "FloatRangeSliderModel",
      "state": {
       "_model_name": "FloatRangeSliderModel",
       "_view_name": "FloatRangeSliderView",
       "description": "$[a, b]:$",
       "layout": "IPY_MODEL_37e35b761c2d48ccbeb334947f7d3830",
       "step": 0.1,
       "style": "IPY_MODEL_435c8e7999fb4f609cc8cd50341c5fe4",
       "value": [
        0,
        1
       ]
      }
     },
     "c6f6920454ec42179a43e74f5ea7c275": {
      "model_module": "@jupyter-widgets/controls",
      "model_module_version": "1.5.0",
      "model_name": "SliderStyleModel",
      "state": {
       "description_width": ""
      }
     },
     "c6fa652836044f669b5c6fee686dde71": {
      "model_module": "@jupyter-widgets/controls",
      "model_module_version": "1.5.0",
      "model_name": "IntSliderModel",
      "state": {
       "description": "b",
       "layout": "IPY_MODEL_1cebf6a1bef442538f78ad69d358ee68",
       "style": "IPY_MODEL_9bbbdd906e0e4bfc8d49c730ecddafab",
       "value": 1
      }
     },
     "c729e90d68764fd6b4a61a4830c3e553": {
      "model_module": "@jupyter-widgets/controls",
      "model_module_version": "1.5.0",
      "model_name": "IntSliderModel",
      "state": {
       "description": "n",
       "layout": "IPY_MODEL_7bdec13d7203480d989da0bee3b9bedf",
       "max": 100000000,
       "min": 1,
       "style": "IPY_MODEL_edf2bcf8aa714201a94219e09fc41eb1",
       "value": 10
      }
     },
     "c754a9649377494b96682e5c894c0a94": {
      "model_module": "@jupyter-widgets/controls",
      "model_module_version": "1.5.0",
      "model_name": "IntSliderModel",
      "state": {
       "description": "n",
       "layout": "IPY_MODEL_5509eef26f044201a91651c8133253ee",
       "max": 100000000,
       "min": 1,
       "style": "IPY_MODEL_cd5ef912525b47eca42a17ff6af04538",
       "value": 100000000
      }
     },
     "c77796ca0d5347ebba55e89ee17b1ff5": {
      "model_module": "@jupyter-widgets/controls",
      "model_module_version": "1.5.0",
      "model_name": "IntSliderModel",
      "state": {
       "description": "n",
       "layout": "IPY_MODEL_f0acafb2ef7a4398bd9d52708183ad69",
       "max": 100000000,
       "min": 1,
       "style": "IPY_MODEL_608d1cb3b73c495eb66380c8e4e1c302",
       "value": 87419375
      }
     },
     "c7784a5f4c3449df91c60c9ddd529205": {
      "model_module": "@jupyter-widgets/base",
      "model_module_version": "1.2.0",
      "model_name": "LayoutModel",
      "state": {}
     },
     "c80c32695ae8433c991a8d5b907a318b": {
      "model_module": "@jupyter-widgets/base",
      "model_module_version": "1.2.0",
      "model_name": "LayoutModel",
      "state": {}
     },
     "c83e6c7a4abb4d0f8b843ea5f996a3e4": {
      "model_module": "@jupyter-widgets/controls",
      "model_module_version": "1.5.0",
      "model_name": "SliderStyleModel",
      "state": {
       "description_width": ""
      }
     },
     "ca10d3883e4647c68faf60e38a8a67ac": {
      "model_module": "@jupyter-widgets/controls",
      "model_module_version": "1.5.0",
      "model_name": "SliderStyleModel",
      "state": {
       "description_width": ""
      }
     },
     "ca65472388c044c5b3e707812a43f4c6": {
      "model_module": "@jupyter-widgets/base",
      "model_module_version": "1.2.0",
      "model_name": "LayoutModel",
      "state": {}
     },
     "ca7b96a9b3f04aeb9fc49ee5c2588c54": {
      "model_module": "@jupyter-widgets/controls",
      "model_module_version": "1.5.0",
      "model_name": "SliderStyleModel",
      "state": {
       "description_width": ""
      }
     },
     "cb3569003527440cb32713ec55fa4106": {
      "model_module": "@jupyter-widgets/controls",
      "model_module_version": "1.5.0",
      "model_name": "VBoxModel",
      "state": {
       "_dom_classes": [
        "widget-interact"
       ],
       "children": [
        "IPY_MODEL_364baa59c58b40ca896d0555d0cd3976",
        "IPY_MODEL_16dae23184d34fc18b9413b2c28b99b8",
        "IPY_MODEL_8c85b0fe869a4eb5b7c0b6e6073b29fc",
        "IPY_MODEL_85699beeec4e4f7c818c499252a06a92"
       ],
       "layout": "IPY_MODEL_6fa19b26fb7b4afb9ed9398fd155a8a9"
      }
     },
     "cb3930d092b6488fbce1b89f5c9b0c77": {
      "model_module": "@jupyter-widgets/base",
      "model_module_version": "1.2.0",
      "model_name": "LayoutModel",
      "state": {}
     },
     "cbdd2b9c4e1a4e53a58c2310caf54ad5": {
      "model_module": "@jupyter-widgets/controls",
      "model_module_version": "1.5.0",
      "model_name": "SliderStyleModel",
      "state": {
       "description_width": ""
      }
     },
     "cbe71eaea75d49e7b28cb74ac5fe422d": {
      "model_module": "@jupyter-widgets/base",
      "model_module_version": "1.2.0",
      "model_name": "LayoutModel",
      "state": {}
     },
     "cc04f22bd6424e91add86faa71ceefe7": {
      "model_module": "@jupyter-widgets/controls",
      "model_module_version": "1.5.0",
      "model_name": "ButtonModel",
      "state": {
       "description": "Run Interact",
       "layout": "IPY_MODEL_8b13f1acb77e4616939cef84000389a4",
       "style": "IPY_MODEL_e713bd9fe46c4946be2e8ca31fe97cab"
      }
     },
     "cc8692df73594963b9783dab8782bd2c": {
      "model_module": "@jupyter-widgets/base",
      "model_module_version": "1.2.0",
      "model_name": "LayoutModel",
      "state": {}
     },
     "cd018d8b944645b6ae5d275632a38624": {
      "model_module": "@jupyter-widgets/base",
      "model_module_version": "1.2.0",
      "model_name": "LayoutModel",
      "state": {}
     },
     "cd5ef912525b47eca42a17ff6af04538": {
      "model_module": "@jupyter-widgets/controls",
      "model_module_version": "1.5.0",
      "model_name": "SliderStyleModel",
      "state": {
       "description_width": ""
      }
     },
     "cf6e9d7ad9f54ab3887f2974911b7872": {
      "model_module": "@jupyter-widgets/controls",
      "model_module_version": "1.5.0",
      "model_name": "IntSliderModel",
      "state": {
       "layout": "IPY_MODEL_6cfa7684cfa548ad84cd892b68ac2dd6",
       "style": "IPY_MODEL_ace29a3fc26c435f892ae5b4782e0109",
       "value": 1
      }
     },
     "cfa7d8eceab546b797a8b8baa214c18e": {
      "model_module": "@jupyter-widgets/controls",
      "model_module_version": "1.5.0",
      "model_name": "VBoxModel",
      "state": {
       "_dom_classes": [
        "widget-interact"
       ],
       "children": [
        "IPY_MODEL_3c4cd11120db4188a1af362d4164d88b",
        "IPY_MODEL_c6fa652836044f669b5c6fee686dde71",
        "IPY_MODEL_ef9d6b2554ff4b6698a46fffa236da99",
        "IPY_MODEL_1617e0a766894049b2a1b1c9536563a8",
        "IPY_MODEL_f88607fb54a34f9481cad06af9250fa1"
       ],
       "layout": "IPY_MODEL_8677a3c8282144c58d8aa3572d85305f"
      }
     },
     "cfb678f3eeef468bb87483a0a3387a5c": {
      "model_module": "@jupyter-widgets/base",
      "model_module_version": "1.2.0",
      "model_name": "LayoutModel",
      "state": {}
     },
     "cfdb2fc72b534e1080dd3b03af4e3222": {
      "model_module": "@jupyter-widgets/controls",
      "model_module_version": "1.5.0",
      "model_name": "IntSliderModel",
      "state": {
       "description": "$n: $",
       "layout": "IPY_MODEL_17c1024b402047389255547932c44e39",
       "max": 100000000,
       "min": 1,
       "style": "IPY_MODEL_f9ee0259b14949c29c04885bc0672b54",
       "value": 10
      }
     },
     "d11899b641774107a685debc603426e5": {
      "model_module": "@jupyter-widgets/base",
      "model_module_version": "1.2.0",
      "model_name": "LayoutModel",
      "state": {}
     },
     "d22738716bc24bd895f57ac9ee421f0b": {
      "model_module": "@jupyter-widgets/base",
      "model_module_version": "1.2.0",
      "model_name": "LayoutModel",
      "state": {}
     },
     "d23f0d0c66ab4914ab2c066a1d149b20": {
      "model_module": "@jupyter-widgets/controls",
      "model_module_version": "1.5.0",
      "model_name": "SliderStyleModel",
      "state": {
       "description_width": ""
      }
     },
     "d2c06f50180e456e955674035c171a40": {
      "model_module": "@jupyter-widgets/controls",
      "model_module_version": "1.5.0",
      "model_name": "SliderStyleModel",
      "state": {
       "description_width": ""
      }
     },
     "d44ea842eb0e47af8198c34098258576": {
      "model_module": "@jupyter-widgets/controls",
      "model_module_version": "1.5.0",
      "model_name": "VBoxModel",
      "state": {
       "_dom_classes": [
        "widget-interact"
       ],
       "children": [
        "IPY_MODEL_d85e423c93b2498d84b6991618235ef6",
        "IPY_MODEL_f1180a7508514a83be60f2047a26198f",
        "IPY_MODEL_2d9ef8465c594f7a897bd5e3e432a474",
        "IPY_MODEL_40b2e81209f64661a10839e81c09e699",
        "IPY_MODEL_73f5791740484b8180fdbf62c6668333"
       ],
       "layout": "IPY_MODEL_57a661423da44523a264ef60bc210471"
      }
     },
     "d47879c37c154d7aa32a6e9635c88d08": {
      "model_module": "@jupyter-widgets/controls",
      "model_module_version": "1.5.0",
      "model_name": "IntSliderModel",
      "state": {
       "description": "a",
       "layout": "IPY_MODEL_9af951a35ac44c47a100600d5ae8fe29",
       "style": "IPY_MODEL_c681d2a08620424cbd49bc8bb05be5a6"
      }
     },
     "d512ff72b79842e290bc6ae824c7e9bc": {
      "model_module": "@jupyter-widgets/controls",
      "model_module_version": "1.5.0",
      "model_name": "VBoxModel",
      "state": {
       "_dom_classes": [
        "widget-interact"
       ],
       "children": [
        "IPY_MODEL_56fd18b39d324099aaddfaddbe9a92d5",
        "IPY_MODEL_8eebd95bd1f24a009d2e1df52047be33",
        "IPY_MODEL_7d6b862ac0384ca098d760163a5fec02",
        "IPY_MODEL_efef2024ff124c66a03a0c9a47d975f0",
        "IPY_MODEL_8f0a48cd25994ef3a46ee16536284871"
       ],
       "layout": "IPY_MODEL_5600be5ce30847b4ab4fe56de4c0126a"
      }
     },
     "d544ee68e0604a018bbf35f48f776561": {
      "model_module": "@jupyter-widgets/controls",
      "model_module_version": "1.5.0",
      "model_name": "IntSliderModel",
      "state": {
       "description": "b",
       "layout": "IPY_MODEL_0b02e67bebd64fe1a3f668a0eb445580",
       "style": "IPY_MODEL_b9fa42b2d40940058cd2d808948ca7e5",
       "value": 1
      }
     },
     "d6ba77e56a744406ae2ed9153ab2f635": {
      "model_module": "@jupyter-widgets/base",
      "model_module_version": "1.2.0",
      "model_name": "LayoutModel",
      "state": {}
     },
     "d773fa42876447c2a824b92d92b8e17c": {
      "model_module": "@jupyter-widgets/controls",
      "model_module_version": "1.5.0",
      "model_name": "SliderStyleModel",
      "state": {
       "description_width": ""
      }
     },
     "d78ec81b8fe24b778af1ad7b33cb2da6": {
      "model_module": "@jupyter-widgets/base",
      "model_module_version": "1.2.0",
      "model_name": "LayoutModel",
      "state": {}
     },
     "d79f5d7e62694db59f8ad6c4aa4d188b": {
      "model_module": "@jupyter-widgets/controls",
      "model_module_version": "1.5.0",
      "model_name": "FloatRangeSliderModel",
      "state": {
       "_model_name": "FloatRangeSliderModel",
       "_view_name": "FloatRangeSliderView",
       "description": "$[a, b]:$",
       "layout": "IPY_MODEL_7a73498f02154c6b80da8af063416072",
       "step": 0.1,
       "style": "IPY_MODEL_26415ad947234bcf87a2d1f6e1a0cd91",
       "value": [
        0,
        1
       ]
      }
     },
     "d7cde54ea9f9456ba72a556af5f3fd7c": {
      "model_module": "@jupyter-widgets/controls",
      "model_module_version": "1.5.0",
      "model_name": "ButtonModel",
      "state": {
       "description": "Run Interact",
       "layout": "IPY_MODEL_338968ce1ee144b8b61d4ff1c7c7f5fc",
       "style": "IPY_MODEL_ac61696b03d24d09a903e07ed2b28da0"
      }
     },
     "d85e423c93b2498d84b6991618235ef6": {
      "model_module": "@jupyter-widgets/controls",
      "model_module_version": "1.5.0",
      "model_name": "IntSliderModel",
      "state": {
       "description": "a",
       "layout": "IPY_MODEL_489de6eba2ee418d8e112d9b81c3104d",
       "style": "IPY_MODEL_062a3eadbf6745cdaefa8b0027dd8d8a"
      }
     },
     "d872d5b7260b4c029d9b22328cc0dc61": {
      "model_module": "@jupyter-widgets/controls",
      "model_module_version": "1.5.0",
      "model_name": "SliderStyleModel",
      "state": {
       "description_width": ""
      }
     },
     "d8d772189b4744c5b4f8b1e5fbd8be5d": {
      "model_module": "@jupyter-widgets/controls",
      "model_module_version": "1.5.0",
      "model_name": "IntSliderModel",
      "state": {
       "description": "a",
       "layout": "IPY_MODEL_6458b33327e8499fa1a0f190ecf61a58",
       "style": "IPY_MODEL_c5a194bd422f4671be0779bcff6e0108"
      }
     },
     "d8edbb309bce43018b33a620acf76140": {
      "model_module": "@jupyter-widgets/controls",
      "model_module_version": "1.5.0",
      "model_name": "ButtonModel",
      "state": {
       "description": "Run Interact",
       "layout": "IPY_MODEL_77f79f3d2b5c414ea1a89d20e0871980",
       "style": "IPY_MODEL_7537e1017e964560af820fd54d99b21c"
      }
     },
     "d8f58071920f411f93f858d9d54194ac": {
      "model_module": "@jupyter-widgets/controls",
      "model_module_version": "1.5.0",
      "model_name": "SliderStyleModel",
      "state": {
       "description_width": ""
      }
     },
     "d90cba6399e04f2a9dfeb1d34b1cf3db": {
      "model_module": "@jupyter-widgets/base",
      "model_module_version": "1.2.0",
      "model_name": "LayoutModel",
      "state": {}
     },
     "d9843d82b71e4eadac5d8502088b0495": {
      "model_module": "@jupyter-widgets/base",
      "model_module_version": "1.2.0",
      "model_name": "LayoutModel",
      "state": {}
     },
     "da088dcf172c4fb98c4b24f66d7c0dae": {
      "model_module": "@jupyter-widgets/controls",
      "model_module_version": "1.5.0",
      "model_name": "ButtonStyleModel",
      "state": {}
     },
     "dac1f5d5e2414487b3c17f569cfc99fc": {
      "model_module": "@jupyter-widgets/controls",
      "model_module_version": "1.5.0",
      "model_name": "IntSliderModel",
      "state": {
       "description": "$n: $",
       "layout": "IPY_MODEL_f79b97ad8b2440cb9ee06d49d06d5d90",
       "max": 100000000,
       "min": 2,
       "step": 2,
       "style": "IPY_MODEL_de908d04f8d84b68b8aee109a4d93663",
       "value": 10
      }
     },
     "db3c51d0988547f7852fd84367e460dd": {
      "model_module": "@jupyter-widgets/controls",
      "model_module_version": "1.5.0",
      "model_name": "ButtonModel",
      "state": {
       "description": "Run Interact",
       "layout": "IPY_MODEL_73a34e8235804cd6864943caaa72a06a",
       "style": "IPY_MODEL_731325945eca4982a4a0a7433c2439ef"
      }
     },
     "dc6bf67d704042babae70de87450e11a": {
      "model_module": "@jupyter-widgets/base",
      "model_module_version": "1.2.0",
      "model_name": "LayoutModel",
      "state": {}
     },
     "dd309f39bfb24b83b6d4c1b64c616bb8": {
      "model_module": "@jupyter-widgets/base",
      "model_module_version": "1.2.0",
      "model_name": "LayoutModel",
      "state": {}
     },
     "dd4ac66077b040318b770283993cfe27": {
      "model_module": "@jupyter-widgets/controls",
      "model_module_version": "1.5.0",
      "model_name": "IntSliderModel",
      "state": {
       "description": "a",
       "layout": "IPY_MODEL_b3325496af174d37969c5f41e3ae40ed",
       "style": "IPY_MODEL_b2cabd192918418e8f017d84031c723f"
      }
     },
     "ddf7c704edce4f5cb29b2e843dd30b34": {
      "model_module": "@jupyter-widgets/base",
      "model_module_version": "1.2.0",
      "model_name": "LayoutModel",
      "state": {}
     },
     "de706901967c407c9c0f2c003e2101bc": {
      "model_module": "@jupyter-widgets/base",
      "model_module_version": "1.2.0",
      "model_name": "LayoutModel",
      "state": {}
     },
     "de908d04f8d84b68b8aee109a4d93663": {
      "model_module": "@jupyter-widgets/controls",
      "model_module_version": "1.5.0",
      "model_name": "SliderStyleModel",
      "state": {
       "description_width": ""
      }
     },
     "df9c4e2036b54bc7b11c3aad4324a40e": {
      "model_module": "@jupyter-widgets/base",
      "model_module_version": "1.2.0",
      "model_name": "LayoutModel",
      "state": {}
     },
     "e080e7abc8be41e781d9f3f292f4e0bf": {
      "model_module": "@jupyter-widgets/base",
      "model_module_version": "1.2.0",
      "model_name": "LayoutModel",
      "state": {}
     },
     "e090076a168c46c58c4ca0938a90391d": {
      "model_module": "@jupyter-widgets/base",
      "model_module_version": "1.2.0",
      "model_name": "LayoutModel",
      "state": {
       "width": "50%"
      }
     },
     "e0d100599e0a49799a22c08a7f7e4203": {
      "model_module": "@jupyter-widgets/base",
      "model_module_version": "1.2.0",
      "model_name": "LayoutModel",
      "state": {}
     },
     "e0f015524e554dc0b9685571848797eb": {
      "model_module": "@jupyter-widgets/base",
      "model_module_version": "1.2.0",
      "model_name": "LayoutModel",
      "state": {}
     },
     "e211440d690747feac8e96a43a8f3575": {
      "model_module": "@jupyter-widgets/base",
      "model_module_version": "1.2.0",
      "model_name": "LayoutModel",
      "state": {}
     },
     "e2a678158ce84975aeb90d17f9cd1239": {
      "model_module": "@jupyter-widgets/base",
      "model_module_version": "1.2.0",
      "model_name": "LayoutModel",
      "state": {
       "width": "50%"
      }
     },
     "e3901897cb0a4db5ae604ff85045a049": {
      "model_module": "@jupyter-widgets/controls",
      "model_module_version": "1.5.0",
      "model_name": "VBoxModel",
      "state": {
       "_dom_classes": [
        "widget-interact"
       ],
       "children": [
        "IPY_MODEL_c5ae1dd616844d80a78141ad3944f319",
        "IPY_MODEL_adfdc402029a461494e0c166d4891d73",
        "IPY_MODEL_0cef99ec8ba6410e8f492221735de442",
        "IPY_MODEL_bf45f9b8475448ff81106cbdafa91467"
       ],
       "layout": "IPY_MODEL_2ce84367cf7c4a84aefcd9bb385b11b2"
      }
     },
     "e3d990c8e405468eab9a7d68faf1fecb": {
      "model_module": "@jupyter-widgets/controls",
      "model_module_version": "1.5.0",
      "model_name": "SliderStyleModel",
      "state": {
       "description_width": ""
      }
     },
     "e4dacfc3b33b4a12b1d64856d7d2d793": {
      "model_module": "@jupyter-widgets/controls",
      "model_module_version": "1.5.0",
      "model_name": "ButtonStyleModel",
      "state": {}
     },
     "e5667da803cc4899b08ebb1cf5a110d5": {
      "model_module": "@jupyter-widgets/controls",
      "model_module_version": "1.5.0",
      "model_name": "SliderStyleModel",
      "state": {
       "description_width": ""
      }
     },
     "e7073bdab756484c913b5e098a53de0e": {
      "model_module": "@jupyter-widgets/base",
      "model_module_version": "1.2.0",
      "model_name": "LayoutModel",
      "state": {}
     },
     "e713bd9fe46c4946be2e8ca31fe97cab": {
      "model_module": "@jupyter-widgets/controls",
      "model_module_version": "1.5.0",
      "model_name": "ButtonStyleModel",
      "state": {}
     },
     "e726a2c3cbbd48f99a5655c97f5a0872": {
      "model_module": "@jupyter-widgets/controls",
      "model_module_version": "1.5.0",
      "model_name": "SliderStyleModel",
      "state": {
       "description_width": ""
      }
     },
     "e74bc795fcb847baab861e0b697d57c4": {
      "model_module": "@jupyter-widgets/output",
      "model_module_version": "1.0.0",
      "model_name": "OutputModel",
      "state": {
       "layout": "IPY_MODEL_5fcd08b30ed8448aa1b8cfc3442f5b87",
       "outputs": [
        {
         "data": {
          "text/plain": "0.6928353604099602"
         },
         "metadata": {},
         "output_type": "display_data"
        }
       ]
      }
     },
     "e7a9a5644e7b4a549cf23c05e1f39613": {
      "model_module": "@jupyter-widgets/base",
      "model_module_version": "1.2.0",
      "model_name": "LayoutModel",
      "state": {}
     },
     "e83e9c79781042519a2efcd5aef70931": {
      "model_module": "@jupyter-widgets/controls",
      "model_module_version": "1.5.0",
      "model_name": "VBoxModel",
      "state": {
       "_dom_classes": [
        "widget-interact"
       ],
       "children": [
        "IPY_MODEL_0b9bfc247d394de299a39ff30a2e32df",
        "IPY_MODEL_457cdecc47ba4b00b98b6af747fabb69",
        "IPY_MODEL_1fc01fa5ab2745558fd74b5a8b457105",
        "IPY_MODEL_9da5f2e0ee7c44ed8549344aa0877246",
        "IPY_MODEL_e74bc795fcb847baab861e0b697d57c4"
       ],
       "layout": "IPY_MODEL_e0f015524e554dc0b9685571848797eb"
      }
     },
     "e9a51d0bfc574161913054615a3bba29": {
      "model_module": "@jupyter-widgets/controls",
      "model_module_version": "1.5.0",
      "model_name": "ButtonModel",
      "state": {
       "description": "Run Interact",
       "layout": "IPY_MODEL_9283de4cadfe4b29be4ba66910c8c899",
       "style": "IPY_MODEL_bdf84b22018244a9bbe42a1971ffb720"
      }
     },
     "e9d3dfc45ed04c479d8c09718c98ac62": {
      "model_module": "@jupyter-widgets/controls",
      "model_module_version": "1.5.0",
      "model_name": "IntSliderModel",
      "state": {
       "description": "n",
       "layout": "IPY_MODEL_f8ce75b4fefc4c9ab3bcd27aa369e849",
       "max": 100000000,
       "min": 1,
       "style": "IPY_MODEL_1c9a0b2a537c4d65a7d12a1cb8fe0eb4",
       "value": 100000000
      }
     },
     "e9f8ed4b248f49d28aeb68cd2de180ad": {
      "model_module": "@jupyter-widgets/controls",
      "model_module_version": "1.5.0",
      "model_name": "SliderStyleModel",
      "state": {
       "description_width": ""
      }
     },
     "ea4f0b3931d14809956d8d3d15ef5516": {
      "model_module": "@jupyter-widgets/controls",
      "model_module_version": "1.5.0",
      "model_name": "ButtonModel",
      "state": {
       "description": "Run Interact",
       "layout": "IPY_MODEL_025870c49315451e9d29bdb73580b40d",
       "style": "IPY_MODEL_c1c0b2846a024a44a3f061098ca85ddf"
      }
     },
     "ea87908b0dea4ca187ae3e6bf1bd7a87": {
      "model_module": "@jupyter-widgets/controls",
      "model_module_version": "1.5.0",
      "model_name": "ButtonStyleModel",
      "state": {}
     },
     "eac0fffd96b2473b9f9d339fcf36a60d": {
      "model_module": "@jupyter-widgets/controls",
      "model_module_version": "1.5.0",
      "model_name": "IntSliderModel",
      "state": {
       "description": "a",
       "layout": "IPY_MODEL_783466689a5e4dc292bd1ce7e1853428",
       "style": "IPY_MODEL_39d1824d9f344e1fa85ebf2ad3903111"
      }
     },
     "eacc1813de8345fc9c527c6b61565d17": {
      "model_module": "@jupyter-widgets/base",
      "model_module_version": "1.2.0",
      "model_name": "LayoutModel",
      "state": {
       "width": "50%"
      }
     },
     "eb5ee97744bf47b59dfee9c85b407703": {
      "model_module": "@jupyter-widgets/controls",
      "model_module_version": "1.5.0",
      "model_name": "SliderStyleModel",
      "state": {
       "description_width": ""
      }
     },
     "eb5f58d4d771490a80612765dd149619": {
      "model_module": "@jupyter-widgets/controls",
      "model_module_version": "1.5.0",
      "model_name": "SliderStyleModel",
      "state": {
       "description_width": ""
      }
     },
     "eb76d900175a4f018b58cdf777bdf853": {
      "model_module": "@jupyter-widgets/controls",
      "model_module_version": "1.5.0",
      "model_name": "ButtonStyleModel",
      "state": {}
     },
     "eba74f516ef54b68a405cdf9204f6daf": {
      "model_module": "@jupyter-widgets/controls",
      "model_module_version": "1.5.0",
      "model_name": "IntSliderModel",
      "state": {
       "description": "b",
       "layout": "IPY_MODEL_f53dc50074b54c03baa9bdd3b23e84fb",
       "style": "IPY_MODEL_470bca23c25d4b80a4c85f10cfd8b527",
       "value": 1
      }
     },
     "eca99ccb60344f3c8c935bb169b81a5d": {
      "model_module": "@jupyter-widgets/base",
      "model_module_version": "1.2.0",
      "model_name": "LayoutModel",
      "state": {}
     },
     "ed799f42d2e241f0a9a0008ab5de3d36": {
      "model_module": "@jupyter-widgets/controls",
      "model_module_version": "1.5.0",
      "model_name": "IntSliderModel",
      "state": {
       "description": "n",
       "layout": "IPY_MODEL_0ca604ebdf1c4c1aa76762ef24c5e0b9",
       "max": 30,
       "min": -10,
       "style": "IPY_MODEL_8c316477363f49ba9a383e7709f71e86",
       "value": 10
      }
     },
     "ed890d5d53bd4374b2f6408f71ef4e4d": {
      "model_module": "@jupyter-widgets/base",
      "model_module_version": "1.2.0",
      "model_name": "LayoutModel",
      "state": {}
     },
     "edd63f33abb94dcd8dc8eaf1232784e3": {
      "model_module": "@jupyter-widgets/base",
      "model_module_version": "1.2.0",
      "model_name": "LayoutModel",
      "state": {}
     },
     "edf2bcf8aa714201a94219e09fc41eb1": {
      "model_module": "@jupyter-widgets/controls",
      "model_module_version": "1.5.0",
      "model_name": "SliderStyleModel",
      "state": {
       "description_width": ""
      }
     },
     "ef9d6b2554ff4b6698a46fffa236da99": {
      "model_module": "@jupyter-widgets/controls",
      "model_module_version": "1.5.0",
      "model_name": "IntSliderModel",
      "state": {
       "description": "n",
       "layout": "IPY_MODEL_210f184ec8ca4577bd2739cd35dbc4b7",
       "max": 100000000,
       "min": 1,
       "style": "IPY_MODEL_b144d1a14f314e41b64564808cf28044",
       "value": 10
      }
     },
     "efef2024ff124c66a03a0c9a47d975f0": {
      "model_module": "@jupyter-widgets/controls",
      "model_module_version": "1.5.0",
      "model_name": "ButtonModel",
      "state": {
       "description": "Run Interact",
       "layout": "IPY_MODEL_afce59a366c942c8a6e4f993b958b24d",
       "style": "IPY_MODEL_4c99d3435f164faf955bc0aea6411bbf"
      }
     },
     "f024ea6f68e34eff99498e95c62e5160": {
      "model_module": "@jupyter-widgets/output",
      "model_module_version": "1.0.0",
      "model_name": "OutputModel",
      "state": {
       "layout": "IPY_MODEL_bd32620b08414bb0802cf0833ff6bdac"
      }
     },
     "f02d8cee342f4d03b3ae986aaa836264": {
      "model_module": "@jupyter-widgets/controls",
      "model_module_version": "1.5.0",
      "model_name": "SliderStyleModel",
      "state": {
       "description_width": ""
      }
     },
     "f08c5df40ead430aabbc1e93e2feffd7": {
      "model_module": "@jupyter-widgets/controls",
      "model_module_version": "1.5.0",
      "model_name": "VBoxModel",
      "state": {
       "_dom_classes": [
        "widget-interact"
       ],
       "children": [
        "IPY_MODEL_0117a64ffc7d46c7a1237ac5243c639d",
        "IPY_MODEL_7db98597dd8a4f8280535cdc35b4edfc",
        "IPY_MODEL_b9eaad7a96d54cef926c38374111782b",
        "IPY_MODEL_207379b6690240b1a0795aaff630ce33",
        "IPY_MODEL_b3c3fd6e4c514b70ae4bf2586c59cade"
       ],
       "layout": "IPY_MODEL_cb3930d092b6488fbce1b89f5c9b0c77"
      }
     },
     "f0acafb2ef7a4398bd9d52708183ad69": {
      "model_module": "@jupyter-widgets/base",
      "model_module_version": "1.2.0",
      "model_name": "LayoutModel",
      "state": {}
     },
     "f11279329f60497a9532a51924d039b1": {
      "model_module": "@jupyter-widgets/base",
      "model_module_version": "1.2.0",
      "model_name": "LayoutModel",
      "state": {}
     },
     "f1180a7508514a83be60f2047a26198f": {
      "model_module": "@jupyter-widgets/controls",
      "model_module_version": "1.5.0",
      "model_name": "IntSliderModel",
      "state": {
       "description": "b",
       "layout": "IPY_MODEL_b0f787bf99014d26af910133f56f1b00",
       "style": "IPY_MODEL_4b1b91759025461e9317420be020e41a",
       "value": 1
      }
     },
     "f152395f4ced4e4c8aee9fb17a719cef": {
      "model_module": "@jupyter-widgets/controls",
      "model_module_version": "1.5.0",
      "model_name": "VBoxModel",
      "state": {
       "_dom_classes": [
        "widget-interact"
       ],
       "children": [
        "IPY_MODEL_17967fa22987404eab72e22652c084b6",
        "IPY_MODEL_39d6c670c3bc4d958fb1006ef0ec6071",
        "IPY_MODEL_b08498e878d1446d850ecb30b3e8c488",
        "IPY_MODEL_25c66bcfee8246458ac94af8ef34422b"
       ],
       "layout": "IPY_MODEL_130b867375f34f9aac1d85bc90dcc2f3"
      }
     },
     "f16ec0338b32414ca894831d6503a5e1": {
      "model_module": "@jupyter-widgets/base",
      "model_module_version": "1.2.0",
      "model_name": "LayoutModel",
      "state": {}
     },
     "f249aec8281a405cb782de5a992ccf76": {
      "model_module": "@jupyter-widgets/base",
      "model_module_version": "1.2.0",
      "model_name": "LayoutModel",
      "state": {
       "width": "50%"
      }
     },
     "f5220d2aa8904e9d99cfe57b61eb1f8e": {
      "model_module": "@jupyter-widgets/controls",
      "model_module_version": "1.5.0",
      "model_name": "SliderStyleModel",
      "state": {
       "description_width": ""
      }
     },
     "f53dc50074b54c03baa9bdd3b23e84fb": {
      "model_module": "@jupyter-widgets/base",
      "model_module_version": "1.2.0",
      "model_name": "LayoutModel",
      "state": {}
     },
     "f56878cf6371431fab93774ed87ea560": {
      "model_module": "@jupyter-widgets/controls",
      "model_module_version": "1.5.0",
      "model_name": "IntSliderModel",
      "state": {
       "description": "a",
       "layout": "IPY_MODEL_5e5eebfa0730469f8bbd242bc304b653",
       "style": "IPY_MODEL_1295b62f993848deb325f6eb8ea96781"
      }
     },
     "f699dc4e31b74c86a0ae9147dbb86727": {
      "model_module": "@jupyter-widgets/controls",
      "model_module_version": "1.5.0",
      "model_name": "FloatRangeSliderModel",
      "state": {
       "_model_name": "FloatRangeSliderModel",
       "_view_name": "FloatRangeSliderView",
       "description": "$[a, b]:$",
       "layout": "IPY_MODEL_cd018d8b944645b6ae5d275632a38624",
       "step": 0.1,
       "style": "IPY_MODEL_fea845af1cc24b8e99782f7bf1bdac9a",
       "value": [
        0,
        1
       ]
      }
     },
     "f6c2fdcdf3c1408da1bccd6c953cf768": {
      "model_module": "@jupyter-widgets/controls",
      "model_module_version": "1.5.0",
      "model_name": "IntSliderModel",
      "state": {
       "description": "a",
       "layout": "IPY_MODEL_c679149d9d9d439eb7bd50dd3431b643",
       "style": "IPY_MODEL_54423dd1067e47c7835c5979534e0ad1"
      }
     },
     "f6d700e44f7d4692a8e97e0191f45a5a": {
      "model_module": "@jupyter-widgets/output",
      "model_module_version": "1.0.0",
      "model_name": "OutputModel",
      "state": {
       "layout": "IPY_MODEL_e7073bdab756484c913b5e098a53de0e"
      }
     },
     "f70a7022ffb34968bed5dc44250ca47a": {
      "model_module": "@jupyter-widgets/controls",
      "model_module_version": "1.5.0",
      "model_name": "SliderStyleModel",
      "state": {
       "description_width": ""
      }
     },
     "f79b97ad8b2440cb9ee06d49d06d5d90": {
      "model_module": "@jupyter-widgets/base",
      "model_module_version": "1.2.0",
      "model_name": "LayoutModel",
      "state": {}
     },
     "f8222be476c745719673780517ccf3c7": {
      "model_module": "@jupyter-widgets/controls",
      "model_module_version": "1.5.0",
      "model_name": "IntSliderModel",
      "state": {
       "description": "n",
       "layout": "IPY_MODEL_81ad1b287af84b1d981cc9a21244ca8f",
       "max": 100000000,
       "min": 1,
       "style": "IPY_MODEL_aa72f91e11c24b3ca0ccf2e2ed17be91",
       "value": 10
      }
     },
     "f88607fb54a34f9481cad06af9250fa1": {
      "model_module": "@jupyter-widgets/output",
      "model_module_version": "1.0.0",
      "model_name": "OutputModel",
      "state": {
       "layout": "IPY_MODEL_695c93fef9b04fc6a888ab2ed569b4df",
       "outputs": [
        {
         "name": "stdout",
         "output_type": "stream",
         "text": "Real Value:  0.6931471805599453\nApproximated Value: \n0.6928353604099602\n"
        }
       ]
      }
     },
     "f8bdfbe1409c44db913d9f6e8a46b36a": {
      "model_module": "@jupyter-widgets/base",
      "model_module_version": "1.2.0",
      "model_name": "LayoutModel",
      "state": {}
     },
     "f8ccc5e26e404968bc33b93e10f0489a": {
      "model_module": "@jupyter-widgets/base",
      "model_module_version": "1.2.0",
      "model_name": "LayoutModel",
      "state": {}
     },
     "f8ce75b4fefc4c9ab3bcd27aa369e849": {
      "model_module": "@jupyter-widgets/base",
      "model_module_version": "1.2.0",
      "model_name": "LayoutModel",
      "state": {}
     },
     "f8ffbdd32b414eed8ed96ac5ba0bdf38": {
      "model_module": "@jupyter-widgets/base",
      "model_module_version": "1.2.0",
      "model_name": "LayoutModel",
      "state": {
       "width": "50%"
      }
     },
     "f99fdd924e2f4c7782feb6112ed388a2": {
      "model_module": "@jupyter-widgets/controls",
      "model_module_version": "1.5.0",
      "model_name": "SliderStyleModel",
      "state": {
       "description_width": ""
      }
     },
     "f9ee0259b14949c29c04885bc0672b54": {
      "model_module": "@jupyter-widgets/controls",
      "model_module_version": "1.5.0",
      "model_name": "SliderStyleModel",
      "state": {
       "description_width": ""
      }
     },
     "fa44952203344ac7b6e71f1af861f1ed": {
      "model_module": "@jupyter-widgets/base",
      "model_module_version": "1.2.0",
      "model_name": "LayoutModel",
      "state": {}
     },
     "fa760c436b184dbabeed8353dc63e4c5": {
      "model_module": "@jupyter-widgets/controls",
      "model_module_version": "1.5.0",
      "model_name": "ButtonStyleModel",
      "state": {}
     },
     "fa8ec7a02d014b3480b9573517210ec8": {
      "model_module": "@jupyter-widgets/controls",
      "model_module_version": "1.5.0",
      "model_name": "VBoxModel",
      "state": {
       "_dom_classes": [
        "widget-interact"
       ],
       "children": [
        "IPY_MODEL_a212e8d242a04507b4b7dded139556b0",
        "IPY_MODEL_30bd766033bf4eb491a92bf8d23efb83",
        "IPY_MODEL_04490536ed7a4970a3242f0af1bc1e1b",
        "IPY_MODEL_fdd82bc359ce43099e7ee3bc85d8a37b"
       ],
       "layout": "IPY_MODEL_56c9dae6d9944dc398f904e5fa77db8f"
      }
     },
     "faa11264f38e4c5caa08f0bf73271912": {
      "model_module": "@jupyter-widgets/output",
      "model_module_version": "1.0.0",
      "model_name": "OutputModel",
      "state": {
       "layout": "IPY_MODEL_fa44952203344ac7b6e71f1af861f1ed",
       "outputs": [
        {
         "name": "stderr",
         "output_type": "stream",
         "text": "<ipython-input-317-dd4fc568a9c7>:7: NumbaPerformanceWarning: \u001b[1m\u001b[1m\nThe keyword argument 'parallel=True' was specified but no transformation for parallel execution was possible.\n\nTo find out why, try turning on parallel diagnostics, see https://numba.pydata.org/numba-doc/latest/user/parallel.html#diagnostics for help.\n\u001b[1m\nFile \"<ipython-input-300-758d621bb16b>\", line 6:\u001b[0m\n\u001b[1m@njit(parallel=True)\n\u001b[1mdef realValue(a, b):\n\u001b[0m\u001b[1m^\u001b[0m\u001b[0m\n\u001b[0m\u001b[0m\n  print(\"Real Value:\\t\\t\", realValue(i[0], i[1]))\n"
        },
        {
         "name": "stdout",
         "output_type": "stream",
         "text": "Real Value:\t\t 1.764666178572529\nApproximated Value:\t 1.7555525332706672\n"
        }
       ]
      }
     },
     "fd765e137e134672bb53c212fdd9aee6": {
      "model_module": "@jupyter-widgets/controls",
      "model_module_version": "1.5.0",
      "model_name": "ButtonStyleModel",
      "state": {}
     },
     "fdd82bc359ce43099e7ee3bc85d8a37b": {
      "model_module": "@jupyter-widgets/output",
      "model_module_version": "1.0.0",
      "model_name": "OutputModel",
      "state": {
       "layout": "IPY_MODEL_56264bb157f1415390413ae3a5f4103f"
      }
     },
     "fe96bcc0ed514dbcb6767bb93d5a3684": {
      "model_module": "@jupyter-widgets/controls",
      "model_module_version": "1.5.0",
      "model_name": "SliderStyleModel",
      "state": {
       "description_width": ""
      }
     },
     "fea845af1cc24b8e99782f7bf1bdac9a": {
      "model_module": "@jupyter-widgets/controls",
      "model_module_version": "1.5.0",
      "model_name": "SliderStyleModel",
      "state": {
       "description_width": ""
      }
     },
     "feecc7ebade249529b3b1e8e12606d84": {
      "model_module": "@jupyter-widgets/base",
      "model_module_version": "1.2.0",
      "model_name": "LayoutModel",
      "state": {}
     },
     "ff5a4f1dfd5f4f82a1ab2acfaffd7a01": {
      "model_module": "@jupyter-widgets/base",
      "model_module_version": "1.2.0",
      "model_name": "LayoutModel",
      "state": {}
     },
     "ffe81e0fe25244a98ea4c3080c6f925e": {
      "model_module": "@jupyter-widgets/base",
      "model_module_version": "1.2.0",
      "model_name": "LayoutModel",
      "state": {}
     }
    },
    "version_major": 2,
    "version_minor": 0
   }
  }
 },
 "nbformat": 4,
 "nbformat_minor": 4
}
